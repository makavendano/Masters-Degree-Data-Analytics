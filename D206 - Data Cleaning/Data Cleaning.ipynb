{
 "cells": [
  {
   "cell_type": "markdown",
   "id": "44519136",
   "metadata": {},
   "source": [
    "## Data Cleaning \n",
    "\n",
    "The point of this project is to continue building proficiency in the data analytics life cycle with data preparation skills. I address exploring, transforming, and imputing data as well as handling outliers. I will write code to manipulate, structure, and clean data as well as to reduce features in data sets."
   ]
  },
  {
   "cell_type": "markdown",
   "id": "ce40c8a0",
   "metadata": {},
   "source": [
    "## Competencies\n",
    "\n",
    "__Predicting Obstacles in Data Analysis__<br>\n",
    "Predicts potential obstacles in data.<br>\n",
    "\n",
    "__Preparing Data for Analysis__ <br>\n",
    "Prepares data for analysis to address organizational needs. <br>\n",
    "\n",
    "__Manipulating Data for Analysis__<br>\n",
    "Writes reusable code to manipulate and clean data in preparation for analysis"
   ]
  },
  {
   "cell_type": "markdown",
   "id": "8555ee0e",
   "metadata": {},
   "source": [
    "## Write Up \n",
    "\n",
    "__Research Question__ <br>\n",
    "Which variables are most important when assessing the risk of patients being re-administered to the hospital?"
   ]
  },
  {
   "cell_type": "markdown",
   "id": "7b040da5",
   "metadata": {},
   "source": [
    "__Plan to assess the quality of data__<br>\n",
    "I plan to address the methods and techniques in cleaning the medical data set by focusing on duplicates, missing values, outliers, and the re-expression of categorical variables. Duplicates will be addressed by using the .duplicated() function in python combined with the .value_counts() function. First, the .duplicated() function uses a Boolean response to indicate is duplicates exist (True) or do not exist (False). The only issue with using this function is that it is limited to only the first and last 5 values which leaves out a large amount of the data set. This issue is solved through the combination of .duplicated() and .value_counts() functions. <br>\n",
    "\n",
    "Missing values will be detected through the .isnull().sum() functions which gives an exhaustive list of all variables and the number of null values found. I have also utilized a filter to get rid of those columns that have 0 null values found to zoom in on those variables that need to be addressed. This filter was created using the not equal operator (!=) and by putting it equal to 0 we can get rid of those variables that are already cleaned in terms of missing values. <br>\n",
    "\n",
    "Outliers will be detected using boxplots. Boxplots will be created in python using the matplotlib package and the .boxplot() function. The boxplot indicates outliers through dots outside of the boxplot whiskers. <br>\n",
    "\n",
    "Lastly, re-expression of categorical variables will be detected through a few functions including .select_dtypes() and a filter created by .nunique() to show only qualitative variables that have less than 3 unique values to show those variables that have yes or no values. "
   ]
  },
  {
   "cell_type": "markdown",
   "id": "7b74c446",
   "metadata": {},
   "source": [
    "__Justification of Approach__ <br>\n",
    "With duplicates in data, we are exposed to potential integrity threats including causing inaccuracies and skewing the data with unnecessary inflation. For this reason, it is necessary to address duplicates in our data. The approach that was used is justified due to providing Boolean values that indicate true or false for duplicate values (Nehme et al, n.d.). <br>\n",
    "\n",
    "Missing values can also negatively influence the data through possible integrity threats like inaccuracies and inflation or deflation of values. The approach that was used is justified due to the aggregation of missing values for each variable. This allows for the proper missing values and variables to be addressed. <br>\n",
    "\n",
    "Outliers, “can create analytic challenges by distorting individual measures or relationships and potentially leading to mistaken conclusions (Western Governors University, n.d.). The approach that was used is the boxplot method. This method shows the highest and lowest values that are reasonable and anything that goes beyond that is an outlier. (Western Governors University, n.d.) <br>\n",
    "\n",
    "The re-expression of categorical variables is important due to the risk of leaving them and having potentially incorrect interpretations. This is because, “leaving categorical fields as is data algorithms wouldn’t know that one value is larger than another.”  (Chantal, 2019) Also, it is important to note that we have a few variables that already have 1 and 0 values instead of yes or no values. This is important to make sure that the data stays consistent across all variables. The approach that is used to assess the re-expression of categorical values is justified due to the infallible filter showing only object/string data types that represents qualitative variables explicitly. <br>"
   ]
  },
  {
   "cell_type": "markdown",
   "id": "7ea2b473",
   "metadata": {},
   "source": [
    "## Code"
   ]
  },
  {
   "cell_type": "code",
   "execution_count": 5,
   "id": "2d77d929-d091-41b9-9137-03cbe24b523c",
   "metadata": {
    "tags": []
   },
   "outputs": [],
   "source": [
    "# Importing packages needed \n",
    "import pandas as pd\n",
    "import matplotlib.pyplot as plt\n",
    "import missingno as msno"
   ]
  },
  {
   "cell_type": "code",
   "execution_count": 6,
   "id": "b62e4e0f-e026-43a5-84b7-42820daba136",
   "metadata": {
    "tags": []
   },
   "outputs": [],
   "source": [
    "# Importing medical data csv and creating medical_data DataFrame\n",
    "medical_data = pd.read_csv(\"C:/Users/Makayla Avendano/Desktop/medical_raw_data.csv\")"
   ]
  },
  {
   "cell_type": "code",
   "execution_count": 9,
   "id": "6ad6bfea-c0bd-43e5-adc6-53f86e5db06e",
   "metadata": {
    "tags": []
   },
   "outputs": [
    {
     "name": "stdout",
     "output_type": "stream",
     "text": [
      "<class 'pandas.core.frame.DataFrame'>\n",
      "RangeIndex: 10000 entries, 0 to 9999\n",
      "Data columns (total 53 columns):\n",
      " #   Column              Non-Null Count  Dtype  \n",
      "---  ------              --------------  -----  \n",
      " 0   Unnamed: 0          10000 non-null  int64  \n",
      " 1   CaseOrder           10000 non-null  int64  \n",
      " 2   Customer_id         10000 non-null  object \n",
      " 3   Interaction         10000 non-null  object \n",
      " 4   UID                 10000 non-null  object \n",
      " 5   City                10000 non-null  object \n",
      " 6   State               10000 non-null  object \n",
      " 7   County              10000 non-null  object \n",
      " 8   Zip                 10000 non-null  int64  \n",
      " 9   Lat                 10000 non-null  float64\n",
      " 10  Lng                 10000 non-null  float64\n",
      " 11  Population          10000 non-null  int64  \n",
      " 12  Area                10000 non-null  object \n",
      " 13  Timezone            10000 non-null  object \n",
      " 14  Job                 10000 non-null  object \n",
      " 15  Children            7412 non-null   float64\n",
      " 16  Age                 7586 non-null   float64\n",
      " 17  Education           10000 non-null  object \n",
      " 18  Employment          10000 non-null  object \n",
      " 19  Income              7536 non-null   float64\n",
      " 20  Marital             10000 non-null  object \n",
      " 21  Gender              10000 non-null  object \n",
      " 22  ReAdmis             10000 non-null  object \n",
      " 23  VitD_levels         10000 non-null  float64\n",
      " 24  Doc_visits          10000 non-null  int64  \n",
      " 25  Full_meals_eaten    10000 non-null  int64  \n",
      " 26  VitD_supp           10000 non-null  int64  \n",
      " 27  Soft_drink          7533 non-null   object \n",
      " 28  Initial_admin       10000 non-null  object \n",
      " 29  HighBlood           10000 non-null  object \n",
      " 30  Stroke              10000 non-null  object \n",
      " 31  Complication_risk   10000 non-null  object \n",
      " 32  Overweight          9018 non-null   float64\n",
      " 33  Arthritis           10000 non-null  object \n",
      " 34  Diabetes            10000 non-null  object \n",
      " 35  Hyperlipidemia      10000 non-null  object \n",
      " 36  BackPain            10000 non-null  object \n",
      " 37  Anxiety             9016 non-null   float64\n",
      " 38  Allergic_rhinitis   10000 non-null  object \n",
      " 39  Reflux_esophagitis  10000 non-null  object \n",
      " 40  Asthma              10000 non-null  object \n",
      " 41  Services            10000 non-null  object \n",
      " 42  Initial_days        8944 non-null   float64\n",
      " 43  TotalCharge         10000 non-null  float64\n",
      " 44  Additional_charges  10000 non-null  float64\n",
      " 45  Item1               10000 non-null  int64  \n",
      " 46  Item2               10000 non-null  int64  \n",
      " 47  Item3               10000 non-null  int64  \n",
      " 48  Item4               10000 non-null  int64  \n",
      " 49  Item5               10000 non-null  int64  \n",
      " 50  Item6               10000 non-null  int64  \n",
      " 51  Item7               10000 non-null  int64  \n",
      " 52  Item8               10000 non-null  int64  \n",
      "dtypes: float64(11), int64(15), object(27)\n",
      "memory usage: 4.0+ MB\n"
     ]
    }
   ],
   "source": [
    "# Looking at columns, non-null counts and data types\n",
    "medical_data.info()"
   ]
  },
  {
   "cell_type": "markdown",
   "id": "9c286c06",
   "metadata": {},
   "source": [
    "__Duplicates__<br>\n",
    "When starting the data cleaning process, the first issue I addressed was duplicates. After using the .duplicated() function, I found that there were no duplicated values within the data set. "
   ]
  },
  {
   "cell_type": "code",
   "execution_count": 10,
   "id": "2c95073f-2d11-43fa-8739-f89629df748b",
   "metadata": {
    "tags": []
   },
   "outputs": [
    {
     "name": "stdout",
     "output_type": "stream",
     "text": [
      "0       False\n",
      "1       False\n",
      "2       False\n",
      "3       False\n",
      "4       False\n",
      "        ...  \n",
      "9995    False\n",
      "9996    False\n",
      "9997    False\n",
      "9998    False\n",
      "9999    False\n",
      "Length: 10000, dtype: bool\n"
     ]
    }
   ],
   "source": [
    "# Duplicates - Detection \n",
    "# Looking to verify duplicate values\n",
    "medical_duplicates = medical_data.duplicated()\n",
    "print(medical_duplicates)"
   ]
  },
  {
   "cell_type": "code",
   "execution_count": 11,
   "id": "544889a1-70bd-418a-b585-d53b37c7a2df",
   "metadata": {
    "tags": []
   },
   "outputs": [
    {
     "name": "stdout",
     "output_type": "stream",
     "text": [
      "False    10000\n",
      "Name: count, dtype: int64\n"
     ]
    }
   ],
   "source": [
    "# Looking at the count of duplicate values\n",
    "print(medical_duplicates.value_counts())"
   ]
  },
  {
   "cell_type": "markdown",
   "id": "77758b73",
   "metadata": {},
   "source": [
    "__Missing Values__<br>\n",
    "Looking at the missing values of the data set a total of 7 variables were missing values. The missing variables and the sum of all missing values are shown in the code output below. "
   ]
  },
  {
   "cell_type": "code",
   "execution_count": 12,
   "id": "38dc780c-26f2-4360-919d-19c097c7447e",
   "metadata": {
    "tags": []
   },
   "outputs": [
    {
     "data": {
      "text/plain": [
       "Unnamed: 0               0\n",
       "CaseOrder                0\n",
       "Customer_id              0\n",
       "Interaction              0\n",
       "UID                      0\n",
       "City                     0\n",
       "State                    0\n",
       "County                   0\n",
       "Zip                      0\n",
       "Lat                      0\n",
       "Lng                      0\n",
       "Population               0\n",
       "Area                     0\n",
       "Timezone                 0\n",
       "Job                      0\n",
       "Children              2588\n",
       "Age                   2414\n",
       "Education                0\n",
       "Employment               0\n",
       "Income                2464\n",
       "Marital                  0\n",
       "Gender                   0\n",
       "ReAdmis                  0\n",
       "VitD_levels              0\n",
       "Doc_visits               0\n",
       "Full_meals_eaten         0\n",
       "VitD_supp                0\n",
       "Soft_drink            2467\n",
       "Initial_admin            0\n",
       "HighBlood                0\n",
       "Stroke                   0\n",
       "Complication_risk        0\n",
       "Overweight             982\n",
       "Arthritis                0\n",
       "Diabetes                 0\n",
       "Hyperlipidemia           0\n",
       "BackPain                 0\n",
       "Anxiety                984\n",
       "Allergic_rhinitis        0\n",
       "Reflux_esophagitis       0\n",
       "Asthma                   0\n",
       "Services                 0\n",
       "Initial_days          1056\n",
       "TotalCharge              0\n",
       "Additional_charges       0\n",
       "Item1                    0\n",
       "Item2                    0\n",
       "Item3                    0\n",
       "Item4                    0\n",
       "Item5                    0\n",
       "Item6                    0\n",
       "Item7                    0\n",
       "Item8                    0\n",
       "dtype: int64"
      ]
     },
     "execution_count": 12,
     "metadata": {},
     "output_type": "execute_result"
    }
   ],
   "source": [
    "# Missing Values - Detection \n",
    "# Looking at the sum of all null values within each column\n",
    "medical_data.isnull().sum()"
   ]
  },
  {
   "cell_type": "code",
   "execution_count": 13,
   "id": "20ebafa4-99ff-4ee2-b207-18f6d47e3232",
   "metadata": {
    "tags": []
   },
   "outputs": [
    {
     "name": "stdout",
     "output_type": "stream",
     "text": [
      "Children        2588\n",
      "Age             2414\n",
      "Income          2464\n",
      "Soft_drink      2467\n",
      "Overweight       982\n",
      "Anxiety          984\n",
      "Initial_days    1056\n",
      "dtype: int64\n"
     ]
    }
   ],
   "source": [
    "# Filter non-null values out to show just the columns that have null values\n",
    "medical_null = medical_data.isnull().sum()\n",
    "medical_null_filtered = medical_null[medical_null !=0]\n",
    "print(medical_null_filtered)"
   ]
  },
  {
   "cell_type": "markdown",
   "id": "2ad190db",
   "metadata": {},
   "source": [
    "__Treatment of Missing Values__ <br>\n",
    "Missing values used the method called univariate statistical imputation. Univariate statistical imputation was used due to the added benefit of not reducing the sample size and the simple-to-understand procedure. Imputation was used to replace the current missing values with the mean, median, and mode based on the distribution of the data. The mean was replaced by variables that exhibit a uniform distribution including the age variable. The median was replaced by variables that exhibit a skewed distribution or a bi-modal distribution including the variables children, income, and initial days. Lastly, the median replaced categorical values along with Boolean values which include the variables soft drink, overweight, and anxiety. By using the histogram, mean, and median values before and after the replacement, we made sure the distribution of the data was not affected substantially. The soft drink variable only had categorical answers which was replaced with the mode of the variable. "
   ]
  },
  {
   "cell_type": "code",
   "execution_count": 14,
   "id": "85b4966e-1159-4947-91c3-a12924ff65ef",
   "metadata": {
    "tags": []
   },
   "outputs": [
    {
     "data": {
      "text/plain": [
       "(array([1880., 1858., 1094., 1113.,  739.,  126.,  145.,  154.,  157.,\n",
       "         146.]),\n",
       " array([ 0.,  1.,  2.,  3.,  4.,  5.,  6.,  7.,  8.,  9., 10.]),\n",
       " <BarContainer object of 10 artists>)"
      ]
     },
     "execution_count": 14,
     "metadata": {},
     "output_type": "execute_result"
    },
    {
     "data": {
      "image/png": "[encoded data removed]",
      "text/plain": [
       "<Figure size 640x480 with 1 Axes>"
      ]
     },
     "metadata": {},
     "output_type": "display_data"
    }
   ],
   "source": [
    "# Next we need to treat the missing values for the 7 variables above \n",
    "# 1. Examine Distribution\n",
    "plt.hist(medical_data['Children'])"
   ]
  },
  {
   "cell_type": "code",
   "execution_count": 15,
   "id": "da01c2d4-c1a2-4249-8b27-3e9e906fd464",
   "metadata": {
    "tags": []
   },
   "outputs": [
    {
     "name": "stdout",
     "output_type": "stream",
     "text": [
      "Children average 2.0982191041554237\n",
      "Children median 1.0\n"
     ]
    }
   ],
   "source": [
    "# 2. Examine Mean and median \n",
    "average_amount_children = medical_data['Children'].mean()\n",
    "median_amount_children = medical_data['Children'].median()\n",
    "\n",
    "print(\"Children average\", average_amount_children)\n",
    "print(\"Children median\", median_amount_children)"
   ]
  },
  {
   "cell_type": "code",
   "execution_count": 16,
   "id": "29ef4873-50ef-4874-b491-fd28f3a4308e",
   "metadata": {
    "tags": []
   },
   "outputs": [
    {
     "data": {
      "text/plain": [
       "0"
      ]
     },
     "execution_count": 16,
     "metadata": {},
     "output_type": "execute_result"
    }
   ],
   "source": [
    "# 3. Perform imputation\n",
    "medical_data['Children'].fillna(medical_data['Children'].median(), inplace = True)\n",
    "\n",
    "# 4. Verification to show that isnull values are 0 \n",
    "medical_data['Children'].isnull().sum()"
   ]
  },
  {
   "cell_type": "code",
   "execution_count": 17,
   "id": "52cd8f75-6028-44b2-8cf3-72bd1ce80e93",
   "metadata": {
    "tags": []
   },
   "outputs": [
    {
     "data": {
      "text/plain": [
       "(array([1880., 4446., 1094., 1113.,  739.,  126.,  145.,  154.,  157.,\n",
       "         146.]),\n",
       " array([ 0.,  1.,  2.,  3.,  4.,  5.,  6.,  7.,  8.,  9., 10.]),\n",
       " <BarContainer object of 10 artists>)"
      ]
     },
     "execution_count": 17,
     "metadata": {},
     "output_type": "execute_result"
    },
    {
     "data": {
      "image/png": "[encoded data removed]",
      "text/plain": [
       "<Figure size 640x480 with 1 Axes>"
      ]
     },
     "metadata": {},
     "output_type": "display_data"
    }
   ],
   "source": [
    "# 5. Verification to show that the adjustment did not alter the data too dramatically \n",
    "plt.hist(medical_data['Children'])"
   ]
  },
  {
   "cell_type": "code",
   "execution_count": 18,
   "id": "4c0d8996-b819-434d-a929-120a038b53f7",
   "metadata": {
    "tags": []
   },
   "outputs": [
    {
     "name": "stdout",
     "output_type": "stream",
     "text": [
      "Children 1.814\n",
      "Children 1.0\n"
     ]
    }
   ],
   "source": [
    "# 6. Verification of mean and median\n",
    "average_amount_children = medical_data['Children'].mean()\n",
    "median_children = medical_data['Children'].median()\n",
    "print(\"Children\", average_amount_children)\n",
    "print(\"Children\", median_children)"
   ]
  },
  {
   "cell_type": "code",
   "execution_count": 19,
   "id": "7298f29f-381b-4a10-8c34-d4b1f4f9088d",
   "metadata": {
    "tags": []
   },
   "outputs": [
    {
     "data": {
      "text/plain": [
       "(array([823., 761., 746., 753., 746., 739., 730., 765., 710., 813.]),\n",
       " array([18. , 25.1, 32.2, 39.3, 46.4, 53.5, 60.6, 67.7, 74.8, 81.9, 89. ]),\n",
       " <BarContainer object of 10 artists>)"
      ]
     },
     "execution_count": 19,
     "metadata": {},
     "output_type": "execute_result"
    },
    {
     "data": {
      "image/png": "[encoded data removed]",
      "text/plain": [
       "<Figure size 640x480 with 1 Axes>"
      ]
     },
     "metadata": {},
     "output_type": "display_data"
    }
   ],
   "source": [
    "# Treat missing values\n",
    "# 1. Examine Distribution\n",
    "plt.hist(medical_data['Age'])"
   ]
  },
  {
   "cell_type": "code",
   "execution_count": 20,
   "id": "e95a3002-b20c-4978-821e-8a9bafa8f386",
   "metadata": {
    "tags": []
   },
   "outputs": [
    {
     "name": "stdout",
     "output_type": "stream",
     "text": [
      "Age average 53.29567624571579\n",
      "Age median 53.0\n"
     ]
    }
   ],
   "source": [
    "# 2. Examine Mean and median \n",
    "average_age = medical_data['Age'].mean()\n",
    "median_age = medical_data['Age'].median()\n",
    "print(\"Age average\", average_age)\n",
    "print(\"Age median\", median_age)"
   ]
  },
  {
   "cell_type": "code",
   "execution_count": 21,
   "id": "7512184a-c55c-4e38-915b-3145bf26d931",
   "metadata": {
    "tags": []
   },
   "outputs": [
    {
     "data": {
      "text/plain": [
       "0"
      ]
     },
     "execution_count": 21,
     "metadata": {},
     "output_type": "execute_result"
    }
   ],
   "source": [
    "# 3. Perform imputation\n",
    "medical_data['Age'].fillna(medical_data['Age'].mean(), inplace = True)\n",
    "\n",
    "# 4. Verification to show that isnull values are 0 \n",
    "medical_data['Age'].isnull().sum()"
   ]
  },
  {
   "cell_type": "code",
   "execution_count": 22,
   "id": "59ab667f-33bf-4d04-b050-04206f022e07",
   "metadata": {
    "tags": []
   },
   "outputs": [
    {
     "data": {
      "text/plain": [
       "(array([ 823.,  761.,  746.,  753., 3160.,  739.,  730.,  765.,  710.,\n",
       "         813.]),\n",
       " array([18. , 25.1, 32.2, 39.3, 46.4, 53.5, 60.6, 67.7, 74.8, 81.9, 89. ]),\n",
       " <BarContainer object of 10 artists>)"
      ]
     },
     "execution_count": 22,
     "metadata": {},
     "output_type": "execute_result"
    },
    {
     "data": {
      "image/png": "[encoded data removed]",
      "text/plain": [
       "<Figure size 640x480 with 1 Axes>"
      ]
     },
     "metadata": {},
     "output_type": "display_data"
    }
   ],
   "source": [
    "# 5. Verification to show that the adjustment did not alter the data too dramatically \n",
    "plt.hist(medical_data['Age'])"
   ]
  },
  {
   "cell_type": "code",
   "execution_count": 23,
   "id": "faa86ad0-59ba-44d4-8f46-28ed90e3dfb3",
   "metadata": {
    "tags": []
   },
   "outputs": [
    {
     "name": "stdout",
     "output_type": "stream",
     "text": [
      "Age 53.29567624571578\n",
      "Age 53.29567624571579\n"
     ]
    }
   ],
   "source": [
    "# 6. Verification of mean \n",
    "average_age = medical_data['Age'].mean()\n",
    "median_age = medical_data['Age'].median()\n",
    "print(\"Age\", average_age)\n",
    "print(\"Age\", median_age)"
   ]
  },
  {
   "cell_type": "code",
   "execution_count": 24,
   "id": "fe880c43-77f6-428d-b4d4-75f946e366bc",
   "metadata": {
    "tags": []
   },
   "outputs": [
    {
     "data": {
      "text/plain": [
       "(array([2068., 2526., 1532.,  790.,  340.,  156.,   67.,   34.,   12.,\n",
       "          11.]),\n",
       " array([1.54080000e+02, 2.08635850e+04, 4.15730900e+04, 6.22825950e+04,\n",
       "        8.29921000e+04, 1.03701605e+05, 1.24411110e+05, 1.45120615e+05,\n",
       "        1.65830120e+05, 1.86539625e+05, 2.07249130e+05]),\n",
       " <BarContainer object of 10 artists>)"
      ]
     },
     "execution_count": 24,
     "metadata": {},
     "output_type": "execute_result"
    },
    {
     "data": {
      "image/png": "[encoded data removed]",
      "text/plain": [
       "<Figure size 640x480 with 1 Axes>"
      ]
     },
     "metadata": {},
     "output_type": "display_data"
    }
   ],
   "source": [
    "# Treat missing values\n",
    "# 1. Examine Distribution\n",
    "plt.hist(medical_data['Income'])"
   ]
  },
  {
   "cell_type": "code",
   "execution_count": 25,
   "id": "5a6ed025-4738-44d1-9053-d9cc2951227f",
   "metadata": {
    "tags": []
   },
   "outputs": [
    {
     "name": "stdout",
     "output_type": "stream",
     "text": [
      "Income average 40484.4382683121\n",
      "Income median 33942.28\n"
     ]
    }
   ],
   "source": [
    "# 2. Examine Mean and median \n",
    "average_income = medical_data['Income'].mean()\n",
    "median_income = medical_data['Income'].median()\n",
    "print(\"Income average\", average_income)\n",
    "print(\"Income median\", median_income)"
   ]
  },
  {
   "cell_type": "code",
   "execution_count": 26,
   "id": "ae8052cf-853b-40d1-b694-90e136f8dd12",
   "metadata": {
    "tags": []
   },
   "outputs": [
    {
     "data": {
      "text/plain": [
       "0"
      ]
     },
     "execution_count": 26,
     "metadata": {},
     "output_type": "execute_result"
    }
   ],
   "source": [
    "# 3. Perform imputation\n",
    "medical_data['Income'].fillna(medical_data['Income'].median(), inplace = True)\n",
    "\n",
    "# 4. Verification to show that isnull values are 0 \n",
    "medical_data['Income'].isnull().sum()"
   ]
  },
  {
   "cell_type": "code",
   "execution_count": 27,
   "id": "55e702aa-1442-4aa9-8205-3c889726011a",
   "metadata": {
    "tags": []
   },
   "outputs": [
    {
     "data": {
      "text/plain": [
       "(array([2068., 4990., 1532.,  790.,  340.,  156.,   67.,   34.,   12.,\n",
       "          11.]),\n",
       " array([1.54080000e+02, 2.08635850e+04, 4.15730900e+04, 6.22825950e+04,\n",
       "        8.29921000e+04, 1.03701605e+05, 1.24411110e+05, 1.45120615e+05,\n",
       "        1.65830120e+05, 1.86539625e+05, 2.07249130e+05]),\n",
       " <BarContainer object of 10 artists>)"
      ]
     },
     "execution_count": 27,
     "metadata": {},
     "output_type": "execute_result"
    },
    {
     "data": {
      "image/png": "[encoded data removed]",
      "text/plain": [
       "<Figure size 640x480 with 1 Axes>"
      ]
     },
     "metadata": {},
     "output_type": "display_data"
    }
   ],
   "source": [
    "# 5. Verification to show that the adjustment did not alter the data too dramatically \n",
    "plt.hist(medical_data['Income'])"
   ]
  },
  {
   "cell_type": "code",
   "execution_count": 28,
   "id": "688379fb-7bdb-4297-9831-b651b0813f16",
   "metadata": {
    "tags": []
   },
   "outputs": [
    {
     "name": "stdout",
     "output_type": "stream",
     "text": [
      "Income average 38872.450471000004\n",
      "Income median 33942.28\n"
     ]
    }
   ],
   "source": [
    "# 6. Verification of Mean and median \n",
    "average_income = medical_data['Income'].mean()\n",
    "median_income = medical_data['Income'].median()\n",
    "print(\"Income average\", average_income)\n",
    "print(\"Income median\", median_income)"
   ]
  },
  {
   "cell_type": "code",
   "execution_count": 29,
   "id": "aa8a4966-4287-41b6-a405-95c7bb7faf5c",
   "metadata": {
    "tags": []
   },
   "outputs": [
    {
     "data": {
      "text/plain": [
       "0"
      ]
     },
     "execution_count": 29,
     "metadata": {},
     "output_type": "execute_result"
    }
   ],
   "source": [
    "# Soft drink has categorical values (yes/no) so we will use the mode to replace the nulls\n",
    "medical_data['Soft_drink'] = medical_data['Soft_drink'].fillna(medical_data['Soft_drink'].mode()[0])\n",
    "medical_data['Soft_drink'].isnull().sum()"
   ]
  },
  {
   "cell_type": "code",
   "execution_count": 30,
   "id": "37911aa7-5624-4a8b-8838-efb648e5f047",
   "metadata": {
    "tags": []
   },
   "outputs": [
    {
     "data": {
      "text/plain": [
       "(array([2623.,    0.,    0.,    0.,    0.,    0.,    0.,    0.,    0.,\n",
       "        6395.]),\n",
       " array([0. , 0.1, 0.2, 0.3, 0.4, 0.5, 0.6, 0.7, 0.8, 0.9, 1. ]),\n",
       " <BarContainer object of 10 artists>)"
      ]
     },
     "execution_count": 30,
     "metadata": {},
     "output_type": "execute_result"
    },
    {
     "data": {
      "image/png": "[encoded data removed]",
      "text/plain": [
       "<Figure size 640x480 with 1 Axes>"
      ]
     },
     "metadata": {},
     "output_type": "display_data"
    }
   ],
   "source": [
    "# Treat missing values\n",
    "# 1. Examine Distribution\n",
    "plt.hist(medical_data['Overweight'])"
   ]
  },
  {
   "cell_type": "code",
   "execution_count": 31,
   "id": "688a0320-2287-4143-ae56-6917c294deca",
   "metadata": {
    "tags": []
   },
   "outputs": [
    {
     "name": "stdout",
     "output_type": "stream",
     "text": [
      "Overweight average 0.7091372809935684\n",
      "Overweight median 1.0\n"
     ]
    }
   ],
   "source": [
    "# 2. Examine Mean and median \n",
    "overweight_average = medical_data['Overweight'].mean()\n",
    "overweight_median = medical_data['Overweight'].median()\n",
    "print(\"Overweight average\", overweight_average)\n",
    "print(\"Overweight median\", overweight_median)"
   ]
  },
  {
   "cell_type": "code",
   "execution_count": 32,
   "id": "7dacec24-5a73-47eb-9ace-c7931f9042fb",
   "metadata": {},
   "outputs": [
    {
     "data": {
      "text/plain": [
       "0"
      ]
     },
     "execution_count": 32,
     "metadata": {},
     "output_type": "execute_result"
    }
   ],
   "source": [
    "#3 Use the mode to change the null values \n",
    "medical_data['Overweight'] = medical_data['Overweight'].fillna(medical_data['Overweight'].mode()[0])\n",
    "medical_data['Overweight'].isnull().sum()"
   ]
  },
  {
   "cell_type": "code",
   "execution_count": 33,
   "id": "d79ec214-5a75-40cc-89e6-78e0242d2d2e",
   "metadata": {},
   "outputs": [
    {
     "data": {
      "text/plain": [
       "(array([2623.,    0.,    0.,    0.,    0.,    0.,    0.,    0.,    0.,\n",
       "        7377.]),\n",
       " array([0. , 0.1, 0.2, 0.3, 0.4, 0.5, 0.6, 0.7, 0.8, 0.9, 1. ]),\n",
       " <BarContainer object of 10 artists>)"
      ]
     },
     "execution_count": 33,
     "metadata": {},
     "output_type": "execute_result"
    },
    {
     "data": {
      "image/png": "[encoded data removed]",
      "text/plain": [
       "<Figure size 640x480 with 1 Axes>"
      ]
     },
     "metadata": {},
     "output_type": "display_data"
    }
   ],
   "source": [
    "# 4. Verification to show that the adjustment did not alter the data too dramatically \n",
    "plt.hist(medical_data['Overweight'])"
   ]
  },
  {
   "cell_type": "code",
   "execution_count": 34,
   "id": "f139f1d1-e6ee-4930-8a53-9e82bdae6d9a",
   "metadata": {},
   "outputs": [
    {
     "name": "stdout",
     "output_type": "stream",
     "text": [
      "Overweight average 0.7377\n",
      "Overweight median 1.0\n"
     ]
    }
   ],
   "source": [
    "# 5. Verification of Mean and median \n",
    "average_income = medical_data['Overweight'].mean()\n",
    "median_income = medical_data['Overweight'].median()\n",
    "print(\"Overweight average\", average_income)\n",
    "print(\"Overweight median\", median_income)"
   ]
  },
  {
   "cell_type": "code",
   "execution_count": 35,
   "id": "ce09d35e-8a57-484e-aa81-8d0c7abe3532",
   "metadata": {},
   "outputs": [
    {
     "data": {
      "text/plain": [
       "(array([6110.,    0.,    0.,    0.,    0.,    0.,    0.,    0.,    0.,\n",
       "        2906.]),\n",
       " array([0. , 0.1, 0.2, 0.3, 0.4, 0.5, 0.6, 0.7, 0.8, 0.9, 1. ]),\n",
       " <BarContainer object of 10 artists>)"
      ]
     },
     "execution_count": 35,
     "metadata": {},
     "output_type": "execute_result"
    },
    {
     "data": {
      "image/png": "[encoded data removed]",
      "text/plain": [
       "<Figure size 640x480 with 1 Axes>"
      ]
     },
     "metadata": {},
     "output_type": "display_data"
    }
   ],
   "source": [
    "# Treat missing values\n",
    "# 1. Examine Distribution\n",
    "plt.hist(medical_data['Anxiety'])"
   ]
  },
  {
   "cell_type": "code",
   "execution_count": 36,
   "id": "952fabe2-6624-45f1-b75b-337311c1ba57",
   "metadata": {
    "tags": []
   },
   "outputs": [
    {
     "name": "stdout",
     "output_type": "stream",
     "text": [
      "Anxiety average 0.3223158828748891\n",
      "Anxiety median 0.0\n"
     ]
    }
   ],
   "source": [
    "# 2. Examine Mean and median \n",
    "anxiety_average = medical_data['Anxiety'].mean()\n",
    "anxiety_median = medical_data['Anxiety'].median()\n",
    "print(\"Anxiety average\", anxiety_average)\n",
    "print(\"Anxiety median\", anxiety_median)"
   ]
  },
  {
   "cell_type": "code",
   "execution_count": 37,
   "id": "6858876e-94ab-4016-8fa4-d267bcae102b",
   "metadata": {
    "tags": []
   },
   "outputs": [
    {
     "data": {
      "text/plain": [
       "0"
      ]
     },
     "execution_count": 37,
     "metadata": {},
     "output_type": "execute_result"
    }
   ],
   "source": [
    "#3 Use the mode to change the null values \n",
    "medical_data['Anxiety'] = medical_data['Anxiety'].fillna(medical_data['Anxiety'].mode()[0])\n",
    "medical_data['Anxiety'].isnull().sum()"
   ]
  },
  {
   "cell_type": "code",
   "execution_count": 38,
   "id": "dd7727df-d550-4a2a-91d8-9d22d2899a8b",
   "metadata": {
    "tags": []
   },
   "outputs": [
    {
     "data": {
      "text/plain": [
       "(array([7094.,    0.,    0.,    0.,    0.,    0.,    0.,    0.,    0.,\n",
       "        2906.]),\n",
       " array([0. , 0.1, 0.2, 0.3, 0.4, 0.5, 0.6, 0.7, 0.8, 0.9, 1. ]),\n",
       " <BarContainer object of 10 artists>)"
      ]
     },
     "execution_count": 38,
     "metadata": {},
     "output_type": "execute_result"
    },
    {
     "data": {
      "image/png": "[encoded data removed]",
      "text/plain": [
       "<Figure size 640x480 with 1 Axes>"
      ]
     },
     "metadata": {},
     "output_type": "display_data"
    }
   ],
   "source": [
    "# 4. Verification to show that the adjustment did not alter the data too dramatically \n",
    "plt.hist(medical_data['Anxiety'])"
   ]
  },
  {
   "cell_type": "code",
   "execution_count": 39,
   "id": "0b3e6377-acd1-4695-9d11-2dbda772d73f",
   "metadata": {
    "tags": []
   },
   "outputs": [
    {
     "name": "stdout",
     "output_type": "stream",
     "text": [
      "Anxiety average 0.2906\n",
      "Anxiety median 0.0\n"
     ]
    }
   ],
   "source": [
    "# 5. Verification of Mean and median \n",
    "anxiety_average = medical_data['Anxiety'].mean()\n",
    "anxiety_median = medical_data['Anxiety'].median()\n",
    "print(\"Anxiety average\", anxiety_average)\n",
    "print(\"Anxiety median\", anxiety_median)"
   ]
  },
  {
   "cell_type": "code",
   "execution_count": 40,
   "id": "5f1a9e54-4a93-46ec-bb76-5fa03f1f7435",
   "metadata": {
    "tags": []
   },
   "outputs": [
    {
     "data": {
      "text/plain": [
       "(array([2288., 1429.,  599.,  134.,   32.,  235.,  502.,  916., 1314.,\n",
       "        1495.]),\n",
       " array([ 1.00198092,  8.09993146, 15.197882  , 22.29583253, 29.39378307,\n",
       "        36.49173361, 43.58968415, 50.68763469, 57.78558522, 64.88353576,\n",
       "        71.9814863 ]),\n",
       " <BarContainer object of 10 artists>)"
      ]
     },
     "execution_count": 40,
     "metadata": {},
     "output_type": "execute_result"
    },
    {
     "data": {
      "image/png": "[encoded data removed]",
      "text/plain": [
       "<Figure size 640x480 with 1 Axes>"
      ]
     },
     "metadata": {},
     "output_type": "display_data"
    }
   ],
   "source": [
    "# Treat missing values\n",
    "# 1. Examine Distribution \n",
    "plt.hist(medical_data['Initial_days'])"
   ]
  },
  {
   "cell_type": "code",
   "execution_count": 41,
   "id": "2a5c27d6-2f7c-4d9d-9e98-bb65ae8f78e3",
   "metadata": {
    "tags": []
   },
   "outputs": [
    {
     "name": "stdout",
     "output_type": "stream",
     "text": [
      "Initial_days average 34.432081888043044\n",
      "Initial_days median 34.44694129\n"
     ]
    }
   ],
   "source": [
    "# 2. Examine Mean and median \n",
    "overweight_average = medical_data['Initial_days'].mean()\n",
    "overweight_median = medical_data['Initial_days'].median()\n",
    "print(\"Initial_days average\", overweight_average)\n",
    "print(\"Initial_days median\", overweight_median)"
   ]
  },
  {
   "cell_type": "code",
   "execution_count": 42,
   "id": "6a41934d-8835-4a8a-b468-fa2be23edf17",
   "metadata": {},
   "outputs": [
    {
     "data": {
      "text/plain": [
       "0"
      ]
     },
     "execution_count": 42,
     "metadata": {},
     "output_type": "execute_result"
    }
   ],
   "source": [
    "# 3. Perform imputation (bi-modal distribution - substitute with median) \n",
    "medical_data['Initial_days'].fillna(medical_data['Initial_days'].median(), inplace = True)\n",
    "\n",
    "# 4. Verification to show that isnull values are 0 \n",
    "medical_data['Initial_days'].isnull().sum()"
   ]
  },
  {
   "cell_type": "code",
   "execution_count": 43,
   "id": "d92034cf-2857-42cf-a996-fb46d5872787",
   "metadata": {
    "tags": []
   },
   "outputs": [
    {
     "data": {
      "text/plain": [
       "(array([2288., 1429.,  599.,  134., 1088.,  235.,  502.,  916., 1314.,\n",
       "        1495.]),\n",
       " array([ 1.00198092,  8.09993146, 15.197882  , 22.29583253, 29.39378307,\n",
       "        36.49173361, 43.58968415, 50.68763469, 57.78558522, 64.88353576,\n",
       "        71.9814863 ]),\n",
       " <BarContainer object of 10 artists>)"
      ]
     },
     "execution_count": 43,
     "metadata": {},
     "output_type": "execute_result"
    },
    {
     "data": {
      "image/png": "[encoded data removed]",
      "text/plain": [
       "<Figure size 640x480 with 1 Axes>"
      ]
     },
     "metadata": {},
     "output_type": "display_data"
    }
   ],
   "source": [
    "# 5. Verification to show that the adjustment did not alter the data too dramatically \n",
    "plt.hist(medical_data['Initial_days'])"
   ]
  },
  {
   "cell_type": "code",
   "execution_count": 44,
   "id": "255d37dd-6f85-4f29-ad86-d52cec13e174",
   "metadata": {
    "tags": []
   },
   "outputs": [
    {
     "name": "stdout",
     "output_type": "stream",
     "text": [
      "Initial_days average 34.4336510408897\n",
      "Initial_days median 34.44694129\n"
     ]
    }
   ],
   "source": [
    "# 6. Verification of Mean and median \n",
    "average_income = medical_data['Initial_days'].mean()\n",
    "median_income = medical_data['Initial_days'].median()\n",
    "print(\"Initial_days average\", average_income)\n",
    "print(\"Initial_days median\", median_income)"
   ]
  },
  {
   "cell_type": "code",
   "execution_count": 45,
   "id": "844c8cd6-a90b-47e9-8463-0c0e95c61e32",
   "metadata": {
    "tags": []
   },
   "outputs": [
    {
     "data": {
      "text/plain": [
       "<Axes: >"
      ]
     },
     "execution_count": 45,
     "metadata": {},
     "output_type": "execute_result"
    },
    {
     "data": {
      "image/png": "[encoded data removed]",
      "text/plain": [
       "<Figure size 2500x1000 with 2 Axes>"
      ]
     },
     "metadata": {},
     "output_type": "display_data"
    }
   ],
   "source": [
    "# Indicates no missing values\n",
    "msno.matrix(medical_data)"
   ]
  },
  {
   "cell_type": "markdown",
   "id": "3b456d49",
   "metadata": {},
   "source": [
    "__Outliers__ <br>\n",
    "To look at the outliers we focus on all quantitative variables. There are 21 quantitative variables within this data set. <br>\n",
    "\n",
    "Outliers were treated with the retain method. All outliers found were within reason and were not a preexisting error, therefore all outliers were kept and not treated. Out of the 21 quantitative variables 17 variables had outliers. All outlier values were listed above in D1 with the boxplots. Below is a detailed explanation for each variable that has outliers: "
   ]
  },
  {
   "cell_type": "code",
   "execution_count": 46,
   "id": "0f8f9c3f-4179-4a3e-a07a-7ab2010072c6",
   "metadata": {},
   "outputs": [
    {
     "data": {
      "image/png": "[encoded data removed]",
      "text/plain": [
       "<Figure size 640x480 with 1 Axes>"
      ]
     },
     "metadata": {},
     "output_type": "display_data"
    }
   ],
   "source": [
    "# Box plots for all quantitative variables (21 variables)\n",
    "CaseOrderPlot = plt.boxplot(x='CaseOrder', data = medical_data)"
   ]
  },
  {
   "cell_type": "code",
   "execution_count": 47,
   "id": "3b09d08a-333e-44b9-b98a-40f7d9bebd88",
   "metadata": {
    "tags": []
   },
   "outputs": [
    {
     "data": {
      "image/png": "[encoded data removed]",
      "text/plain": [
       "<Figure size 640x480 with 1 Axes>"
      ]
     },
     "metadata": {},
     "output_type": "display_data"
    }
   ],
   "source": [
    "PopulationPlot = plt.boxplot(x='Population', data = medical_data)"
   ]
  },
  {
   "cell_type": "code",
   "execution_count": 48,
   "id": "0f1606d1-8a12-47a6-9753-1065581486e7",
   "metadata": {
    "tags": []
   },
   "outputs": [
    {
     "data": {
      "image/png": "[encoded data removed]",
      "text/plain": [
       "<Figure size 640x480 with 1 Axes>"
      ]
     },
     "metadata": {},
     "output_type": "display_data"
    }
   ],
   "source": [
    "Lat = plt.boxplot(x='Lat', data = medical_data)"
   ]
  },
  {
   "cell_type": "code",
   "execution_count": 49,
   "id": "1e1fc9fd-fe04-47ef-bef8-c0dac01af135",
   "metadata": {
    "tags": []
   },
   "outputs": [
    {
     "data": {
      "image/png": "[encoded data removed]",
      "text/plain": [
       "<Figure size 640x480 with 1 Axes>"
      ]
     },
     "metadata": {},
     "output_type": "display_data"
    }
   ],
   "source": [
    "Lng = plt.boxplot(x='Lng', data = medical_data)"
   ]
  },
  {
   "cell_type": "code",
   "execution_count": 50,
   "id": "9fc74659-db59-4deb-a6e4-1ec7c59b17e2",
   "metadata": {
    "tags": []
   },
   "outputs": [
    {
     "data": {
      "image/png": "[encoded data removed]",
      "text/plain": [
       "<Figure size 640x480 with 1 Axes>"
      ]
     },
     "metadata": {},
     "output_type": "display_data"
    }
   ],
   "source": [
    "Age = plt.boxplot(x='Age', data = medical_data)"
   ]
  },
  {
   "cell_type": "code",
   "execution_count": 51,
   "id": "16f152c4-9f56-45e5-a6c2-e2df31bab2b2",
   "metadata": {
    "tags": []
   },
   "outputs": [
    {
     "data": {
      "image/png": "[encoded data removed]",
      "text/plain": [
       "<Figure size 640x480 with 1 Axes>"
      ]
     },
     "metadata": {},
     "output_type": "display_data"
    }
   ],
   "source": [
    "Income = plt.boxplot(x='Income', data = medical_data)"
   ]
  },
  {
   "cell_type": "code",
   "execution_count": 52,
   "id": "e8f1550a-21d6-4659-b0d0-7ac69eab9819",
   "metadata": {
    "tags": []
   },
   "outputs": [
    {
     "data": {
      "image/png": "[encoded data removed]",
      "text/plain": [
       "<Figure size 640x480 with 1 Axes>"
      ]
     },
     "metadata": {},
     "output_type": "display_data"
    }
   ],
   "source": [
    "VitD_levels = plt.boxplot(x='VitD_levels', data = medical_data)"
   ]
  },
  {
   "cell_type": "code",
   "execution_count": 53,
   "id": "015d502e-2cea-46b5-bce0-ac9acd304f82",
   "metadata": {
    "tags": []
   },
   "outputs": [
    {
     "data": {
      "image/png": "[encoded data removed]",
      "text/plain": [
       "<Figure size 640x480 with 1 Axes>"
      ]
     },
     "metadata": {},
     "output_type": "display_data"
    }
   ],
   "source": [
    "Full_meals_eaten = plt.boxplot(x='Full_meals_eaten', data = medical_data)"
   ]
  },
  {
   "cell_type": "code",
   "execution_count": 54,
   "id": "e206b746-72bb-46f1-9c8a-f2cc54404c1e",
   "metadata": {
    "tags": []
   },
   "outputs": [
    {
     "data": {
      "image/png": "[encoded data removed]",
      "text/plain": [
       "<Figure size 640x480 with 1 Axes>"
      ]
     },
     "metadata": {},
     "output_type": "display_data"
    }
   ],
   "source": [
    "Doc_visits = plt.boxplot(x='Doc_visits', data = medical_data)"
   ]
  },
  {
   "cell_type": "code",
   "execution_count": 55,
   "id": "b7f2c0f9-8fe5-4429-8a7b-e38c04c960ed",
   "metadata": {
    "tags": []
   },
   "outputs": [
    {
     "data": {
      "image/png": "[encoded data removed]",
      "text/plain": [
       "<Figure size 640x480 with 1 Axes>"
      ]
     },
     "metadata": {},
     "output_type": "display_data"
    }
   ],
   "source": [
    "VitD_supp = plt.boxplot(x='VitD_supp', data = medical_data)        "
   ]
  },
  {
   "cell_type": "code",
   "execution_count": 56,
   "id": "16193fe5-0863-4bcf-b54a-c9e23fd179e1",
   "metadata": {
    "tags": []
   },
   "outputs": [
    {
     "data": {
      "image/png": "[encoded data removed]",
      "text/plain": [
       "<Figure size 640x480 with 1 Axes>"
      ]
     },
     "metadata": {},
     "output_type": "display_data"
    }
   ],
   "source": [
    "Initial_days = plt.boxplot(x='Initial_days', data = medical_data)"
   ]
  },
  {
   "cell_type": "code",
   "execution_count": 57,
   "id": "234a746d-080b-4605-9c83-09bba91b5a2d",
   "metadata": {
    "tags": []
   },
   "outputs": [
    {
     "data": {
      "image/png": "[encoded data removed]",
      "text/plain": [
       "<Figure size 640x480 with 1 Axes>"
      ]
     },
     "metadata": {},
     "output_type": "display_data"
    }
   ],
   "source": [
    "TotalCharge = plt.boxplot(x='TotalCharge', data = medical_data)"
   ]
  },
  {
   "cell_type": "code",
   "execution_count": 58,
   "id": "7a271de6-f146-40d2-b55b-b85010b103f7",
   "metadata": {
    "tags": []
   },
   "outputs": [
    {
     "data": {
      "image/png": "[encoded data removed]",
      "text/plain": [
       "<Figure size 640x480 with 1 Axes>"
      ]
     },
     "metadata": {},
     "output_type": "display_data"
    }
   ],
   "source": [
    "Additional_charges = plt.boxplot(x='Additional_charges', data = medical_data)"
   ]
  },
  {
   "cell_type": "code",
   "execution_count": 59,
   "id": "b49699f6-cf15-496c-8b88-1097fa26e4aa",
   "metadata": {
    "tags": []
   },
   "outputs": [
    {
     "data": {
      "image/png": "[encoded data removed]",
      "text/plain": [
       "<Figure size 640x480 with 1 Axes>"
      ]
     },
     "metadata": {},
     "output_type": "display_data"
    }
   ],
   "source": [
    "Item1 = plt.boxplot(x='Item1', data = medical_data)"
   ]
  },
  {
   "cell_type": "code",
   "execution_count": 60,
   "id": "564e2038-ff94-4cd2-8656-aad2550f048b",
   "metadata": {
    "tags": []
   },
   "outputs": [
    {
     "data": {
      "image/png": "[encoded data removed]",
      "text/plain": [
       "<Figure size 640x480 with 1 Axes>"
      ]
     },
     "metadata": {},
     "output_type": "display_data"
    }
   ],
   "source": [
    "Item2 = plt.boxplot(x='Item2', data = medical_data)"
   ]
  },
  {
   "cell_type": "code",
   "execution_count": 61,
   "id": "01f4d4f2-93d5-4e05-bee8-5d184725c7f4",
   "metadata": {
    "tags": []
   },
   "outputs": [
    {
     "data": {
      "image/png": "[encoded data removed]",
      "text/plain": [
       "<Figure size 640x480 with 1 Axes>"
      ]
     },
     "metadata": {},
     "output_type": "display_data"
    }
   ],
   "source": [
    "Item3 = plt.boxplot(x='Item3', data = medical_data)"
   ]
  },
  {
   "cell_type": "code",
   "execution_count": 62,
   "id": "aede7aee-ff46-463c-bffa-6d87795f3766",
   "metadata": {
    "tags": []
   },
   "outputs": [
    {
     "data": {
      "image/png": "[encoded data removed]",
      "text/plain": [
       "<Figure size 640x480 with 1 Axes>"
      ]
     },
     "metadata": {},
     "output_type": "display_data"
    }
   ],
   "source": [
    "Item4 = plt.boxplot(x='Item4', data = medical_data)"
   ]
  },
  {
   "cell_type": "code",
   "execution_count": 63,
   "id": "6828164f-3f74-4e2c-a94d-6e1457fb20eb",
   "metadata": {
    "tags": []
   },
   "outputs": [
    {
     "data": {
      "image/png": "[encoded data removed]",
      "text/plain": [
       "<Figure size 640x480 with 1 Axes>"
      ]
     },
     "metadata": {},
     "output_type": "display_data"
    }
   ],
   "source": [
    "Item5 = plt.boxplot(x='Item5', data = medical_data)"
   ]
  },
  {
   "cell_type": "code",
   "execution_count": 64,
   "id": "14aeafe0-6829-48d8-ae8e-21734ff8f829",
   "metadata": {
    "tags": []
   },
   "outputs": [
    {
     "data": {
      "image/png": "[encoded data removed]",
      "text/plain": [
       "<Figure size 640x480 with 1 Axes>"
      ]
     },
     "metadata": {},
     "output_type": "display_data"
    }
   ],
   "source": [
    "Item6 = plt.boxplot(x='Item6', data = medical_data)"
   ]
  },
  {
   "cell_type": "code",
   "execution_count": 65,
   "id": "952937ef-8be6-4411-a62b-1328ee511dec",
   "metadata": {
    "tags": []
   },
   "outputs": [
    {
     "data": {
      "image/png": "[encoded data removed]",
      "text/plain": [
       "<Figure size 640x480 with 1 Axes>"
      ]
     },
     "metadata": {},
     "output_type": "display_data"
    }
   ],
   "source": [
    "Item7 = plt.boxplot(x='Item7', data = medical_data)"
   ]
  },
  {
   "cell_type": "code",
   "execution_count": 66,
   "id": "f6f1285c-cd15-414c-8040-d5b07d454b72",
   "metadata": {
    "tags": []
   },
   "outputs": [
    {
     "data": {
      "image/png": "[encoded data removed]",
      "text/plain": [
       "<Figure size 640x480 with 1 Axes>"
      ]
     },
     "metadata": {},
     "output_type": "display_data"
    }
   ],
   "source": [
    "Item8 = plt.boxplot(x='Item8', data = medical_data)"
   ]
  },
  {
   "cell_type": "markdown",
   "id": "b9d1a9d1",
   "metadata": {},
   "source": [
    "__Re-expression__<br>\n",
    "The re-expression of categorical variables begins with the discovery of 13 categorical or qualitative variables that have only 2 unique values (yes or no). <br>\n",
    "\n",
    "The re-expression of categorical variables was completed through ordinal encoding. Ordinal encoding uses the Likert scale to transform categorical variables into numerical variables based on a specific order. (presentation) This also goes for values Boolean values like yes or no which represent 1 and 0 respectively. Due to variables overweight and anxiety having nominal values, it is best to stay consistent and change the remaining Boolean variables from categorical to nominal. The 11 variables with Boolean variables were found and re-expressed using a dictionary where yes is 1 and no is 0."
   ]
  },
  {
   "cell_type": "code",
   "execution_count": 67,
   "id": "925b2af8-a6c3-47d4-9668-36985753dd44",
   "metadata": {
    "tags": []
   },
   "outputs": [
    {
     "name": "stdout",
     "output_type": "stream",
     "text": [
      "ReAdmis               2\n",
      "Soft_drink            2\n",
      "HighBlood             2\n",
      "Stroke                2\n",
      "Arthritis             2\n",
      "Diabetes              2\n",
      "Hyperlipidemia        2\n",
      "BackPain              2\n",
      "Allergic_rhinitis     2\n",
      "Reflux_esophagitis    2\n",
      "Asthma                2\n",
      "dtype: int64\n"
     ]
    }
   ],
   "source": [
    "# Re-expression of categorical values\n",
    "medical_data_qual = medical_data.select_dtypes(include= 'object')\n",
    "un_medical = medical_data_qual.nunique()\n",
    "un_medical_filtered = un_medical[un_medical < 3]\n",
    "print(un_medical_filtered)"
   ]
  },
  {
   "cell_type": "code",
   "execution_count": 68,
   "id": "fc03af2b-03a8-4d31-887d-03788568b5b3",
   "metadata": {
    "tags": []
   },
   "outputs": [
    {
     "data": {
      "text/plain": [
       "array(['No', 'Yes'], dtype=object)"
      ]
     },
     "execution_count": 68,
     "metadata": {},
     "output_type": "execute_result"
    }
   ],
   "source": [
    "# 1. Verify values are yes and no only \n",
    "medical_data.ReAdmis.unique()"
   ]
  },
  {
   "cell_type": "code",
   "execution_count": 69,
   "id": "33cf8603-4530-4075-bcbc-ce1ecc06e498",
   "metadata": {
    "tags": []
   },
   "outputs": [],
   "source": [
    "# 2. Create new column to input into \n",
    "medical_data['ReAdmis_numeric'] = medical_data['ReAdmis']\n",
    "\n",
    "# 3. Create dictionary for the values \n",
    "dict_readmis = {\"ReAdmis_numeric\": {\"No\": 0, \"Yes\": 1}}\n",
    "medical_data.replace(dict_readmis, inplace = True)"
   ]
  },
  {
   "cell_type": "code",
   "execution_count": 70,
   "id": "b76f96f4-0683-4e27-a34e-dab476a85050",
   "metadata": {
    "tags": []
   },
   "outputs": [
    {
     "data": {
      "text/plain": [
       "array([0, 1], dtype=int64)"
      ]
     },
     "execution_count": 70,
     "metadata": {},
     "output_type": "execute_result"
    }
   ],
   "source": [
    "# 4. Verify substitution went through \n",
    "medical_data.ReAdmis_numeric.unique()"
   ]
  },
  {
   "cell_type": "code",
   "execution_count": 71,
   "id": "239d70f6-2002-4bff-8d82-cfec6bfe3a28",
   "metadata": {
    "tags": []
   },
   "outputs": [
    {
     "data": {
      "text/plain": [
       "array(['No', 'Yes'], dtype=object)"
      ]
     },
     "execution_count": 71,
     "metadata": {},
     "output_type": "execute_result"
    }
   ],
   "source": [
    "# 1. Verify values are yes and no only \n",
    "medical_data.Soft_drink.unique()"
   ]
  },
  {
   "cell_type": "code",
   "execution_count": 72,
   "id": "d5939abf-a67e-4a2d-be43-663943770a21",
   "metadata": {
    "tags": []
   },
   "outputs": [],
   "source": [
    "# 2. Create new column to input into \n",
    "medical_data['Soft_drink_numeric'] = medical_data['Soft_drink']\n",
    "\n",
    "# 3. Create dictionary for the values \n",
    "dict_readmis = {\"Soft_drink_numeric\": {\"No\": 0, \"Yes\": 1}}\n",
    "medical_data.replace(dict_readmis, inplace = True)"
   ]
  },
  {
   "cell_type": "code",
   "execution_count": 73,
   "id": "f56cb43b-77a9-467f-913b-16439b3bc442",
   "metadata": {
    "tags": []
   },
   "outputs": [
    {
     "data": {
      "text/plain": [
       "array([0, 1], dtype=int64)"
      ]
     },
     "execution_count": 73,
     "metadata": {},
     "output_type": "execute_result"
    }
   ],
   "source": [
    "# 4. Verify substitution went through \n",
    "medical_data.Soft_drink_numeric.unique()"
   ]
  },
  {
   "cell_type": "code",
   "execution_count": 74,
   "id": "c4e4e463-bbf2-47f4-aabb-f1891fa7b9b4",
   "metadata": {
    "tags": []
   },
   "outputs": [
    {
     "data": {
      "text/plain": [
       "array(['Yes', 'No'], dtype=object)"
      ]
     },
     "execution_count": 74,
     "metadata": {},
     "output_type": "execute_result"
    }
   ],
   "source": [
    "# 1. Verify values are yes and no only \n",
    "medical_data.HighBlood.unique()"
   ]
  },
  {
   "cell_type": "code",
   "execution_count": 75,
   "id": "eb88789d-c9fc-427f-9743-74ad61c57cb7",
   "metadata": {
    "tags": []
   },
   "outputs": [],
   "source": [
    "# 2. Create new column to input into \n",
    "medical_data['HighBlood_numeric'] = medical_data['HighBlood']\n",
    "\n",
    "# 3. Create dictionary for the values \n",
    "dict_readmis = {\"HighBlood_numeric\": {\"No\": 0, \"Yes\": 1}}\n",
    "medical_data.replace(dict_readmis, inplace = True)"
   ]
  },
  {
   "cell_type": "code",
   "execution_count": 76,
   "id": "bf503f2e-f3cc-42ac-99eb-87b400e8be2d",
   "metadata": {
    "tags": []
   },
   "outputs": [
    {
     "data": {
      "text/plain": [
       "array([1, 0], dtype=int64)"
      ]
     },
     "execution_count": 76,
     "metadata": {},
     "output_type": "execute_result"
    }
   ],
   "source": [
    "# 4. Verify substitution went through \n",
    "medical_data.HighBlood_numeric.unique()"
   ]
  },
  {
   "cell_type": "code",
   "execution_count": 77,
   "id": "6d2d1f3d-d72b-4b4d-b7a5-64d72649136a",
   "metadata": {
    "tags": []
   },
   "outputs": [
    {
     "data": {
      "text/plain": [
       "array(['No', 'Yes'], dtype=object)"
      ]
     },
     "execution_count": 77,
     "metadata": {},
     "output_type": "execute_result"
    }
   ],
   "source": [
    "# 1. Verify values are yes and no only \n",
    "medical_data.Stroke.unique()"
   ]
  },
  {
   "cell_type": "code",
   "execution_count": 78,
   "id": "604d85b5-a179-4eb6-a315-4fa3dfbdc47b",
   "metadata": {
    "tags": []
   },
   "outputs": [],
   "source": [
    "# 2. Create new column to input into \n",
    "medical_data['Stroke_numeric'] = medical_data['Stroke']\n",
    "\n",
    "# 3. Create dictionary for the values \n",
    "dict_readmis = {\"Stroke_numeric\": {\"No\": 0, \"Yes\": 1}}\n",
    "medical_data.replace(dict_readmis, inplace = True)"
   ]
  },
  {
   "cell_type": "code",
   "execution_count": 79,
   "id": "9b814626-e475-4f80-9d06-494d82856fe0",
   "metadata": {
    "tags": []
   },
   "outputs": [
    {
     "data": {
      "text/plain": [
       "array([0, 1], dtype=int64)"
      ]
     },
     "execution_count": 79,
     "metadata": {},
     "output_type": "execute_result"
    }
   ],
   "source": [
    "# 4. Verify substitution went through \n",
    "medical_data.Stroke_numeric.unique()"
   ]
  },
  {
   "cell_type": "code",
   "execution_count": 80,
   "id": "811ff7ca-19ba-45dd-9395-7d18ebbd1b33",
   "metadata": {
    "tags": []
   },
   "outputs": [
    {
     "data": {
      "text/plain": [
       "array(['Yes', 'No'], dtype=object)"
      ]
     },
     "execution_count": 80,
     "metadata": {},
     "output_type": "execute_result"
    }
   ],
   "source": [
    "# 1. Verify values are yes and no only \n",
    "medical_data.Arthritis.unique()"
   ]
  },
  {
   "cell_type": "code",
   "execution_count": 81,
   "id": "5bcbf084-2307-4d31-80b2-c8c4dde9a09c",
   "metadata": {
    "tags": []
   },
   "outputs": [],
   "source": [
    "# 2. Create new column to input into \n",
    "medical_data['Arthritis_numeric'] = medical_data['Arthritis']\n",
    "\n",
    "# 3. Create dictionary for the values \n",
    "dict_readmis = {\"Arthritis_numeric\": {\"No\": 0, \"Yes\": 1}}\n",
    "medical_data.replace(dict_readmis, inplace = True)"
   ]
  },
  {
   "cell_type": "code",
   "execution_count": 82,
   "id": "7bfae899-6e9b-4610-91c5-f40372e8f596",
   "metadata": {
    "tags": []
   },
   "outputs": [
    {
     "data": {
      "text/plain": [
       "array([1, 0], dtype=int64)"
      ]
     },
     "execution_count": 82,
     "metadata": {},
     "output_type": "execute_result"
    }
   ],
   "source": [
    "# 4. Verify substitution went through \n",
    "medical_data.Arthritis_numeric.unique()"
   ]
  },
  {
   "cell_type": "code",
   "execution_count": 83,
   "id": "f9ff5d5d-aca8-4026-bbaa-b8706aab2c41",
   "metadata": {
    "tags": []
   },
   "outputs": [
    {
     "data": {
      "text/plain": [
       "array(['Yes', 'No'], dtype=object)"
      ]
     },
     "execution_count": 83,
     "metadata": {},
     "output_type": "execute_result"
    }
   ],
   "source": [
    "# 1. Verify values are yes and no only \n",
    "medical_data.Diabetes.unique()"
   ]
  },
  {
   "cell_type": "code",
   "execution_count": 84,
   "id": "ac502c0c-db8b-4242-9eae-af0a2b84116c",
   "metadata": {
    "tags": []
   },
   "outputs": [],
   "source": [
    "# 2. Create new column to input into \n",
    "medical_data['Diabetes_numeric'] = medical_data['Diabetes']\n",
    "\n",
    "# 3. Create dictionary for the values \n",
    "dict_readmis = {\"Diabetes_numeric\": {\"No\": 0, \"Yes\": 1}}\n",
    "medical_data.replace(dict_readmis, inplace = True)"
   ]
  },
  {
   "cell_type": "code",
   "execution_count": 85,
   "id": "460a1016-e745-46fa-abb6-ed3a9b772ccc",
   "metadata": {
    "tags": []
   },
   "outputs": [
    {
     "data": {
      "text/plain": [
       "array([1, 0], dtype=int64)"
      ]
     },
     "execution_count": 85,
     "metadata": {},
     "output_type": "execute_result"
    }
   ],
   "source": [
    "# 4. Verify substitution went through \n",
    "medical_data.Diabetes_numeric.unique()"
   ]
  },
  {
   "cell_type": "code",
   "execution_count": 86,
   "id": "85e0fd66-d0dc-4ff8-be65-6dba193ead9e",
   "metadata": {
    "tags": []
   },
   "outputs": [
    {
     "data": {
      "text/plain": [
       "array(['No', 'Yes'], dtype=object)"
      ]
     },
     "execution_count": 86,
     "metadata": {},
     "output_type": "execute_result"
    }
   ],
   "source": [
    "# 1. Verify values are yes and no only \n",
    "medical_data.Hyperlipidemia.unique()"
   ]
  },
  {
   "cell_type": "code",
   "execution_count": 87,
   "id": "0ff1e084-0d5a-4e60-8d6d-c91aa32f6765",
   "metadata": {
    "tags": []
   },
   "outputs": [],
   "source": [
    "# 2. Create new column to input into \n",
    "medical_data['Hyperlipidemia_numeric'] = medical_data['Hyperlipidemia']\n",
    "\n",
    "# 3. Create dictionary for the values \n",
    "dict_readmis = {\"Hyperlipidemia_numeric\": {\"No\": 0, \"Yes\": 1}}\n",
    "medical_data.replace(dict_readmis, inplace = True)"
   ]
  },
  {
   "cell_type": "code",
   "execution_count": 88,
   "id": "e4a6f85c-1ea2-43d3-970a-f1c32b5e1d07",
   "metadata": {
    "tags": []
   },
   "outputs": [
    {
     "data": {
      "text/plain": [
       "array([0, 1], dtype=int64)"
      ]
     },
     "execution_count": 88,
     "metadata": {},
     "output_type": "execute_result"
    }
   ],
   "source": [
    "# 4. Verify substitution went through \n",
    "medical_data.Hyperlipidemia_numeric.unique()"
   ]
  },
  {
   "cell_type": "code",
   "execution_count": 89,
   "id": "54115148-0ee8-4447-a53e-944da6e76101",
   "metadata": {
    "tags": []
   },
   "outputs": [
    {
     "data": {
      "text/plain": [
       "array(['Yes', 'No'], dtype=object)"
      ]
     },
     "execution_count": 89,
     "metadata": {},
     "output_type": "execute_result"
    }
   ],
   "source": [
    "# 1. Verify values are yes and no only \n",
    "medical_data.BackPain.unique()"
   ]
  },
  {
   "cell_type": "code",
   "execution_count": 90,
   "id": "988e59df-cabe-4aac-8ff1-0d440f91e24e",
   "metadata": {
    "tags": []
   },
   "outputs": [],
   "source": [
    "# 2. Create new column to input into \n",
    "medical_data['BackPain_numeric'] = medical_data['BackPain']\n",
    "\n",
    "# 3. Create dictionary for the values \n",
    "dict_readmis = {\"BackPain_numeric\": {\"No\": 0, \"Yes\": 1}}\n",
    "medical_data.replace(dict_readmis, inplace = True)"
   ]
  },
  {
   "cell_type": "code",
   "execution_count": 91,
   "id": "5e9c59c2-e3ee-48ff-9647-8e70454c913f",
   "metadata": {
    "tags": []
   },
   "outputs": [
    {
     "data": {
      "text/plain": [
       "array([1, 0], dtype=int64)"
      ]
     },
     "execution_count": 91,
     "metadata": {},
     "output_type": "execute_result"
    }
   ],
   "source": [
    "# 4. Verify substitution went through \n",
    "medical_data.BackPain_numeric.unique()"
   ]
  },
  {
   "cell_type": "code",
   "execution_count": 92,
   "id": "a69e6454-658f-44fd-9c27-5101a1e225eb",
   "metadata": {
    "tags": []
   },
   "outputs": [
    {
     "data": {
      "text/plain": [
       "array(['Yes', 'No'], dtype=object)"
      ]
     },
     "execution_count": 92,
     "metadata": {},
     "output_type": "execute_result"
    }
   ],
   "source": [
    "# 1. Verify values are yes and no only \n",
    "medical_data.Allergic_rhinitis.unique()"
   ]
  },
  {
   "cell_type": "code",
   "execution_count": 93,
   "id": "12c26894-64b2-447b-8ed6-5d9ae52d373c",
   "metadata": {
    "tags": []
   },
   "outputs": [],
   "source": [
    "# 2. Create new column to input into \n",
    "medical_data['Allergic_rhinitis_numeric'] = medical_data['Allergic_rhinitis']\n",
    "\n",
    "# 3. Create dictionary for the values \n",
    "dict_readmis = {\"Allergic_rhinitis_numeric\": {\"No\": 0, \"Yes\": 1}}\n",
    "medical_data.replace(dict_readmis, inplace = True)"
   ]
  },
  {
   "cell_type": "code",
   "execution_count": 94,
   "id": "587c460b-29a1-47b5-b641-35d4649e764d",
   "metadata": {
    "tags": []
   },
   "outputs": [
    {
     "data": {
      "text/plain": [
       "array([1, 0], dtype=int64)"
      ]
     },
     "execution_count": 94,
     "metadata": {},
     "output_type": "execute_result"
    }
   ],
   "source": [
    "# 4. Verify substitution went through \n",
    "medical_data.Allergic_rhinitis_numeric.unique()"
   ]
  },
  {
   "cell_type": "code",
   "execution_count": 95,
   "id": "4dc8b832-8e98-4db0-b536-eb327682fdbb",
   "metadata": {
    "tags": []
   },
   "outputs": [
    {
     "data": {
      "text/plain": [
       "array(['No', 'Yes'], dtype=object)"
      ]
     },
     "execution_count": 95,
     "metadata": {},
     "output_type": "execute_result"
    }
   ],
   "source": [
    "# 1. Verify values are yes and no only \n",
    "medical_data.Reflux_esophagitis.unique()"
   ]
  },
  {
   "cell_type": "code",
   "execution_count": 96,
   "id": "c84f5b8e-e84e-4d95-a6c2-2e07a5ff0935",
   "metadata": {
    "tags": []
   },
   "outputs": [],
   "source": [
    "# 2. Create new column to input into \n",
    "medical_data['Reflux_esophagitis_numeric'] = medical_data['Reflux_esophagitis']\n",
    "\n",
    "# 3. Create dictionary for the values \n",
    "dict_readmis = {\"Reflux_esophagitis_numeric\": {\"No\": 0, \"Yes\": 1}}\n",
    "medical_data.replace(dict_readmis, inplace = True)"
   ]
  },
  {
   "cell_type": "code",
   "execution_count": 97,
   "id": "759da532-a859-4aa3-a80c-adbf11ea91b7",
   "metadata": {
    "tags": []
   },
   "outputs": [
    {
     "data": {
      "text/plain": [
       "array([0, 1], dtype=int64)"
      ]
     },
     "execution_count": 97,
     "metadata": {},
     "output_type": "execute_result"
    }
   ],
   "source": [
    "# 4. Verify substitution went through \n",
    "medical_data.Reflux_esophagitis_numeric.unique()"
   ]
  },
  {
   "cell_type": "code",
   "execution_count": 98,
   "id": "d355f45c-62be-4407-bcd1-3f79ed3c82cb",
   "metadata": {
    "tags": []
   },
   "outputs": [
    {
     "data": {
      "text/plain": [
       "array(['Yes', 'No'], dtype=object)"
      ]
     },
     "execution_count": 98,
     "metadata": {},
     "output_type": "execute_result"
    }
   ],
   "source": [
    "# 1. Verify values are yes and no only \n",
    "medical_data.Asthma.unique()"
   ]
  },
  {
   "cell_type": "code",
   "execution_count": 99,
   "id": "2b300d20-6b26-4dbf-a6fd-191c72fc6a2a",
   "metadata": {
    "tags": []
   },
   "outputs": [],
   "source": [
    "# 2. Create new column to input into \n",
    "medical_data['Asthma_numeric'] = medical_data['Asthma']\n",
    "\n",
    "# 3. Create dictionary for the values \n",
    "dict_readmis = {\"Asthma_numeric\": {\"No\": 0, \"Yes\": 1}}\n",
    "medical_data.replace(dict_readmis, inplace = True)"
   ]
  },
  {
   "cell_type": "code",
   "execution_count": 100,
   "id": "6d28b618-d3a8-4e22-8f3e-b303a3243fa6",
   "metadata": {
    "tags": []
   },
   "outputs": [
    {
     "data": {
      "text/plain": [
       "array([1, 0], dtype=int64)"
      ]
     },
     "execution_count": 100,
     "metadata": {},
     "output_type": "execute_result"
    }
   ],
   "source": [
    "# 4. Verify substitution went through \n",
    "medical_data.Asthma_numeric.unique()"
   ]
  },
  {
   "cell_type": "markdown",
   "id": "0285f2f5",
   "metadata": {},
   "source": [
    "__Exporting the data__"
   ]
  },
  {
   "cell_type": "code",
   "execution_count": 101,
   "id": "5f379d5b-d815-489a-a0c0-c7633df540b3",
   "metadata": {
    "tags": []
   },
   "outputs": [],
   "source": [
    "# Export CSV\n",
    "medical_data.to_csv(\"C:/Users/Makayla Avendano/Desktop/medical_data_clean_PA.csv\")"
   ]
  },
  {
   "cell_type": "markdown",
   "id": "bcf631d4",
   "metadata": {},
   "source": [
    "__Principal Component Analysis (PCA)__<br>\n",
    "The variables I used for the PCA include all numerical values that were quantitative variable types originally."
   ]
  },
  {
   "cell_type": "code",
   "execution_count": 102,
   "id": "6eb26f4e-9469-448e-b96a-d2c212cab9b8",
   "metadata": {
    "tags": []
   },
   "outputs": [],
   "source": [
    "# Principal Component Analysis (PCA) \n",
    "# Installing necessary packages \n",
    "import numpy as np\n",
    "import sklearn\n",
    "from sklearn.decomposition import PCA \n",
    "import seaborn as sns"
   ]
  },
  {
   "cell_type": "code",
   "execution_count": 103,
   "id": "b0536cb4-2ab0-4c2f-807d-431d642d86a0",
   "metadata": {
    "tags": []
   },
   "outputs": [],
   "source": [
    "# Create new data frame with quantitative variables \n",
    "pca_medical_data = medical_data[['Population', 'Doc_visits', 'Full_meals_eaten', 'VitD_supp', 'Item1', 'Item2', 'Item3', 'Item4', 'Item5', 'Item6', 'Item7', 'Item8', 'Lat','Lng', 'Age', 'Income', 'VitD_levels', 'Initial_days', 'TotalCharge', 'Additional_charges']]"
   ]
  },
  {
   "cell_type": "code",
   "execution_count": 104,
   "id": "ae6b2e2c-c9ba-40c6-a675-cc225d32f022",
   "metadata": {
    "tags": []
   },
   "outputs": [],
   "source": [
    "# Normalize Data \n",
    "pca_normalize = (pca_medical_data - pca_medical_data.mean())/pca_medical_data.std()"
   ]
  },
  {
   "cell_type": "code",
   "execution_count": 105,
   "id": "b8703483-86c0-4210-9186-66126e4bd3fd",
   "metadata": {
    "tags": []
   },
   "outputs": [],
   "source": [
    "pca = PCA(n_components=pca_medical_data.shape[1])"
   ]
  },
  {
   "cell_type": "code",
   "execution_count": 106,
   "id": "5ac350b7-f912-42e7-a1d0-6dbc2fe80438",
   "metadata": {
    "tags": []
   },
   "outputs": [
    {
     "data": {
      "text/html": [
       "<style>#sk-container-id-1 {color: black;background-color: white;}#sk-container-id-1 pre{padding: 0;}#sk-container-id-1 div.sk-toggleable {background-color: white;}#sk-container-id-1 label.sk-toggleable__label {cursor: pointer;display: block;width: 100%;margin-bottom: 0;padding: 0.3em;box-sizing: border-box;text-align: center;}#sk-container-id-1 label.sk-toggleable__label-arrow:before {content: \"▸\";float: left;margin-right: 0.25em;color: #696969;}#sk-container-id-1 label.sk-toggleable__label-arrow:hover:before {color: black;}#sk-container-id-1 div.sk-estimator:hover label.sk-toggleable__label-arrow:before {color: black;}#sk-container-id-1 div.sk-toggleable__content {max-height: 0;max-width: 0;overflow: hidden;text-align: left;background-color: #f0f8ff;}#sk-container-id-1 div.sk-toggleable__content pre {margin: 0.2em;color: black;border-radius: 0.25em;background-color: #f0f8ff;}#sk-container-id-1 input.sk-toggleable__control:checked~div.sk-toggleable__content {max-height: 200px;max-width: 100%;overflow: auto;}#sk-container-id-1 input.sk-toggleable__control:checked~label.sk-toggleable__label-arrow:before {content: \"▾\";}#sk-container-id-1 div.sk-estimator input.sk-toggleable__control:checked~label.sk-toggleable__label {background-color: #d4ebff;}#sk-container-id-1 div.sk-label input.sk-toggleable__control:checked~label.sk-toggleable__label {background-color: #d4ebff;}#sk-container-id-1 input.sk-hidden--visually {border: 0;clip: rect(1px 1px 1px 1px);clip: rect(1px, 1px, 1px, 1px);height: 1px;margin: -1px;overflow: hidden;padding: 0;position: absolute;width: 1px;}#sk-container-id-1 div.sk-estimator {font-family: monospace;background-color: #f0f8ff;border: 1px dotted black;border-radius: 0.25em;box-sizing: border-box;margin-bottom: 0.5em;}#sk-container-id-1 div.sk-estimator:hover {background-color: #d4ebff;}#sk-container-id-1 div.sk-parallel-item::after {content: \"\";width: 100%;border-bottom: 1px solid gray;flex-grow: 1;}#sk-container-id-1 div.sk-label:hover label.sk-toggleable__label {background-color: #d4ebff;}#sk-container-id-1 div.sk-serial::before {content: \"\";position: absolute;border-left: 1px solid gray;box-sizing: border-box;top: 0;bottom: 0;left: 50%;z-index: 0;}#sk-container-id-1 div.sk-serial {display: flex;flex-direction: column;align-items: center;background-color: white;padding-right: 0.2em;padding-left: 0.2em;position: relative;}#sk-container-id-1 div.sk-item {position: relative;z-index: 1;}#sk-container-id-1 div.sk-parallel {display: flex;align-items: stretch;justify-content: center;background-color: white;position: relative;}#sk-container-id-1 div.sk-item::before, #sk-container-id-1 div.sk-parallel-item::before {content: \"\";position: absolute;border-left: 1px solid gray;box-sizing: border-box;top: 0;bottom: 0;left: 50%;z-index: -1;}#sk-container-id-1 div.sk-parallel-item {display: flex;flex-direction: column;z-index: 1;position: relative;background-color: white;}#sk-container-id-1 div.sk-parallel-item:first-child::after {align-self: flex-end;width: 50%;}#sk-container-id-1 div.sk-parallel-item:last-child::after {align-self: flex-start;width: 50%;}#sk-container-id-1 div.sk-parallel-item:only-child::after {width: 0;}#sk-container-id-1 div.sk-dashed-wrapped {border: 1px dashed gray;margin: 0 0.4em 0.5em 0.4em;box-sizing: border-box;padding-bottom: 0.4em;background-color: white;}#sk-container-id-1 div.sk-label label {font-family: monospace;font-weight: bold;display: inline-block;line-height: 1.2em;}#sk-container-id-1 div.sk-label-container {text-align: center;}#sk-container-id-1 div.sk-container {/* jupyter's `normalize.less` sets `[hidden] { display: none; }` but bootstrap.min.css set `[hidden] { display: none !important; }` so we also need the `!important` here to be able to override the default hidden behavior on the sphinx rendered scikit-learn.org. See: https://github.com/scikit-learn/scikit-learn/issues/21755 */display: inline-block !important;position: relative;}#sk-container-id-1 div.sk-text-repr-fallback {display: none;}</style><div id=\"sk-container-id-1\" class=\"sk-top-container\"><div class=\"sk-text-repr-fallback\"><pre>PCA(n_components=20)</pre><b>In a Jupyter environment, please rerun this cell to show the HTML representation or trust the notebook. <br />On GitHub, the HTML representation is unable to render, please try loading this page with nbviewer.org.</b></div><div class=\"sk-container\" hidden><div class=\"sk-item\"><div class=\"sk-estimator sk-toggleable\"><input class=\"sk-toggleable__control sk-hidden--visually\" id=\"sk-estimator-id-1\" type=\"checkbox\" checked><label for=\"sk-estimator-id-1\" class=\"sk-toggleable__label sk-toggleable__label-arrow\">PCA</label><div class=\"sk-toggleable__content\"><pre>PCA(n_components=20)</pre></div></div></div></div></div>"
      ],
      "text/plain": [
       "PCA(n_components=20)"
      ]
     },
     "execution_count": 106,
     "metadata": {},
     "output_type": "execute_result"
    }
   ],
   "source": [
    "pca.fit(pca_normalize)"
   ]
  },
  {
   "cell_type": "code",
   "execution_count": 107,
   "id": "b8694494-fcce-474f-92ea-b550979b33fc",
   "metadata": {
    "tags": []
   },
   "outputs": [],
   "source": [
    "pca_normalize_final = pd.DataFrame(pca.transform(pca_normalize),columns=['PC1', 'PC2', 'PC3', 'PC4', 'PC5','PC6', 'PC7', 'PC8', 'PC9', 'PC10','PC11', 'PC12', 'PC13', 'PC14','PC15', 'PC16', 'PC17', 'PC18', 'PC19', 'PC20'])"
   ]
  },
  {
   "cell_type": "code",
   "execution_count": 108,
   "id": "de8186d0-fd4d-4acb-96df-c95fa6242f73",
   "metadata": {
    "tags": []
   },
   "outputs": [
    {
     "data": {
      "text/html": [
       "<div>\n",
       "<style scoped>\n",
       "    .dataframe tbody tr th:only-of-type {\n",
       "        vertical-align: middle;\n",
       "    }\n",
       "\n",
       "    .dataframe tbody tr th {\n",
       "        vertical-align: top;\n",
       "    }\n",
       "\n",
       "    .dataframe thead th {\n",
       "        text-align: right;\n",
       "    }\n",
       "</style>\n",
       "<table border=\"1\" class=\"dataframe\">\n",
       "  <thead>\n",
       "    <tr style=\"text-align: right;\">\n",
       "      <th></th>\n",
       "      <th>PC1</th>\n",
       "      <th>PC2</th>\n",
       "      <th>PC3</th>\n",
       "      <th>PC4</th>\n",
       "      <th>PC5</th>\n",
       "      <th>PC6</th>\n",
       "      <th>PC7</th>\n",
       "      <th>PC8</th>\n",
       "      <th>PC9</th>\n",
       "      <th>PC10</th>\n",
       "      <th>PC11</th>\n",
       "      <th>PC12</th>\n",
       "      <th>PC13</th>\n",
       "      <th>PC14</th>\n",
       "      <th>PC15</th>\n",
       "      <th>PC16</th>\n",
       "      <th>PC17</th>\n",
       "      <th>PC18</th>\n",
       "      <th>PC19</th>\n",
       "      <th>PC20</th>\n",
       "    </tr>\n",
       "  </thead>\n",
       "  <tbody>\n",
       "    <tr>\n",
       "      <th>Population</th>\n",
       "      <td>0.009230</td>\n",
       "      <td>0.024159</td>\n",
       "      <td>0.024759</td>\n",
       "      <td>-0.023944</td>\n",
       "      <td>0.630558</td>\n",
       "      <td>0.252450</td>\n",
       "      <td>0.214585</td>\n",
       "      <td>-0.296232</td>\n",
       "      <td>-0.054822</td>\n",
       "      <td>0.124840</td>\n",
       "      <td>-0.061455</td>\n",
       "      <td>0.075765</td>\n",
       "      <td>-0.597781</td>\n",
       "      <td>0.126624</td>\n",
       "      <td>-0.017390</td>\n",
       "      <td>-0.015429</td>\n",
       "      <td>-0.027752</td>\n",
       "      <td>-0.013528</td>\n",
       "      <td>-0.005610</td>\n",
       "      <td>-0.001651</td>\n",
       "    </tr>\n",
       "    <tr>\n",
       "      <th>Doc_visits</th>\n",
       "      <td>0.007169</td>\n",
       "      <td>-0.004294</td>\n",
       "      <td>-0.008068</td>\n",
       "      <td>0.012224</td>\n",
       "      <td>0.013378</td>\n",
       "      <td>0.203864</td>\n",
       "      <td>0.426417</td>\n",
       "      <td>0.424116</td>\n",
       "      <td>-0.702970</td>\n",
       "      <td>-0.075140</td>\n",
       "      <td>0.301576</td>\n",
       "      <td>-0.022797</td>\n",
       "      <td>0.062126</td>\n",
       "      <td>0.018606</td>\n",
       "      <td>-0.024527</td>\n",
       "      <td>0.007874</td>\n",
       "      <td>-0.010209</td>\n",
       "      <td>-0.003568</td>\n",
       "      <td>-0.001976</td>\n",
       "      <td>-0.000153</td>\n",
       "    </tr>\n",
       "    <tr>\n",
       "      <th>Full_meals_eaten</th>\n",
       "      <td>-0.000606</td>\n",
       "      <td>-0.010946</td>\n",
       "      <td>0.018321</td>\n",
       "      <td>0.037622</td>\n",
       "      <td>-0.106460</td>\n",
       "      <td>-0.365295</td>\n",
       "      <td>0.481594</td>\n",
       "      <td>-0.265824</td>\n",
       "      <td>0.310534</td>\n",
       "      <td>-0.074370</td>\n",
       "      <td>0.661999</td>\n",
       "      <td>0.068700</td>\n",
       "      <td>-0.056751</td>\n",
       "      <td>0.046457</td>\n",
       "      <td>-0.012662</td>\n",
       "      <td>0.001053</td>\n",
       "      <td>0.013792</td>\n",
       "      <td>-0.010078</td>\n",
       "      <td>0.000750</td>\n",
       "      <td>-0.001416</td>\n",
       "    </tr>\n",
       "    <tr>\n",
       "      <th>VitD_supp</th>\n",
       "      <td>-0.005119</td>\n",
       "      <td>0.032924</td>\n",
       "      <td>0.009239</td>\n",
       "      <td>0.011220</td>\n",
       "      <td>0.032047</td>\n",
       "      <td>0.446408</td>\n",
       "      <td>-0.168637</td>\n",
       "      <td>0.374818</td>\n",
       "      <td>0.369801</td>\n",
       "      <td>0.564384</td>\n",
       "      <td>0.413884</td>\n",
       "      <td>0.036827</td>\n",
       "      <td>0.016329</td>\n",
       "      <td>-0.029861</td>\n",
       "      <td>0.013772</td>\n",
       "      <td>-0.003336</td>\n",
       "      <td>0.010349</td>\n",
       "      <td>-0.006123</td>\n",
       "      <td>-0.000217</td>\n",
       "      <td>-0.001490</td>\n",
       "    </tr>\n",
       "    <tr>\n",
       "      <th>Item1</th>\n",
       "      <td>0.454825</td>\n",
       "      <td>-0.024332</td>\n",
       "      <td>0.294774</td>\n",
       "      <td>0.015441</td>\n",
       "      <td>0.005951</td>\n",
       "      <td>-0.014345</td>\n",
       "      <td>-0.000862</td>\n",
       "      <td>0.011600</td>\n",
       "      <td>0.006040</td>\n",
       "      <td>0.012886</td>\n",
       "      <td>-0.008227</td>\n",
       "      <td>-0.099206</td>\n",
       "      <td>0.013161</td>\n",
       "      <td>0.070831</td>\n",
       "      <td>-0.010352</td>\n",
       "      <td>0.082808</td>\n",
       "      <td>0.186992</td>\n",
       "      <td>0.047636</td>\n",
       "      <td>-0.803440</td>\n",
       "      <td>-0.004245</td>\n",
       "    </tr>\n",
       "    <tr>\n",
       "      <th>Item2</th>\n",
       "      <td>0.428569</td>\n",
       "      <td>-0.024483</td>\n",
       "      <td>0.291284</td>\n",
       "      <td>0.017015</td>\n",
       "      <td>0.015198</td>\n",
       "      <td>0.012603</td>\n",
       "      <td>-0.009909</td>\n",
       "      <td>-0.000332</td>\n",
       "      <td>0.001019</td>\n",
       "      <td>-0.005739</td>\n",
       "      <td>-0.002452</td>\n",
       "      <td>-0.150688</td>\n",
       "      <td>0.009521</td>\n",
       "      <td>0.130420</td>\n",
       "      <td>-0.061593</td>\n",
       "      <td>0.097152</td>\n",
       "      <td>0.623159</td>\n",
       "      <td>-0.074771</td>\n",
       "      <td>0.532069</td>\n",
       "      <td>-0.003316</td>\n",
       "    </tr>\n",
       "    <tr>\n",
       "      <th>Item3</th>\n",
       "      <td>0.395325</td>\n",
       "      <td>-0.024302</td>\n",
       "      <td>0.294322</td>\n",
       "      <td>0.015269</td>\n",
       "      <td>-0.014041</td>\n",
       "      <td>-0.007785</td>\n",
       "      <td>-0.018539</td>\n",
       "      <td>0.009145</td>\n",
       "      <td>0.025149</td>\n",
       "      <td>0.008337</td>\n",
       "      <td>0.011849</td>\n",
       "      <td>-0.212117</td>\n",
       "      <td>0.045768</td>\n",
       "      <td>0.200950</td>\n",
       "      <td>-0.239098</td>\n",
       "      <td>-0.428475</td>\n",
       "      <td>-0.623074</td>\n",
       "      <td>0.028882</td>\n",
       "      <td>0.193435</td>\n",
       "      <td>0.006467</td>\n",
       "    </tr>\n",
       "    <tr>\n",
       "      <th>Item4</th>\n",
       "      <td>0.151870</td>\n",
       "      <td>0.062665</td>\n",
       "      <td>-0.553380</td>\n",
       "      <td>-0.035795</td>\n",
       "      <td>0.012379</td>\n",
       "      <td>-0.000795</td>\n",
       "      <td>-0.020372</td>\n",
       "      <td>-0.027891</td>\n",
       "      <td>0.029540</td>\n",
       "      <td>0.038260</td>\n",
       "      <td>0.025654</td>\n",
       "      <td>-0.371111</td>\n",
       "      <td>0.035838</td>\n",
       "      <td>0.352065</td>\n",
       "      <td>-0.389844</td>\n",
       "      <td>0.482704</td>\n",
       "      <td>-0.107200</td>\n",
       "      <td>0.040376</td>\n",
       "      <td>-0.009683</td>\n",
       "      <td>0.000852</td>\n",
       "    </tr>\n",
       "    <tr>\n",
       "      <th>Item5</th>\n",
       "      <td>-0.189750</td>\n",
       "      <td>-0.070681</td>\n",
       "      <td>0.578568</td>\n",
       "      <td>0.033748</td>\n",
       "      <td>0.009850</td>\n",
       "      <td>-0.009952</td>\n",
       "      <td>0.002846</td>\n",
       "      <td>0.014898</td>\n",
       "      <td>0.002338</td>\n",
       "      <td>0.007531</td>\n",
       "      <td>-0.023039</td>\n",
       "      <td>0.122760</td>\n",
       "      <td>0.021022</td>\n",
       "      <td>-0.059938</td>\n",
       "      <td>-0.133533</td>\n",
       "      <td>0.695991</td>\n",
       "      <td>-0.298813</td>\n",
       "      <td>0.048976</td>\n",
       "      <td>0.095173</td>\n",
       "      <td>0.003975</td>\n",
       "    </tr>\n",
       "    <tr>\n",
       "      <th>Item6</th>\n",
       "      <td>0.410202</td>\n",
       "      <td>0.030998</td>\n",
       "      <td>-0.160616</td>\n",
       "      <td>-0.018886</td>\n",
       "      <td>-0.009084</td>\n",
       "      <td>0.004835</td>\n",
       "      <td>0.025925</td>\n",
       "      <td>-0.016171</td>\n",
       "      <td>-0.005684</td>\n",
       "      <td>0.003053</td>\n",
       "      <td>0.012160</td>\n",
       "      <td>-0.045338</td>\n",
       "      <td>-0.024675</td>\n",
       "      <td>-0.054409</td>\n",
       "      <td>0.795547</td>\n",
       "      <td>0.271310</td>\n",
       "      <td>-0.274321</td>\n",
       "      <td>0.008493</td>\n",
       "      <td>0.126229</td>\n",
       "      <td>-0.001943</td>\n",
       "    </tr>\n",
       "    <tr>\n",
       "      <th>Item7</th>\n",
       "      <td>0.356477</td>\n",
       "      <td>0.037437</td>\n",
       "      <td>-0.170001</td>\n",
       "      <td>-0.003045</td>\n",
       "      <td>-0.003481</td>\n",
       "      <td>0.002184</td>\n",
       "      <td>0.006653</td>\n",
       "      <td>-0.028151</td>\n",
       "      <td>-0.016148</td>\n",
       "      <td>-0.021850</td>\n",
       "      <td>0.029381</td>\n",
       "      <td>0.058652</td>\n",
       "      <td>-0.150632</td>\n",
       "      <td>-0.831823</td>\n",
       "      <td>-0.332459</td>\n",
       "      <td>0.070652</td>\n",
       "      <td>-0.061911</td>\n",
       "      <td>-0.013856</td>\n",
       "      <td>0.050249</td>\n",
       "      <td>0.005338</td>\n",
       "    </tr>\n",
       "    <tr>\n",
       "      <th>Item8</th>\n",
       "      <td>0.312475</td>\n",
       "      <td>0.029343</td>\n",
       "      <td>-0.164940</td>\n",
       "      <td>-0.018666</td>\n",
       "      <td>0.004917</td>\n",
       "      <td>0.002669</td>\n",
       "      <td>-0.017622</td>\n",
       "      <td>0.049337</td>\n",
       "      <td>0.000254</td>\n",
       "      <td>-0.033415</td>\n",
       "      <td>-0.060754</td>\n",
       "      <td>0.863131</td>\n",
       "      <td>0.145865</td>\n",
       "      <td>0.269525</td>\n",
       "      <td>-0.152787</td>\n",
       "      <td>0.040254</td>\n",
       "      <td>-0.036376</td>\n",
       "      <td>0.004368</td>\n",
       "      <td>0.033395</td>\n",
       "      <td>0.004991</td>\n",
       "    </tr>\n",
       "    <tr>\n",
       "      <th>Lat</th>\n",
       "      <td>0.009002</td>\n",
       "      <td>-0.022247</td>\n",
       "      <td>0.012502</td>\n",
       "      <td>-0.007213</td>\n",
       "      <td>-0.713893</td>\n",
       "      <td>0.141637</td>\n",
       "      <td>-0.034750</td>\n",
       "      <td>0.013876</td>\n",
       "      <td>-0.063045</td>\n",
       "      <td>0.010240</td>\n",
       "      <td>-0.048821</td>\n",
       "      <td>0.062957</td>\n",
       "      <td>-0.661672</td>\n",
       "      <td>0.137341</td>\n",
       "      <td>-0.022896</td>\n",
       "      <td>0.016120</td>\n",
       "      <td>-0.005318</td>\n",
       "      <td>-0.013628</td>\n",
       "      <td>-0.003761</td>\n",
       "      <td>-0.000573</td>\n",
       "    </tr>\n",
       "    <tr>\n",
       "      <th>Lng</th>\n",
       "      <td>0.000617</td>\n",
       "      <td>-0.004683</td>\n",
       "      <td>-0.011935</td>\n",
       "      <td>0.016532</td>\n",
       "      <td>0.269202</td>\n",
       "      <td>-0.560401</td>\n",
       "      <td>-0.370171</td>\n",
       "      <td>0.529486</td>\n",
       "      <td>-0.009051</td>\n",
       "      <td>-0.137372</td>\n",
       "      <td>0.166428</td>\n",
       "      <td>0.015345</td>\n",
       "      <td>-0.381253</td>\n",
       "      <td>0.055031</td>\n",
       "      <td>0.012524</td>\n",
       "      <td>0.006031</td>\n",
       "      <td>-0.005161</td>\n",
       "      <td>0.009318</td>\n",
       "      <td>0.009010</td>\n",
       "      <td>0.001863</td>\n",
       "    </tr>\n",
       "    <tr>\n",
       "      <th>Age</th>\n",
       "      <td>0.000429</td>\n",
       "      <td>0.082956</td>\n",
       "      <td>-0.028262</td>\n",
       "      <td>0.700431</td>\n",
       "      <td>0.008264</td>\n",
       "      <td>0.015604</td>\n",
       "      <td>-0.026078</td>\n",
       "      <td>-0.009994</td>\n",
       "      <td>-0.006353</td>\n",
       "      <td>-0.017079</td>\n",
       "      <td>-0.021972</td>\n",
       "      <td>-0.003154</td>\n",
       "      <td>0.007217</td>\n",
       "      <td>0.023101</td>\n",
       "      <td>-0.005086</td>\n",
       "      <td>0.030679</td>\n",
       "      <td>-0.057734</td>\n",
       "      <td>-0.701611</td>\n",
       "      <td>-0.048784</td>\n",
       "      <td>-0.016569</td>\n",
       "    </tr>\n",
       "    <tr>\n",
       "      <th>Income</th>\n",
       "      <td>-0.002544</td>\n",
       "      <td>-0.005049</td>\n",
       "      <td>-0.019139</td>\n",
       "      <td>-0.006782</td>\n",
       "      <td>0.044630</td>\n",
       "      <td>0.223321</td>\n",
       "      <td>0.418487</td>\n",
       "      <td>0.446355</td>\n",
       "      <td>0.513302</td>\n",
       "      <td>-0.471187</td>\n",
       "      <td>-0.286821</td>\n",
       "      <td>-0.049641</td>\n",
       "      <td>-0.053651</td>\n",
       "      <td>-0.006656</td>\n",
       "      <td>-0.006666</td>\n",
       "      <td>0.007681</td>\n",
       "      <td>-0.004455</td>\n",
       "      <td>-0.006793</td>\n",
       "      <td>-0.002754</td>\n",
       "      <td>-0.001138</td>\n",
       "    </tr>\n",
       "    <tr>\n",
       "      <th>VitD_levels</th>\n",
       "      <td>-0.009541</td>\n",
       "      <td>0.537330</td>\n",
       "      <td>0.053112</td>\n",
       "      <td>-0.050610</td>\n",
       "      <td>-0.056864</td>\n",
       "      <td>-0.281034</td>\n",
       "      <td>0.287703</td>\n",
       "      <td>0.123456</td>\n",
       "      <td>0.003380</td>\n",
       "      <td>0.394867</td>\n",
       "      <td>-0.269292</td>\n",
       "      <td>-0.009550</td>\n",
       "      <td>-0.004970</td>\n",
       "      <td>-0.007791</td>\n",
       "      <td>-0.004594</td>\n",
       "      <td>-0.007953</td>\n",
       "      <td>0.010314</td>\n",
       "      <td>-0.024674</td>\n",
       "      <td>0.009739</td>\n",
       "      <td>0.544109</td>\n",
       "    </tr>\n",
       "    <tr>\n",
       "      <th>Initial_days</th>\n",
       "      <td>-0.020607</td>\n",
       "      <td>0.441772</td>\n",
       "      <td>0.069438</td>\n",
       "      <td>-0.069785</td>\n",
       "      <td>0.032813</td>\n",
       "      <td>0.311500</td>\n",
       "      <td>-0.336172</td>\n",
       "      <td>-0.145522</td>\n",
       "      <td>-0.012548</td>\n",
       "      <td>-0.503704</td>\n",
       "      <td>0.322204</td>\n",
       "      <td>-0.001356</td>\n",
       "      <td>0.006815</td>\n",
       "      <td>0.022697</td>\n",
       "      <td>0.009829</td>\n",
       "      <td>0.012581</td>\n",
       "      <td>-0.002709</td>\n",
       "      <td>-0.003868</td>\n",
       "      <td>-0.019235</td>\n",
       "      <td>0.451135</td>\n",
       "    </tr>\n",
       "    <tr>\n",
       "      <th>TotalCharge</th>\n",
       "      <td>-0.018617</td>\n",
       "      <td>0.696993</td>\n",
       "      <td>0.084521</td>\n",
       "      <td>-0.074177</td>\n",
       "      <td>-0.023220</td>\n",
       "      <td>-0.019727</td>\n",
       "      <td>0.004526</td>\n",
       "      <td>0.003115</td>\n",
       "      <td>-0.007143</td>\n",
       "      <td>-0.018606</td>\n",
       "      <td>-0.003269</td>\n",
       "      <td>-0.001891</td>\n",
       "      <td>0.001042</td>\n",
       "      <td>0.004137</td>\n",
       "      <td>-0.005350</td>\n",
       "      <td>-0.000029</td>\n",
       "      <td>-0.002074</td>\n",
       "      <td>0.021476</td>\n",
       "      <td>0.003044</td>\n",
       "      <td>-0.706623</td>\n",
       "    </tr>\n",
       "    <tr>\n",
       "      <th>Additional_charges</th>\n",
       "      <td>0.004004</td>\n",
       "      <td>0.084598</td>\n",
       "      <td>-0.037589</td>\n",
       "      <td>0.699951</td>\n",
       "      <td>0.001526</td>\n",
       "      <td>0.028275</td>\n",
       "      <td>0.002757</td>\n",
       "      <td>-0.014384</td>\n",
       "      <td>-0.002613</td>\n",
       "      <td>-0.006869</td>\n",
       "      <td>-0.021264</td>\n",
       "      <td>0.008274</td>\n",
       "      <td>-0.022003</td>\n",
       "      <td>-0.005061</td>\n",
       "      <td>0.014255</td>\n",
       "      <td>-0.025607</td>\n",
       "      <td>0.050978</td>\n",
       "      <td>0.702137</td>\n",
       "      <td>0.047456</td>\n",
       "      <td>0.025990</td>\n",
       "    </tr>\n",
       "  </tbody>\n",
       "</table>\n",
       "</div>"
      ],
      "text/plain": [
       "                         PC1       PC2       PC3       PC4       PC5  \\\n",
       "Population          0.009230  0.024159  0.024759 -0.023944  0.630558   \n",
       "Doc_visits          0.007169 -0.004294 -0.008068  0.012224  0.013378   \n",
       "Full_meals_eaten   -0.000606 -0.010946  0.018321  0.037622 -0.106460   \n",
       "VitD_supp          -0.005119  0.032924  0.009239  0.011220  0.032047   \n",
       "Item1               0.454825 -0.024332  0.294774  0.015441  0.005951   \n",
       "Item2               0.428569 -0.024483  0.291284  0.017015  0.015198   \n",
       "Item3               0.395325 -0.024302  0.294322  0.015269 -0.014041   \n",
       "Item4               0.151870  0.062665 -0.553380 -0.035795  0.012379   \n",
       "Item5              -0.189750 -0.070681  0.578568  0.033748  0.009850   \n",
       "Item6               0.410202  0.030998 -0.160616 -0.018886 -0.009084   \n",
       "Item7               0.356477  0.037437 -0.170001 -0.003045 -0.003481   \n",
       "Item8               0.312475  0.029343 -0.164940 -0.018666  0.004917   \n",
       "Lat                 0.009002 -0.022247  0.012502 -0.007213 -0.713893   \n",
       "Lng                 0.000617 -0.004683 -0.011935  0.016532  0.269202   \n",
       "Age                 0.000429  0.082956 -0.028262  0.700431  0.008264   \n",
       "Income             -0.002544 -0.005049 -0.019139 -0.006782  0.044630   \n",
       "VitD_levels        -0.009541  0.537330  0.053112 -0.050610 -0.056864   \n",
       "Initial_days       -0.020607  0.441772  0.069438 -0.069785  0.032813   \n",
       "TotalCharge        -0.018617  0.696993  0.084521 -0.074177 -0.023220   \n",
       "Additional_charges  0.004004  0.084598 -0.037589  0.699951  0.001526   \n",
       "\n",
       "                         PC6       PC7       PC8       PC9      PC10  \\\n",
       "Population          0.252450  0.214585 -0.296232 -0.054822  0.124840   \n",
       "Doc_visits          0.203864  0.426417  0.424116 -0.702970 -0.075140   \n",
       "Full_meals_eaten   -0.365295  0.481594 -0.265824  0.310534 -0.074370   \n",
       "VitD_supp           0.446408 -0.168637  0.374818  0.369801  0.564384   \n",
       "Item1              -0.014345 -0.000862  0.011600  0.006040  0.012886   \n",
       "Item2               0.012603 -0.009909 -0.000332  0.001019 -0.005739   \n",
       "Item3              -0.007785 -0.018539  0.009145  0.025149  0.008337   \n",
       "Item4              -0.000795 -0.020372 -0.027891  0.029540  0.038260   \n",
       "Item5              -0.009952  0.002846  0.014898  0.002338  0.007531   \n",
       "Item6               0.004835  0.025925 -0.016171 -0.005684  0.003053   \n",
       "Item7               0.002184  0.006653 -0.028151 -0.016148 -0.021850   \n",
       "Item8               0.002669 -0.017622  0.049337  0.000254 -0.033415   \n",
       "Lat                 0.141637 -0.034750  0.013876 -0.063045  0.010240   \n",
       "Lng                -0.560401 -0.370171  0.529486 -0.009051 -0.137372   \n",
       "Age                 0.015604 -0.026078 -0.009994 -0.006353 -0.017079   \n",
       "Income              0.223321  0.418487  0.446355  0.513302 -0.471187   \n",
       "VitD_levels        -0.281034  0.287703  0.123456  0.003380  0.394867   \n",
       "Initial_days        0.311500 -0.336172 -0.145522 -0.012548 -0.503704   \n",
       "TotalCharge        -0.019727  0.004526  0.003115 -0.007143 -0.018606   \n",
       "Additional_charges  0.028275  0.002757 -0.014384 -0.002613 -0.006869   \n",
       "\n",
       "                        PC11      PC12      PC13      PC14      PC15  \\\n",
       "Population         -0.061455  0.075765 -0.597781  0.126624 -0.017390   \n",
       "Doc_visits          0.301576 -0.022797  0.062126  0.018606 -0.024527   \n",
       "Full_meals_eaten    0.661999  0.068700 -0.056751  0.046457 -0.012662   \n",
       "VitD_supp           0.413884  0.036827  0.016329 -0.029861  0.013772   \n",
       "Item1              -0.008227 -0.099206  0.013161  0.070831 -0.010352   \n",
       "Item2              -0.002452 -0.150688  0.009521  0.130420 -0.061593   \n",
       "Item3               0.011849 -0.212117  0.045768  0.200950 -0.239098   \n",
       "Item4               0.025654 -0.371111  0.035838  0.352065 -0.389844   \n",
       "Item5              -0.023039  0.122760  0.021022 -0.059938 -0.133533   \n",
       "Item6               0.012160 -0.045338 -0.024675 -0.054409  0.795547   \n",
       "Item7               0.029381  0.058652 -0.150632 -0.831823 -0.332459   \n",
       "Item8              -0.060754  0.863131  0.145865  0.269525 -0.152787   \n",
       "Lat                -0.048821  0.062957 -0.661672  0.137341 -0.022896   \n",
       "Lng                 0.166428  0.015345 -0.381253  0.055031  0.012524   \n",
       "Age                -0.021972 -0.003154  0.007217  0.023101 -0.005086   \n",
       "Income             -0.286821 -0.049641 -0.053651 -0.006656 -0.006666   \n",
       "VitD_levels        -0.269292 -0.009550 -0.004970 -0.007791 -0.004594   \n",
       "Initial_days        0.322204 -0.001356  0.006815  0.022697  0.009829   \n",
       "TotalCharge        -0.003269 -0.001891  0.001042  0.004137 -0.005350   \n",
       "Additional_charges -0.021264  0.008274 -0.022003 -0.005061  0.014255   \n",
       "\n",
       "                        PC16      PC17      PC18      PC19      PC20  \n",
       "Population         -0.015429 -0.027752 -0.013528 -0.005610 -0.001651  \n",
       "Doc_visits          0.007874 -0.010209 -0.003568 -0.001976 -0.000153  \n",
       "Full_meals_eaten    0.001053  0.013792 -0.010078  0.000750 -0.001416  \n",
       "VitD_supp          -0.003336  0.010349 -0.006123 -0.000217 -0.001490  \n",
       "Item1               0.082808  0.186992  0.047636 -0.803440 -0.004245  \n",
       "Item2               0.097152  0.623159 -0.074771  0.532069 -0.003316  \n",
       "Item3              -0.428475 -0.623074  0.028882  0.193435  0.006467  \n",
       "Item4               0.482704 -0.107200  0.040376 -0.009683  0.000852  \n",
       "Item5               0.695991 -0.298813  0.048976  0.095173  0.003975  \n",
       "Item6               0.271310 -0.274321  0.008493  0.126229 -0.001943  \n",
       "Item7               0.070652 -0.061911 -0.013856  0.050249  0.005338  \n",
       "Item8               0.040254 -0.036376  0.004368  0.033395  0.004991  \n",
       "Lat                 0.016120 -0.005318 -0.013628 -0.003761 -0.000573  \n",
       "Lng                 0.006031 -0.005161  0.009318  0.009010  0.001863  \n",
       "Age                 0.030679 -0.057734 -0.701611 -0.048784 -0.016569  \n",
       "Income              0.007681 -0.004455 -0.006793 -0.002754 -0.001138  \n",
       "VitD_levels        -0.007953  0.010314 -0.024674  0.009739  0.544109  \n",
       "Initial_days        0.012581 -0.002709 -0.003868 -0.019235  0.451135  \n",
       "TotalCharge        -0.000029 -0.002074  0.021476  0.003044 -0.706623  \n",
       "Additional_charges -0.025607  0.050978  0.702137  0.047456  0.025990  "
      ]
     },
     "execution_count": 108,
     "metadata": {},
     "output_type": "execute_result"
    }
   ],
   "source": [
    "# PCA Loadings - Matrix \n",
    "loadings = pd.DataFrame(pca.components_.T, \n",
    "columns=['PC1', 'PC2', 'PC3', 'PC4', 'PC5','PC6', 'PC7', 'PC8', 'PC9', 'PC10','PC11', 'PC12', 'PC13', 'PC14','PC15', 'PC16', 'PC17', 'PC18', 'PC19', 'PC20'],\n",
    "index=pca_normalize.columns)\n",
    "loadings"
   ]
  },
  {
   "cell_type": "code",
   "execution_count": 109,
   "id": "bfda6eb5-2130-49ae-9f9e-43d5fb179ab4",
   "metadata": {
    "tags": []
   },
   "outputs": [],
   "source": [
    "# Eigenvalues and Scree Plot \n",
    "cov_matrix = np.dot(pca_normalize.T, pca_normalize) / pca_medical_data.shape[0]\n",
    "eigenvalues = [np.dot(eigenvector.T, np.dot(cov_matrix, eigenvector)) for eigenvector in pca.components_]"
   ]
  },
  {
   "cell_type": "code",
   "execution_count": 110,
   "id": "0944b4d1-11dc-462a-bafe-179a46d04a21",
   "metadata": {
    "tags": []
   },
   "outputs": [
    {
     "data": {
      "image/png": "[encoded data removed]",
      "text/plain": [
       "<Figure size 640x480 with 1 Axes>"
      ]
     },
     "metadata": {},
     "output_type": "display_data"
    }
   ],
   "source": [
    "plt.plot(eigenvalues)\n",
    "plt.xlabel('Number of components') \n",
    "plt.ylabel('eigenvalues')\n",
    "plt.axhline(y=1, color=\"red\")\n",
    "plt.show()"
   ]
  },
  {
   "cell_type": "markdown",
   "id": "fabf9a00",
   "metadata": {},
   "source": [
    "The PCs that should be kept include PC1 through PC8. A scree plot is shown below to support the decision to keep PC1 through PC8 due to the intersection at 1 and 7.5. It makes more sense to round down to be more accurate and it’s important to remember that the scree plot starts at 0 which is the reason it is PC1 through PC8 instead of 7. Using the Kaiser rule that states to keep all principal components with an eigenvalue of 1 or higher, we can look at the scree plot and fix on the intersection of the red line at 1 and the eigenvalues in blue. Those values that are shown above the red line will be kept and the remaining will be removed. "
   ]
  }
 ],
 "metadata": {
  "kernelspec": {
   "display_name": "Python 3 (ipykernel)",
   "language": "python",
   "name": "python3"
  },
  "language_info": {
   "codemirror_mode": {
    "name": "ipython",
    "version": 3
   },
   "file_extension": ".py",
   "mimetype": "text/x-python",
   "name": "python",
   "nbconvert_exporter": "python",
   "pygments_lexer": "ipython3",
   "version": "3.10.9"
  }
 },
 "nbformat": 4,
 "nbformat_minor": 5
}
