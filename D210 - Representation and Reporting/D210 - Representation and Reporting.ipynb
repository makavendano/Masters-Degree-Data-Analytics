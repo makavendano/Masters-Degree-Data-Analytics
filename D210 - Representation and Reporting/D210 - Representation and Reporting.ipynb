{
 "cells": [
  {
   "cell_type": "markdown",
   "id": "d744a062",
   "metadata": {},
   "source": [
    "# Representation and Reporting\n",
    "Representation and Reporting focuses on communicating observations and patterns to diverse stakeholders, a key aspect of the data analytics life cycle. This course helps students gain communication and storytelling skills. It also covers data visualizations, audio representations, and interactive dashboards."
   ]
  },
  {
   "cell_type": "markdown",
   "id": "54b6eb63",
   "metadata": {},
   "source": [
    "## Competencies \n",
    "__Storytelling with Data__ <br>\n",
    "Communicates data insights to technical and nontechnical audiences. \n",
    "\n",
    "__Data Visualizations and Representations__ <br>\n",
    "Creates data representations to offer insight into an organizational problem. \n",
    "\n",
    "__Dashboards__ <br>\n",
    "Designs interactive dashboards to support executive decision-making. "
   ]
  },
  {
   "cell_type": "markdown",
   "id": "d33525a4",
   "metadata": {},
   "source": [
    "# Write Up\n",
    "A dashboard was created looking at hospital readmissions and a secondary data set looking at hospital readmissions in California from 2011 to 2020.\n",
    "\n",
    "## Navigation Instructions \n",
    "The dashboard will start at the home page that has the title, description, and information for the creator. On this home page, there are also buttons labels for the 4 specific dashboards. \n",
    "\n",
    "The first button is health comparison. After clicking on the Health Comparison button, it will navigate you to the first medical issue dashboard view. This dashboard shows a comparison of all listed medical issues, a bar chart that shows the comparison of the medical issue and readmission, and lastly the rate of readmission for patients with that medical issue. The user can change medical issues by clicking on the buttons at the top of the dashboard to select the dashboard they would like to view. A navigation bar is on the right-hand side that has Home, Health Comparison, County Comparison, Services Comparison, and Age Comparison. \n",
    "\n",
    "Next, we can navigate either back to the home page or to the next page by clicking on the County Comparison button. The user can use the buttons on the side that indicate External or Original to look at the comparison of the external data set and the original data set’s comparison of counties. \n",
    "\n",
    "Next, we can navigate either back to the home page or to the next page by clicking on the Services Comparison button. The services dashboard does not have any interactive controls, but you are able to hover over the pie graphs and bar graphs to get rates and readmission counts.\n",
    "\n",
    "Lastly, we can navigate either back to the home page or to the next page by clicking on the last dashboard Age Comparison. This dashboard is also not interactive but does give relevant information when hovering over the bar graphs. "
   ]
  },
  {
   "cell_type": "markdown",
   "id": "d6f569b3",
   "metadata": {},
   "source": [
    "## Dashboard Alignment\n",
    "The purpose and function of this dashboard is to convert the medical data set into information that is simplified and easy to understand.  The medical data set focuses on hospital readmissions and how negatively they affect hospitals economically. This dashboard was a way to simplify the statistics of hospital readmissions in comparisons to some medical issues and services that are given to patients at the hospitals. For example, I created a dashboard for medical issues that details how high of a rate and the count of readmission with these medical issues. This then leads to more reliable discussions on what changes need to be implemented and what issues need to be focused on to reduce hospital readmissions. "
   ]
  },
  {
   "cell_type": "markdown",
   "id": "b9fabc8e",
   "metadata": {},
   "source": [
    "## Additional Data Set Insights \n",
    "The variables in the additional data set can help us shine the light on certain characteristics of hospital readmissions and solidify the evidence for problem areas that should be focused on. These variables include 30-day hospital readmissions compared to counties as well as age groups. An example of this would be the similarity between medium to higher aged groups having higher hospital readmission rates."
   ]
  },
  {
   "cell_type": "markdown",
   "id": "e9c8656a",
   "metadata": {},
   "source": [
    "## Decision Making Support \n",
    " The data representation from my dashboard that executive leaders can use to support decision making include the pie charts describing services and the bar chart looking at readmission rates per state. Looking at the pie charts, we can bring an easy-to-understand view showing which services are more prominent. A pie chart is useful to compare parts of a whole and compare the relationship among these parts. For this hospital chain’s data set, the primary service utilized for a patients stay is recorded. This pie chart makes it easy to decipher the service or initial reason for admission that has the highest association with hospital readmissions. This can be easily leveraged in decision-making due to the easy-to-understand nature of the statistics available. Looking at the bar chart for readmission rates per state, we can infer which states have higher readmission rates. This allows for executive leaders to make straightforward decisions on what states need the most attention regarding hospital readmission rates. \n",
    " \n",
    "## Interactive Controls \n",
    "The first interactive control that was implemented in the readmission rates dashboard was the use of navigation buttons to change views based on specific health issues. This interactive control allows for the user to pick which health issue they would like to view and focus on. The second interactive control that was implemented was a filter to select one or multiple states within the state and readmission rate comparisons. This interactive control allows for the user to compare states or look at readmission rates for a specific state. The filter will adjust views of the map, table, and bar chart within the dashboard. \n",
    "\n",
    "## Colorblindness\n",
    "In order to build a dashboard accessible for individuals with colorblindness, the color palette was adjusted to include only color-blind friendly colors that are specified in the palette provided by Tableau. Another way this dashboard was adjusted to be accessible for individuals with colorblindness, was by limiting the number of colors used within the dashboard all together and only using those within the palette. \n",
    "\n",
    "## Data Representations \n",
    "The story I wanted to portray was one that focused on readmission rates and what features were the most influential. The health comparison dashboard included a bar chart accompanied with a readmission rate value that adjusted based on the selected health issue. This data representation supports the story by showing what medical issues are the most influential on readmission rates in an easy-to-understand manner. Another notable data representation that supports the story by emphasizing the most influential features is the bar chart and pie chart of the medical services. The services comparison dashboard includes a pie chart for readmission rates and a bar chart to look at readmission counts.  \n",
    "\n",
    "## Audience Analysis\n",
    "As indicated in the WGU Medical Data and Dictionary, the audience consists of executive leaders: specifically, the Senior Vice President of Hospital Operations (SVP), the Vice Present of Research (VP), and the Panel of Regional Vice Presidents (Regional VPs). These executive leaders are not equipped with a technical data analysis background and are looking for broad overviews and general patterns within the data to implement change. When designing the presentation and dashboard, it was important to create a dashboard that was easy to navigate and easy to understand. Large call out boxes with the most imperative information were included in multiple views to highlight and bring attention to these statistics and values. Lastly, when the graph or chart information is hovered on a tooltip is shown that explains exactly what information is being shown preventing confusion and emphasizing the data. \n",
    "\n",
    "\n",
    "## Universal Access\n",
    "The presentation was optimized for universal access by all audiences using multiple features including those listed in C5. Filters were added on a few of the dashboard sheets to make it easier for the audience to adjust the information as necessary. This allows for the audience to tailor the dashboard in ways that make it easily accessible and easy to digest. Another important attribute to help accessibility would be the use of colors throughout the presentation. I made sure to utilize the color-blind palette (as mentioned in C5) and make this a prominent theme for certain attributes and features in the dashboard. Lastly, Tableau Public is a free software that may be accessed by anyone that has a free account and an internet connection. This makes it easier for the public to access the presentation rather than using complicated software that is hard to understand or not easily accessible. \n",
    "\n",
    "## Effective Storytelling\n",
    "The two elements of effective storytelling that was implemented in the presentation include using visuals to enlighten and showing data to support. Using visuals to enlighten is an effective storytelling method due to the education and insights it brings to the audience. “When you connect the visual assets (charts, graphs, etc.) to your narrative, you engage the audience with otherwise hidden insights that provide the fundamental data to support your theory.” (Team, n.d.) Throughout my dashboard, I incorporated multiple visual assets to highlight hospital readmissions and engage the audience through on the surface insights that are easy to interpret. Showing data to support is an effective storytelling method due to the provided key insights and important context. “Using business analytic tools to provide key insights and understanding to your narrative can help provide the much-needed context throughout your data story.” (Team, n.d.) This element engages the audience by showing the necessary data and highlighting the most important information to attract the audience to the most important information within the dashboard. "
   ]
  },
  {
   "cell_type": "code",
   "execution_count": null,
   "id": "aff4f117",
   "metadata": {},
   "outputs": [],
   "source": []
  }
 ],
 "metadata": {
  "kernelspec": {
   "display_name": "Python 3 (ipykernel)",
   "language": "python",
   "name": "python3"
  },
  "language_info": {
   "codemirror_mode": {
    "name": "ipython",
    "version": 3
   },
   "file_extension": ".py",
   "mimetype": "text/x-python",
   "name": "python",
   "nbconvert_exporter": "python",
   "pygments_lexer": "ipython3",
   "version": "3.10.9"
  }
 },
 "nbformat": 4,
 "nbformat_minor": 5
}
