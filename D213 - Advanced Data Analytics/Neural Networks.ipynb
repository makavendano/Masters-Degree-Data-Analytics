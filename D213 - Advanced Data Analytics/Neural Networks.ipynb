{
 "cells": [
  {
   "cell_type": "markdown",
   "id": "e03faae2",
   "metadata": {},
   "source": [
    "# Neural Networks and Natural Language Processing\n",
    "This project yses machine learning and artificial intelligence to explore the use of neural networks and natural language processing (NLP). I will create a neural network designed to learn word usage and context using NLP techniques. Visualizations and reporting will also be utilized to create a dependable neural network. "
   ]
  },
  {
   "cell_type": "markdown",
   "id": "ee6ad935",
   "metadata": {},
   "source": [
    "## Competencies \n",
    "__Constructing Neural Networks__ <br>\n",
    "Builds neural networks in the context of machine-learning modeling.\n",
    "\n",
    "__Natural Language Processing__ <br>\n",
    "Extracts insights from text data using effective and appropriate Natural Language Processing (NLP) models."
   ]
  },
  {
   "cell_type": "markdown",
   "id": "95301895",
   "metadata": {},
   "source": [
    "## Write Up \n",
    "__Research Question__ <br>\n",
    "By examining previous customer reviews, how reliably can we predict future consumer sentiments to increase overall customer satisfaction?\n",
    "\n",
    "__Goals__ <br>\n",
    "By using neural networks and natural language processing, our goal is to better understand consumer sentiments through the analysis of past reviews. This will allow more accurate predictions for future consumer sentiments. \n",
    "\n",
    "__Type of Neural Network__ <br>\n",
    "A type of neural network capable of performing a text classification task that can be trained to produce useful predictions on text sequences on the selected data set is recurrent neural networks (RNN). First, a “neural network is a series of algorithms that endeavor to recognize underlying relationships in a set of data through a process that mimics the way the human brain operates.” (Elleh, 2021) RNN deals with sequential data and can process text data and formulate predictions.  \n"
   ]
  },
  {
   "cell_type": "markdown",
   "id": "629bb9e9",
   "metadata": {},
   "source": [
    "# Code"
   ]
  },
  {
   "cell_type": "code",
   "execution_count": 1,
   "id": "865d010e-f3a8-49a0-b2fa-0214b01cb5f0",
   "metadata": {
    "tags": []
   },
   "outputs": [
    {
     "name": "stderr",
     "output_type": "stream",
     "text": [
      "[nltk_data] Downloading package punkt to C:\\Users\\Makayla\n",
      "[nltk_data]     Avendano\\AppData\\Roaming\\nltk_data...\n",
      "[nltk_data]   Package punkt is already up-to-date!\n",
      "[nltk_data] Downloading package stopwords to C:\\Users\\Makayla\n",
      "[nltk_data]     Avendano\\AppData\\Roaming\\nltk_data...\n",
      "[nltk_data]   Package stopwords is already up-to-date!\n",
      "[nltk_data] Downloading package wordnet to C:\\Users\\Makayla\n",
      "[nltk_data]     Avendano\\AppData\\Roaming\\nltk_data...\n",
      "[nltk_data]   Package wordnet is already up-to-date!\n"
     ]
    }
   ],
   "source": [
    "import pandas as pd \n",
    "import numpy as np \n",
    "import warnings\n",
    "warnings.filterwarnings(\"ignore\")\n",
    "import re\n",
    "\n",
    "\n",
    "import tensorflow as tf\n",
    "from tensorflow.keras.preprocessing.text import Tokenizer\n",
    "from keras.preprocessing.sequence import pad_sequences\n",
    "from tensorflow.keras.callbacks import EarlyStopping\n",
    "\n",
    "\n",
    "import nltk\n",
    "from nltk.corpus import stopwords\n",
    "from nltk.tokenize import word_tokenize\n",
    "from nltk.stem import WordNetLemmatizer\n",
    "\n",
    "\n",
    "import nltk\n",
    "nltk.download('punkt')\n",
    "nltk.download('stopwords')\n",
    "import nltk\n",
    "nltk.download('wordnet')\n",
    "\n",
    "import matplotlib.pyplot as plt"
   ]
  },
  {
   "cell_type": "code",
   "execution_count": 2,
   "id": "1b14c67c-79e4-4dd4-8172-16425f9f649b",
   "metadata": {
    "tags": []
   },
   "outputs": [],
   "source": [
    "# Importing all data sets into seperate data frames \n",
    "df_imdb = pd.read_csv(\"C:/Users/Makayla Avendano/Downloads/sentiment labelled sentences/imdb_labelled.txt\", sep=\"\\t\", \n",
    "                      header=None, names=['review', 'rating'])\n",
    "df_amazon = pd.read_csv(\"C:/Users/Makayla Avendano/Downloads/sentiment labelled sentences/amazon_cells_labelled.txt\", sep=\"\\t\", \n",
    "                        header=None, names=['review', 'rating'])\n",
    "df_yelp = pd.read_csv(\"C:/Users/Makayla Avendano/Downloads/sentiment labelled sentences/yelp_labelled.txt\", sep=\"\\t\", \n",
    "                      header=None, names=['review', 'rating'])"
   ]
  },
  {
   "cell_type": "code",
   "execution_count": 3,
   "id": "9693bd7c-2866-4e61-92fa-dccb6b91302a",
   "metadata": {
    "tags": []
   },
   "outputs": [
    {
     "name": "stdout",
     "output_type": "stream",
     "text": [
      "<class 'pandas.core.frame.DataFrame'>\n",
      "RangeIndex: 2748 entries, 0 to 2747\n",
      "Data columns (total 2 columns):\n",
      " #   Column  Non-Null Count  Dtype \n",
      "---  ------  --------------  ----- \n",
      " 0   review  2748 non-null   object\n",
      " 1   rating  2748 non-null   int64 \n",
      "dtypes: int64(1), object(1)\n",
      "memory usage: 43.1+ KB\n"
     ]
    }
   ],
   "source": [
    "# Combine into one data frame \n",
    "df_all = pd.concat([df_imdb, df_amazon, df_yelp], ignore_index=True)\n",
    "df_all.info()"
   ]
  },
  {
   "cell_type": "code",
   "execution_count": 4,
   "id": "80e56ea1-866a-441c-972f-8c0083119f40",
   "metadata": {
    "tags": []
   },
   "outputs": [
    {
     "data": {
      "text/plain": [
       "(2748, 2)"
      ]
     },
     "execution_count": 4,
     "metadata": {},
     "output_type": "execute_result"
    }
   ],
   "source": [
    "df_all.shape"
   ]
  },
  {
   "cell_type": "code",
   "execution_count": 5,
   "id": "5748f900-460a-4d35-ab1b-a25884cc7a19",
   "metadata": {
    "tags": []
   },
   "outputs": [
    {
     "data": {
      "text/plain": [
       "array([0, 1], dtype=int64)"
      ]
     },
     "execution_count": 5,
     "metadata": {},
     "output_type": "execute_result"
    }
   ],
   "source": [
    "df_all['rating'].unique()"
   ]
  },
  {
   "cell_type": "code",
   "execution_count": 6,
   "id": "b23b5df4-ee92-4610-9b71-926192eebb6f",
   "metadata": {
    "tags": []
   },
   "outputs": [
    {
     "data": {
      "text/plain": [
       "review    0\n",
       "rating    0\n",
       "dtype: int64"
      ]
     },
     "execution_count": 6,
     "metadata": {},
     "output_type": "execute_result"
    }
   ],
   "source": [
    "# Missing Values \n",
    "# Sum of all null values within each column \n",
    "df_all.isnull().sum()"
   ]
  },
  {
   "cell_type": "code",
   "execution_count": 7,
   "id": "0365502c-1574-402e-9076-02278e01bddb",
   "metadata": {
    "tags": []
   },
   "outputs": [
    {
     "data": {
      "text/plain": [
       "review    0\n",
       "rating    0\n",
       "dtype: int64"
      ]
     },
     "execution_count": 7,
     "metadata": {},
     "output_type": "execute_result"
    }
   ],
   "source": [
    "# NA Values \n",
    "# Sum of all null values within each column  \n",
    "df_all.isna().sum()"
   ]
  },
  {
   "cell_type": "code",
   "execution_count": 8,
   "id": "a19dc298-7c60-44a7-8b49-7fb7601565bc",
   "metadata": {},
   "outputs": [],
   "source": [
    "# Uppercase letters \n",
    "df_all['review'] = df_all['review'].str.lower()"
   ]
  },
  {
   "cell_type": "markdown",
   "id": "0c373201",
   "metadata": {},
   "source": [
    "# Presence of Unusual Characters \n",
    "A library of specific characters was removed, and punctuation was removed through regex. List of characters before and after non-English characters were removed in the photos below. "
   ]
  },
  {
   "cell_type": "code",
   "execution_count": 9,
   "id": "f0977be6-f660-4a72-b556-1eebb3a55bda",
   "metadata": {
    "tags": []
   },
   "outputs": [
    {
     "name": "stdout",
     "output_type": "stream",
     "text": [
      "['a', ' ', 'v', 'e', 'r', 'y', ',', 's', 'l', 'o', 'w', '-', 'm', 'i', 'n', 'g', 'b', 'u', 't', 'd', 'f', '.', 'h', 'c', 'k', 'p', '&', 'x', \"'\", 'j', '\"', '\\x96', '\\t', '1', '\\n', 'z', '?', 'q', '0', '3', ';', '/', '2', '9', ':', '*', 'é', '(', ')', '!', '$', '7', '5', '\\x85', '8', '+', '%', '4', 'å', '6', '\\x97', '#', '[', ']', 'ê']\n"
     ]
    }
   ],
   "source": [
    "# Character count in python - before \n",
    "commentary = df_all['review']\n",
    "list_of_char = []\n",
    "for comment in commentary:\n",
    "    for char in comment:\n",
    "        if char not in list_of_char:\n",
    "            list_of_char.append(char)\n",
    "print(list_of_char)"
   ]
  },
  {
   "cell_type": "code",
   "execution_count": 10,
   "id": "e48f60e6-b2b8-4e5a-bd58-39319cf078f2",
   "metadata": {},
   "outputs": [],
   "source": [
    "# Punctuation marks \n",
    "df_all['review'] = df_all['review'].apply(lambda x: re.sub(r'[^\\w\\s]', '', x))\n",
    "\n",
    "# Remove specific characters\n",
    "extra_characters = ['\\t', '\\n', 'é', '\\x85', 'å', 'ê']\n",
    "for char in extra_characters:\n",
    "    df_all['review'] = df_all['review'].str.replace(char, '')"
   ]
  },
  {
   "cell_type": "code",
   "execution_count": 11,
   "id": "77221fc3-5d10-46e1-8d8c-69fa365a3438",
   "metadata": {},
   "outputs": [],
   "source": [
    "# Non-English characters \n",
    "description_list = []\n",
    "for description in df_all.review: \n",
    "    description = re.sub(\"[^a-zA-z]\", \" \", description)"
   ]
  },
  {
   "cell_type": "code",
   "execution_count": 12,
   "id": "3c879b54-d9c1-4132-a992-09ddf8bab177",
   "metadata": {
    "tags": []
   },
   "outputs": [
    {
     "name": "stdout",
     "output_type": "stream",
     "text": [
      "['a', ' ', 'v', 'e', 'r', 'y', 's', 'l', 'o', 'w', 'm', 'i', 'n', 'g', 'b', 'u', 't', 'd', 'f', 'h', 'c', 'k', 'p', 'x', 'j', '1', 'z', 'q', '0', '3', '2', '9', '7', '5', '8', '4', '6']\n"
     ]
    }
   ],
   "source": [
    "# Character count in python - after\n",
    "commentary = df_all['review']\n",
    "list_of_char = []\n",
    "for comment in commentary:\n",
    "    for char in comment:\n",
    "        if char not in list_of_char:\n",
    "            list_of_char.append(char)\n",
    "print(list_of_char)"
   ]
  },
  {
   "cell_type": "code",
   "execution_count": 13,
   "id": "7350c2f3-481f-447f-a3cb-722abd3131c8",
   "metadata": {
    "tags": []
   },
   "outputs": [
    {
     "data": {
      "text/html": [
       "<div>\n",
       "<style scoped>\n",
       "    .dataframe tbody tr th:only-of-type {\n",
       "        vertical-align: middle;\n",
       "    }\n",
       "\n",
       "    .dataframe tbody tr th {\n",
       "        vertical-align: top;\n",
       "    }\n",
       "\n",
       "    .dataframe thead th {\n",
       "        text-align: right;\n",
       "    }\n",
       "</style>\n",
       "<table border=\"1\" class=\"dataframe\">\n",
       "  <thead>\n",
       "    <tr style=\"text-align: right;\">\n",
       "      <th></th>\n",
       "      <th>review</th>\n",
       "      <th>rating</th>\n",
       "    </tr>\n",
       "  </thead>\n",
       "  <tbody>\n",
       "    <tr>\n",
       "      <th>0</th>\n",
       "      <td>a very very very slowmoving aimless movie about a distressed drifting young man</td>\n",
       "      <td>0</td>\n",
       "    </tr>\n",
       "    <tr>\n",
       "      <th>1</th>\n",
       "      <td>not sure who was more lost  the flat characters or the audience nearly half of whom walked out</td>\n",
       "      <td>0</td>\n",
       "    </tr>\n",
       "    <tr>\n",
       "      <th>2</th>\n",
       "      <td>attempting artiness with black  white and clever camera angles the movie disappointed  became even more ridiculous  as the acting was poor and the plot and lines almost nonexistent</td>\n",
       "      <td>0</td>\n",
       "    </tr>\n",
       "    <tr>\n",
       "      <th>3</th>\n",
       "      <td>very little music or anything to speak of</td>\n",
       "      <td>0</td>\n",
       "    </tr>\n",
       "    <tr>\n",
       "      <th>4</th>\n",
       "      <td>the best scene in the movie was when gerardo is trying to find a song that keeps running through his head</td>\n",
       "      <td>1</td>\n",
       "    </tr>\n",
       "  </tbody>\n",
       "</table>\n",
       "</div>"
      ],
      "text/plain": [
       "                                                                                                                                                                                   review  \\\n",
       "0                                                                                                       a very very very slowmoving aimless movie about a distressed drifting young man     \n",
       "1                                                                                        not sure who was more lost  the flat characters or the audience nearly half of whom walked out     \n",
       "2  attempting artiness with black  white and clever camera angles the movie disappointed  became even more ridiculous  as the acting was poor and the plot and lines almost nonexistent     \n",
       "3                                                                                                                                             very little music or anything to speak of     \n",
       "4                                                                             the best scene in the movie was when gerardo is trying to find a song that keeps running through his head     \n",
       "\n",
       "   rating  \n",
       "0       0  \n",
       "1       0  \n",
       "2       0  \n",
       "3       0  \n",
       "4       1  "
      ]
     },
     "execution_count": 13,
     "metadata": {},
     "output_type": "execute_result"
    }
   ],
   "source": [
    "pd.set_option('display.max_colwidth', 5000)\n",
    "df_all.head(5)"
   ]
  },
  {
   "cell_type": "code",
   "execution_count": 14,
   "id": "f08c2ef7-b9c3-452f-8ab4-0f0353ef2b4d",
   "metadata": {
    "tags": []
   },
   "outputs": [
    {
     "name": "stdout",
     "output_type": "stream",
     "text": [
      "                                                                                                                                        review  \\\n",
      "0                                                                                       slowmoving aimless movie distressed drifting young man   \n",
      "1                                                                                        sure lost flat characters audience nearly half walked   \n",
      "2     attempting artiness black white clever camera angles movie disappointed became even ridiculous acting poor plot lines almost nonexistent   \n",
      "3                                                                                                                  little music anything speak   \n",
      "4                                                                                 best scene movie gerardo trying find song keeps running head   \n",
      "...                                                                                                                                        ...   \n",
      "2743                                                                                                         think food flavor texture lacking   \n",
      "2744                                                                                                                   appetite instantly gone   \n",
      "2745                                                                                                           overall impressed would go back   \n",
      "2746                                                                        whole experience underwhelming think well go ninja sushi next time   \n",
      "2747                                                                  hadnt wasted enough life poured salt wound drawing time took bring check   \n",
      "\n",
      "      rating  \n",
      "0          0  \n",
      "1          0  \n",
      "2          0  \n",
      "3          0  \n",
      "4          1  \n",
      "...      ...  \n",
      "2743       0  \n",
      "2744       0  \n",
      "2745       0  \n",
      "2746       0  \n",
      "2747       0  \n",
      "\n",
      "[2748 rows x 2 columns]\n"
     ]
    }
   ],
   "source": [
    "# Remove stop words\n",
    "description_list = []\n",
    "stop_words = set(stopwords.words('english'))\n",
    "\n",
    "for description in df_all['review']:\n",
    "    words = description.split()\n",
    "    filtered_words = [word for word in words if word.lower() not in stop_words]\n",
    "    filtered_description = ' '.join(filtered_words)\n",
    "    description_list.append(filtered_description)\n",
    "\n",
    "df_all['review'] = description_list\n",
    "\n",
    "print(df_all)"
   ]
  },
  {
   "cell_type": "code",
   "execution_count": 15,
   "id": "19abc40c-eed0-472c-aaac-682561505bb3",
   "metadata": {},
   "outputs": [],
   "source": [
    "# Lemmatization \n",
    "lemma_word = []\n",
    "wordnet_lemmatizer = WordNetLemmatizer()\n",
    "\n",
    "for description in df_all['review']:\n",
    "    words = description.split()\n",
    "    lemmatized_words = [wordnet_lemmatizer.lemmatize(word, pos=\"n\") for word in words]\n",
    "    lemmatized_words = [wordnet_lemmatizer.lemmatize(word, pos=\"v\") for word in lemmatized_words]\n",
    "    lemmatized_words = [wordnet_lemmatizer.lemmatize(word, pos=\"a\") for word in lemmatized_words]\n",
    "    lemma_description = ' '.join(lemmatized_words)\n",
    "    lemma_word.append(lemma_description)\n",
    "\n",
    "df_all['review'] = lemma_word"
   ]
  },
  {
   "cell_type": "code",
   "execution_count": 16,
   "id": "1801c9f5-52f1-47b6-9061-895782917ec1",
   "metadata": {
    "tags": []
   },
   "outputs": [
    {
     "name": "stdout",
     "output_type": "stream",
     "text": [
      "Max length of sentence is: 757\n",
      "Min length of sentence is: 1\n",
      "Median length of sentence is: 5.0\n"
     ]
    }
   ],
   "source": [
    "# Word Embedding length \n",
    "# Determine min, med, max lengths of reviews \n",
    "review_length = []\n",
    "\n",
    "for char_len in df_all.review: \n",
    "    review_length.append(len(char_len.split(\" \")))\n",
    "    review_max = np.max(review_length) \n",
    "    review_min = np.min(review_length) \n",
    "    review_median = np.median(review_length) \n",
    "    \n",
    "print(\"Max length of sentence is:\", review_max)\n",
    "print(\"Min length of sentence is:\", review_min)\n",
    "print(\"Median length of sentence is:\", review_median)"
   ]
  },
  {
   "cell_type": "markdown",
   "id": "43d7c2f0",
   "metadata": {},
   "source": [
    "# Vocabulary Size and Tokenization \n",
    "“The primary goal of tokenization is to represent text in a manner that’s meaningful for machines without losing its context. By converting text into tokens, algorithms can more easily identify patterns.” (Awan, 2023) Tokenization also helps with formatting and text standardization. Through TensorFlow, we will use the Keras API and the tokenizer class to tokenize our data."
   ]
  },
  {
   "cell_type": "code",
   "execution_count": 17,
   "id": "cd2323db-0f61-4757-b5b3-6cb259e65c81",
   "metadata": {},
   "outputs": [
    {
     "name": "stdout",
     "output_type": "stream",
     "text": [
      "Vocabulary size:  4426\n"
     ]
    }
   ],
   "source": [
    "# Vocabulary Size - Tokenization \n",
    "# Identify vocab size\n",
    "tokenizer = Tokenizer()\n",
    "tokenizer.fit_on_texts(df_all['review'])\n",
    "df_all['review'] = tokenizer.texts_to_sequences(df_all['review'])\n",
    "vocab_size = len(tokenizer.word_index)+1\n",
    "\n",
    "print(\"Vocabulary size: \", vocab_size)"
   ]
  },
  {
   "cell_type": "markdown",
   "id": "2d9138a6",
   "metadata": {},
   "source": [
    "# Word Embedding Length\n",
    "Embedding length was found by taking the fourth root of the vocab size and rounding up to the nearest integer. (Elleh, 2021) Embedding length is equal to 8. "
   ]
  },
  {
   "cell_type": "code",
   "execution_count": 18,
   "id": "5f1edfb9-86d6-4f95-a6e2-0688b59a04f3",
   "metadata": {
    "tags": []
   },
   "outputs": [
    {
     "name": "stdout",
     "output_type": "stream",
     "text": [
      "Maximum sequence length:  8\n"
     ]
    }
   ],
   "source": [
    "# Max sequence embedding \n",
    "max_sequence_embedding = int(round(np.sqrt(np.sqrt(vocab_size)), 0))\n",
    "print(\"Maximum sequence length: \", max_sequence_embedding)"
   ]
  },
  {
   "cell_type": "markdown",
   "id": "be8657b6",
   "metadata": {},
   "source": [
    "# Padding Process\n",
    "Padding was used to standardize the length of sequences. Neural networks need the input to be the same shape and size for all input values within the given data set (Elleh, 2021). It is evident that each review is not the same size therefore padding is added to make all input values the same throughout the data set. Padding was added after tokenization and was included after the sequence. Padding after the text sequence was chosen due to no sentence having missing values in the beginning of the sentence, rather after the sentence.   "
   ]
  },
  {
   "cell_type": "code",
   "execution_count": 19,
   "id": "085821ad-7356-4546-b835-304feb0885b3",
   "metadata": {},
   "outputs": [],
   "source": [
    "# Padding \n",
    "from keras.preprocessing.sequence import pad_sequences\n",
    "\n",
    "padded_sequences = pad_sequences(df_all['review'], padding='post', maxlen=review_max)"
   ]
  },
  {
   "cell_type": "code",
   "execution_count": 20,
   "id": "eff18676-1ad5-45f3-97b8-8c5f9fb8d2aa",
   "metadata": {
    "tags": []
   },
   "outputs": [
    {
     "data": {
      "text/plain": [
       "<bound method DataFrame.info of                                                                                        review  \\\n",
       "0                                                       [1849, 1850, 3, 1851, 1243, 624, 243]   \n",
       "1                                                     [212, 266, 738, 36, 625, 739, 371, 470]   \n",
       "2     [407, 1852, 193, 244, 547, 156, 740, 3, 48, 372, 24, 548, 53, 108, 109, 137, 245, 1853]   \n",
       "3                                                                         [74, 179, 246, 741]   \n",
       "4                                               [23, 79, 3, 1854, 58, 57, 338, 130, 307, 626]   \n",
       "...                                                                                       ...   \n",
       "2743                                                                 [29, 14, 242, 1194, 169]   \n",
       "2744                                                                         [4422, 4423, 13]   \n",
       "2745                                                                   [229, 176, 22, 13, 27]   \n",
       "2746                                          [279, 77, 1765, 29, 20, 13, 4424, 283, 219, 10]   \n",
       "2747                             [1327, 54, 70, 116, 4425, 1204, 643, 1626, 10, 62, 288, 231]   \n",
       "\n",
       "      rating  \n",
       "0          0  \n",
       "1          0  \n",
       "2          0  \n",
       "3          0  \n",
       "4          1  \n",
       "...      ...  \n",
       "2743       0  \n",
       "2744       0  \n",
       "2745       0  \n",
       "2746       0  \n",
       "2747       0  \n",
       "\n",
       "[2748 rows x 2 columns]>"
      ]
     },
     "execution_count": 20,
     "metadata": {},
     "output_type": "execute_result"
    }
   ],
   "source": [
    "df_all.info"
   ]
  },
  {
   "cell_type": "code",
   "execution_count": 21,
   "id": "f2b77a65-c5f2-46d6-b167-4a6a870b9712",
   "metadata": {
    "tags": []
   },
   "outputs": [
    {
     "name": "stdout",
     "output_type": "stream",
     "text": [
      "Here is the 1st sentence after tokenization and padding:  [1849 1850    3 1851 1243  624  243    0    0    0    0    0    0    0\n",
      "    0    0    0    0    0    0    0    0    0    0    0    0    0    0\n",
      "    0    0    0    0    0    0    0    0    0    0    0    0    0    0\n",
      "    0    0    0    0    0    0    0    0    0    0    0    0    0    0\n",
      "    0    0    0    0    0    0    0    0    0    0    0    0    0    0\n",
      "    0    0    0    0    0    0    0    0    0    0    0    0    0    0\n",
      "    0    0    0    0    0    0    0    0    0    0    0    0    0    0\n",
      "    0    0    0    0    0    0    0    0    0    0    0    0    0    0\n",
      "    0    0    0    0    0    0    0    0    0    0    0    0    0    0\n",
      "    0    0    0    0    0    0    0    0    0    0    0    0    0    0\n",
      "    0    0    0    0    0    0    0    0    0    0    0    0    0    0\n",
      "    0    0    0    0    0    0    0    0    0    0    0    0    0    0\n",
      "    0    0    0    0    0    0    0    0    0    0    0    0    0    0\n",
      "    0    0    0    0    0    0    0    0    0    0    0    0    0    0\n",
      "    0    0    0    0    0    0    0    0    0    0    0    0    0    0\n",
      "    0    0    0    0    0    0    0    0    0    0    0    0    0    0\n",
      "    0    0    0    0    0    0    0    0    0    0    0    0    0    0\n",
      "    0    0    0    0    0    0    0    0    0    0    0    0    0    0\n",
      "    0    0    0    0    0    0    0    0    0    0    0    0    0    0\n",
      "    0    0    0    0    0    0    0    0    0    0    0    0    0    0\n",
      "    0    0    0    0    0    0    0    0    0    0    0    0    0    0\n",
      "    0    0    0    0    0    0    0    0    0    0    0    0    0    0\n",
      "    0    0    0    0    0    0    0    0    0    0    0    0    0    0\n",
      "    0    0    0    0    0    0    0    0    0    0    0    0    0    0\n",
      "    0    0    0    0    0    0    0    0    0    0    0    0    0    0\n",
      "    0    0    0    0    0    0    0    0    0    0    0    0    0    0\n",
      "    0    0    0    0    0    0    0    0    0    0    0    0    0    0\n",
      "    0    0    0    0    0    0    0    0    0    0    0    0    0    0\n",
      "    0    0    0    0    0    0    0    0    0    0    0    0    0    0\n",
      "    0    0    0    0    0    0    0    0    0    0    0    0    0    0\n",
      "    0    0    0    0    0    0    0    0    0    0    0    0    0    0\n",
      "    0    0    0    0    0    0    0    0    0    0    0    0    0    0\n",
      "    0    0    0    0    0    0    0    0    0    0    0    0    0    0\n",
      "    0    0    0    0    0    0    0    0    0    0    0    0    0    0\n",
      "    0    0    0    0    0    0    0    0    0    0    0    0    0    0\n",
      "    0    0    0    0    0    0    0    0    0    0    0    0    0    0\n",
      "    0    0    0    0    0    0    0    0    0    0    0    0    0    0\n",
      "    0    0    0    0    0    0    0    0    0    0    0    0    0    0\n",
      "    0    0    0    0    0    0    0    0    0    0    0    0    0    0\n",
      "    0    0    0    0    0    0    0    0    0    0    0    0    0    0\n",
      "    0    0    0    0    0    0    0    0    0    0    0    0    0    0\n",
      "    0    0    0    0    0    0    0    0    0    0    0    0    0    0\n",
      "    0    0    0    0    0    0    0    0    0    0    0    0    0    0\n",
      "    0    0    0    0    0    0    0    0    0    0    0    0    0    0\n",
      "    0    0    0    0    0    0    0    0    0    0    0    0    0    0\n",
      "    0    0    0    0    0    0    0    0    0    0    0    0    0    0\n",
      "    0    0    0    0    0    0    0    0    0    0    0    0    0    0\n",
      "    0    0    0    0    0    0    0    0    0    0    0    0    0    0\n",
      "    0    0    0    0    0    0    0    0    0    0    0    0    0    0\n",
      "    0    0    0    0    0    0    0    0    0    0    0    0    0    0\n",
      "    0    0    0    0    0    0    0    0    0    0    0    0    0    0\n",
      "    0    0    0    0    0    0    0    0    0    0    0    0    0    0\n",
      "    0    0    0    0    0    0    0    0    0    0    0    0    0    0\n",
      "    0    0    0    0    0    0    0    0    0    0    0    0    0    0\n",
      "    0]\n"
     ]
    }
   ],
   "source": [
    "# Sentence after padding \n",
    "print(\"Here is the 1st sentence after tokenization and padding: \", padded_sequences[0])"
   ]
  },
  {
   "cell_type": "code",
   "execution_count": 22,
   "id": "bc819f12-b392-46b7-842c-1c4deef9d33d",
   "metadata": {
    "tags": []
   },
   "outputs": [
    {
     "name": "stdout",
     "output_type": "stream",
     "text": [
      "(1346, 757) (825, 757) (577, 757)\n"
     ]
    }
   ],
   "source": [
    "# Splitting Data into train and test \n",
    "from sklearn.model_selection import train_test_split\n",
    "X = padded_sequences\n",
    "y = np.array(df_all['rating'])\n",
    "\n",
    "X_train, X_test, y_train, y_test = train_test_split(X,y, test_size = 0.3, random_state = 7, stratify=y)\n",
    "\n",
    "X_train, X_validation, y_train, y_validation = train_test_split(X_train,y_train, test_size = 0.3, random_state = 7, stratify=y_train)\n",
    "\n",
    "\n",
    "print(X_train.shape, X_test.shape, X_validation.shape)"
   ]
  },
  {
   "cell_type": "code",
   "execution_count": 32,
   "id": "aece75cb-4edb-4344-9bb6-b05ce8ebdf2d",
   "metadata": {
    "tags": []
   },
   "outputs": [],
   "source": [
    "df_all_padded = df_all.copy()\n",
    "df_all_padded['review'] = list(padded_sequences)"
   ]
  },
  {
   "cell_type": "code",
   "execution_count": 34,
   "id": "92b4ebc2-52c8-45ad-a9d1-d6836b7de493",
   "metadata": {
    "tags": []
   },
   "outputs": [],
   "source": [
    "# Export clean data with padding \n",
    "df_all_padded.to_csv(\"C:/Users/Makayla Avendano/Desktop/D213_Padding_clean.csv\")"
   ]
  },
  {
   "cell_type": "code",
   "execution_count": 35,
   "id": "5769f108-a253-4a4a-85fd-ca611b25775f",
   "metadata": {
    "tags": []
   },
   "outputs": [],
   "source": [
    "# Export clean data \n",
    "df_all.to_csv(\"C:/Users/Makayla Avendano/Desktop/D213_Clean_All.csv\")"
   ]
  },
  {
   "cell_type": "code",
   "execution_count": 23,
   "id": "4f390276-0a1e-42ca-a3ec-8954c71a6c36",
   "metadata": {
    "tags": []
   },
   "outputs": [],
   "source": [
    "# Export padded training and test data with y train and test data \n",
    "pd.DataFrame(X_train).to_csv(\"C:/Users/Makayla Avendano/Desktop/X_train_D213_task2.csv\")\n",
    "pd.DataFrame(X_test).to_csv(\"C:/Users/Makayla Avendano/Desktop/X_test_D213_task2.csv\")\n",
    "pd.DataFrame(y_test).to_csv(\"C:/Users/Makayla Avendano/Desktop/y_test_D213_task2.csv\")\n",
    "pd.DataFrame(y_train).to_csv(\"C:/Users/Makayla Avendano/Desktop/y_train_D213_task2.csv\")\n",
    "pd.DataFrame(X_validation).to_csv(\"C:/Users/Makayla Avendano/Desktop/x_validation_D213_task2.csv\")\n",
    "pd.DataFrame(y_validation).to_csv(\"C:/Users/Makayla Avendano/Desktop/y_validation_D213_task2.csv\")"
   ]
  },
  {
   "cell_type": "code",
   "execution_count": 24,
   "id": "72d89663-d4cb-4b72-a050-b35fd0780f68",
   "metadata": {
    "tags": []
   },
   "outputs": [
    {
     "name": "stdout",
     "output_type": "stream",
     "text": [
      "Model: \"sequential\"\n",
      "_________________________________________________________________\n",
      " Layer (type)                Output Shape              Param #   \n",
      "=================================================================\n",
      " embedding (Embedding)       (None, 757, 64)           283264    \n",
      "                                                                 \n",
      " global_average_pooling1d (  (None, 64)                0         \n",
      " GlobalAveragePooling1D)                                         \n",
      "                                                                 \n",
      " dense (Dense)               (None, 100)               6500      \n",
      "                                                                 \n",
      " dense_1 (Dense)             (None, 50)                5050      \n",
      "                                                                 \n",
      " dense_2 (Dense)             (None, 1)                 51        \n",
      "                                                                 \n",
      "=================================================================\n",
      "Total params: 294865 (1.12 MB)\n",
      "Trainable params: 294865 (1.12 MB)\n",
      "Non-trainable params: 0 (0.00 Byte)\n",
      "_________________________________________________________________\n"
     ]
    }
   ],
   "source": [
    "# Building the model \n",
    "# Activation function \n",
    "\n",
    "activation = 'sigmoid'\n",
    "loss = 'binary_crossentropy'\n",
    "optimizer = 'adam'\n",
    "\n",
    "num_epochs = 40\n",
    "embedding_dim = 64\n",
    "\n",
    "# Early stopping monitor \n",
    "early_stopping_monitor = EarlyStopping(monitor='val_loss', patience=2) \n",
    "\n",
    "model = tf.keras.Sequential([\n",
    "    tf.keras.layers.Embedding(vocab_size, embedding_dim, input_length=int(review_max)),\n",
    "    tf.keras.layers.GlobalAveragePooling1D(),\n",
    "    tf.keras.layers.Dense(100, activation='relu'),\n",
    "    tf.keras.layers.Dense(50, activation='relu'),\n",
    "    tf.keras.layers.Dense(1, activation=activation)\n",
    "])\n",
    "\n",
    "model.compile(loss=loss, optimizer=optimizer, metrics=['accuracy'])\n",
    "\n",
    "model.summary()"
   ]
  },
  {
   "cell_type": "code",
   "execution_count": 25,
   "id": "c49485ac-3f69-424c-8b40-675574f2da47",
   "metadata": {
    "tags": []
   },
   "outputs": [
    {
     "name": "stdout",
     "output_type": "stream",
     "text": [
      "Epoch 1/40\n",
      "43/43 [==============================] - 1s 13ms/step - loss: 0.6941 - accuracy: 0.4955 - val_loss: 0.6931 - val_accuracy: 0.5042\n",
      "Epoch 2/40\n",
      "43/43 [==============================] - 0s 10ms/step - loss: 0.6935 - accuracy: 0.4614 - val_loss: 0.6931 - val_accuracy: 0.4958\n",
      "Epoch 3/40\n",
      "43/43 [==============================] - 0s 10ms/step - loss: 0.6932 - accuracy: 0.5082 - val_loss: 0.6931 - val_accuracy: 0.5042\n",
      "Epoch 4/40\n",
      "43/43 [==============================] - 0s 10ms/step - loss: 0.6936 - accuracy: 0.4673 - val_loss: 0.6931 - val_accuracy: 0.5200\n",
      "Epoch 5/40\n",
      "43/43 [==============================] - 0s 10ms/step - loss: 0.6932 - accuracy: 0.4747 - val_loss: 0.6931 - val_accuracy: 0.4958\n",
      "Epoch 6/40\n",
      "43/43 [==============================] - 0s 10ms/step - loss: 0.6932 - accuracy: 0.4703 - val_loss: 0.6930 - val_accuracy: 0.5042\n",
      "Epoch 7/40\n",
      "43/43 [==============================] - 0s 9ms/step - loss: 0.6934 - accuracy: 0.5052 - val_loss: 0.6931 - val_accuracy: 0.5042\n",
      "Epoch 8/40\n",
      "43/43 [==============================] - 0s 10ms/step - loss: 0.6934 - accuracy: 0.4926 - val_loss: 0.6932 - val_accuracy: 0.4958\n",
      "Epoch 9/40\n",
      "43/43 [==============================] - 0s 9ms/step - loss: 0.6928 - accuracy: 0.4955 - val_loss: 0.6932 - val_accuracy: 0.4958\n",
      "Epoch 10/40\n",
      "43/43 [==============================] - 0s 9ms/step - loss: 0.6927 - accuracy: 0.4955 - val_loss: 0.6932 - val_accuracy: 0.4958\n",
      "Epoch 11/40\n",
      "43/43 [==============================] - 0s 10ms/step - loss: 0.6923 - accuracy: 0.4985 - val_loss: 0.6931 - val_accuracy: 0.5055\n",
      "Epoch 12/40\n",
      "43/43 [==============================] - 0s 9ms/step - loss: 0.6923 - accuracy: 0.4955 - val_loss: 0.6930 - val_accuracy: 0.5055\n",
      "Epoch 13/40\n",
      "43/43 [==============================] - 0s 9ms/step - loss: 0.6924 - accuracy: 0.4926 - val_loss: 0.6932 - val_accuracy: 0.4958\n",
      "Epoch 14/40\n",
      "43/43 [==============================] - 0s 10ms/step - loss: 0.6922 - accuracy: 0.4985 - val_loss: 0.6930 - val_accuracy: 0.5055\n",
      "Epoch 15/40\n",
      "43/43 [==============================] - 0s 9ms/step - loss: 0.6921 - accuracy: 0.4970 - val_loss: 0.6931 - val_accuracy: 0.4958\n",
      "Epoch 16/40\n",
      "43/43 [==============================] - 0s 10ms/step - loss: 0.6923 - accuracy: 0.4762 - val_loss: 0.6930 - val_accuracy: 0.5055\n",
      "Epoch 17/40\n",
      "43/43 [==============================] - 0s 9ms/step - loss: 0.6921 - accuracy: 0.5059 - val_loss: 0.6930 - val_accuracy: 0.5055\n",
      "Epoch 18/40\n",
      "43/43 [==============================] - 0s 10ms/step - loss: 0.6919 - accuracy: 0.5059 - val_loss: 0.6929 - val_accuracy: 0.5055\n",
      "Epoch 19/40\n",
      "43/43 [==============================] - 0s 9ms/step - loss: 0.6920 - accuracy: 0.5059 - val_loss: 0.6928 - val_accuracy: 0.5055\n",
      "Epoch 20/40\n",
      "43/43 [==============================] - 0s 10ms/step - loss: 0.6920 - accuracy: 0.5059 - val_loss: 0.6928 - val_accuracy: 0.5055\n",
      "Epoch 21/40\n",
      "43/43 [==============================] - 0s 10ms/step - loss: 0.6924 - accuracy: 0.4978 - val_loss: 0.6930 - val_accuracy: 0.4958\n",
      "Epoch 22/40\n",
      "43/43 [==============================] - 0s 9ms/step - loss: 0.6920 - accuracy: 0.5134 - val_loss: 0.6929 - val_accuracy: 0.4958\n",
      "Epoch 23/40\n",
      "43/43 [==============================] - 0s 10ms/step - loss: 0.6919 - accuracy: 0.4963 - val_loss: 0.6928 - val_accuracy: 0.4958\n",
      "Epoch 24/40\n",
      "43/43 [==============================] - 0s 9ms/step - loss: 0.6923 - accuracy: 0.5015 - val_loss: 0.6926 - val_accuracy: 0.4958\n",
      "Epoch 25/40\n",
      "43/43 [==============================] - 0s 9ms/step - loss: 0.6907 - accuracy: 0.5201 - val_loss: 0.6928 - val_accuracy: 0.5055\n",
      "Epoch 26/40\n",
      "43/43 [==============================] - 0s 10ms/step - loss: 0.6912 - accuracy: 0.5059 - val_loss: 0.6934 - val_accuracy: 0.5042\n",
      "Epoch 27/40\n",
      "43/43 [==============================] - 0s 9ms/step - loss: 0.6933 - accuracy: 0.5045 - val_loss: 0.6914 - val_accuracy: 0.5055\n",
      "Epoch 28/40\n",
      "43/43 [==============================] - 0s 10ms/step - loss: 0.6881 - accuracy: 0.6263 - val_loss: 0.6877 - val_accuracy: 0.5418\n",
      "Epoch 29/40\n",
      "43/43 [==============================] - 0s 9ms/step - loss: 0.6814 - accuracy: 0.5364 - val_loss: 0.6794 - val_accuracy: 0.6630\n",
      "Epoch 30/40\n",
      "43/43 [==============================] - 0s 9ms/step - loss: 0.6581 - accuracy: 0.6909 - val_loss: 0.6647 - val_accuracy: 0.5345\n",
      "Epoch 31/40\n",
      "43/43 [==============================] - 0s 9ms/step - loss: 0.6342 - accuracy: 0.6181 - val_loss: 0.6475 - val_accuracy: 0.5661\n",
      "Epoch 32/40\n",
      "43/43 [==============================] - 0s 9ms/step - loss: 0.5468 - accuracy: 0.8314 - val_loss: 0.6299 - val_accuracy: 0.5770\n",
      "Epoch 33/40\n",
      "43/43 [==============================] - 0s 10ms/step - loss: 0.4553 - accuracy: 0.8187 - val_loss: 0.5759 - val_accuracy: 0.6836\n",
      "Epoch 34/40\n",
      "43/43 [==============================] - 0s 10ms/step - loss: 0.3457 - accuracy: 0.8767 - val_loss: 0.8039 - val_accuracy: 0.5709\n",
      "Epoch 35/40\n",
      "43/43 [==============================] - 0s 10ms/step - loss: 0.3044 - accuracy: 0.8767 - val_loss: 0.4832 - val_accuracy: 0.7612\n",
      "Epoch 36/40\n",
      "43/43 [==============================] - 0s 9ms/step - loss: 0.2396 - accuracy: 0.9160 - val_loss: 0.4552 - val_accuracy: 0.7903\n",
      "Epoch 37/40\n",
      "43/43 [==============================] - 0s 9ms/step - loss: 0.2404 - accuracy: 0.9056 - val_loss: 0.4623 - val_accuracy: 0.7952\n",
      "Epoch 38/40\n",
      "43/43 [==============================] - 0s 10ms/step - loss: 0.1871 - accuracy: 0.9368 - val_loss: 0.5826 - val_accuracy: 0.7200\n",
      "Epoch 39/40\n",
      "43/43 [==============================] - 0s 10ms/step - loss: 0.1965 - accuracy: 0.9190 - val_loss: 0.7594 - val_accuracy: 0.6570\n",
      "Epoch 40/40\n",
      "43/43 [==============================] - 0s 10ms/step - loss: 0.1728 - accuracy: 0.9361 - val_loss: 0.6400 - val_accuracy: 0.7055\n"
     ]
    }
   ],
   "source": [
    "# Training the model \n",
    "history = model.fit(X_train, y_train, validation_data=(X_test, y_test),batch_size=32, epochs=num_epochs)"
   ]
  },
  {
   "cell_type": "code",
   "execution_count": 26,
   "id": "56eca954-0be8-4fd6-911b-c19a1839c7ef",
   "metadata": {
    "tags": []
   },
   "outputs": [
    {
     "name": "stdout",
     "output_type": "stream",
     "text": [
      "Test loss: 0.6400107145309448 / Test accuracy: 0.7054545283317566\n"
     ]
    }
   ],
   "source": [
    "# Evaluation metric \n",
    "score = model.evaluate(X_test, y_test,verbose=0)\n",
    "print(f'Test loss: {score[0]} / Test accuracy: {score[1]}')"
   ]
  },
  {
   "cell_type": "code",
   "execution_count": 27,
   "id": "9ce9a3ae-baf5-4c63-bd15-684a6589c11d",
   "metadata": {
    "tags": []
   },
   "outputs": [
    {
     "name": "stdout",
     "output_type": "stream",
     "text": [
      "Epoch 1/40\n",
      "43/43 [==============================] - 0s 10ms/step - loss: 0.2019 - accuracy: 0.9220 - val_loss: 0.5219 - val_accuracy: 0.7745\n",
      "Epoch 2/40\n",
      "43/43 [==============================] - 0s 10ms/step - loss: 0.1346 - accuracy: 0.9577 - val_loss: 0.6503 - val_accuracy: 0.7455\n",
      "Epoch 3/40\n",
      "43/43 [==============================] - 0s 9ms/step - loss: 0.1360 - accuracy: 0.9532 - val_loss: 0.5659 - val_accuracy: 0.7636\n"
     ]
    }
   ],
   "source": [
    "# Training the model - with early stopping \n",
    "history2 = model.fit(X_train, y_train, validation_data=(X_test, y_test),batch_size=32, epochs=num_epochs, callbacks=[early_stopping_monitor])"
   ]
  },
  {
   "cell_type": "code",
   "execution_count": 28,
   "id": "d29777ba-0cef-4863-8c06-ae5c63a766a4",
   "metadata": {
    "tags": []
   },
   "outputs": [
    {
     "name": "stdout",
     "output_type": "stream",
     "text": [
      "Test loss: 0.5659159421920776 / Test accuracy: 0.7636363506317139\n"
     ]
    }
   ],
   "source": [
    "# Evaluation metric \n",
    "score = model.evaluate(X_test, y_test,verbose=0)\n",
    "print(f'Test loss: {score[0]} / Test accuracy: {score[1]}')"
   ]
  },
  {
   "cell_type": "code",
   "execution_count": 29,
   "id": "601ff5ce-7fe1-4d2d-82a8-29db88e232f1",
   "metadata": {
    "tags": []
   },
   "outputs": [
    {
     "data": {
      "image/png": "[encoded data removed]",
      "text/plain": [
       "<Figure size 640x480 with 1 Axes>"
      ]
     },
     "metadata": {},
     "output_type": "display_data"
    }
   ],
   "source": [
    "# Validation vs training data - comparing loss - with early stopping monitor \n",
    "plt.plot(history2.history['loss'])\n",
    "plt.plot(history2.history['val_loss'])\n",
    "plt.title('Validation vs Training Loss')\n",
    "plt.ylabel('Loss')\n",
    "plt.xlabel('Epoch')\n",
    "plt.legend(['Train', 'Validation'], loc='upper right')\n",
    "plt.show()"
   ]
  },
  {
   "cell_type": "code",
   "execution_count": 30,
   "id": "5b5b1825-3e7a-437a-8585-874ed02edaf3",
   "metadata": {
    "tags": []
   },
   "outputs": [
    {
     "data": {
      "image/png": "[encoded data removed]",
      "text/plain": [
       "<Figure size 640x480 with 1 Axes>"
      ]
     },
     "metadata": {},
     "output_type": "display_data"
    }
   ],
   "source": [
    "# Validation vs training data - comparing loss\n",
    "plt.plot(history.history['loss'])\n",
    "plt.plot(history.history['val_loss'])\n",
    "plt.title('Validation vs Training Loss')\n",
    "plt.ylabel('Loss')\n",
    "plt.xlabel('Epoch')\n",
    "plt.legend(['Train', 'Validation'], loc='upper right')\n",
    "plt.show()"
   ]
  },
  {
   "cell_type": "code",
   "execution_count": 31,
   "id": "1e98e583-cc31-4ec8-901d-32db854a36c0",
   "metadata": {
    "tags": []
   },
   "outputs": [
    {
     "data": {
      "image/png": "[encoded data removed]",
      "text/plain": [
       "<Figure size 640x480 with 1 Axes>"
      ]
     },
     "metadata": {},
     "output_type": "display_data"
    }
   ],
   "source": [
    "# Validation vs training data - comparing accuracy \n",
    "plt.plot(history2.history['accuracy'])\n",
    "plt.plot(history2.history['val_accuracy'])\n",
    "plt.title('Validation vs Training Accuracy')\n",
    "plt.ylabel('Accuracy')\n",
    "plt.xlabel('Epoch')\n",
    "plt.legend(['Train', 'Validation'], loc='lower right')\n",
    "plt.show()"
   ]
  },
  {
   "cell_type": "code",
   "execution_count": 32,
   "id": "c93347d8-7cb1-419c-b6d6-8b15ea3f1372",
   "metadata": {
    "tags": []
   },
   "outputs": [
    {
     "data": {
      "image/png": "[encoded data removed]",
      "text/plain": [
       "<Figure size 640x480 with 1 Axes>"
      ]
     },
     "metadata": {},
     "output_type": "display_data"
    }
   ],
   "source": [
    "# Validation vs training data - comparing accuracy \n",
    "plt.plot(history.history['accuracy'])\n",
    "plt.plot(history.history['val_accuracy'])\n",
    "plt.title('Validation vs Training Accuracy')\n",
    "plt.ylabel('Accuracy')\n",
    "plt.xlabel('Epoch')\n",
    "plt.legend(['Train', 'Validation'], loc='lower right')\n",
    "plt.show()"
   ]
  },
  {
   "cell_type": "markdown",
   "id": "ede02433",
   "metadata": {},
   "source": [
    "__Activation Function__<br>\n",
    "“An activation function allows the model to capture non-linearities.” (Becker et al, n.d.) \n",
    "Rectified Linear Activation (ReLu) used for the hidden layers and the sigmoid activation function was used for the final output layer due to the output being binary. \n",
    "\n",
    "__Number of Nodes per layer__<br>\n",
    "The number of nodes for our input layer is equal to our vocabulary size (4426). The number of nodes for our hidden layers are 100 and 50 nodes. Finally, our output layer has one node due to the sigmoid activation function and the binary nature of our data. \n",
    "\n",
    "__Loss Function__<br>\n",
    "The loss function is binary cross entropy. This type of loss function was chosen due to this analysis being binary. “Binary cross entropy is good for classification analysis, for those whose rating sentiments operate a binary 1 or 0 classification.” (Elleh, 2021)\n",
    "\n",
    "__Optimizer__ <br>\n",
    "The “adam” optimizer was utilized in this neural network. The “adam” optimizer is one of the most popular optimizers in neural networks and helps reduce overfitting. \n",
    "\n",
    "__Stopping Criteria__<br>\n",
    "Early stopping criteria is used to help improve the final model. This stopping criteria was paired with a patience value of 2 which means that the model will go only 2 epochs before the training is stopped. In total, 40 epochs were used as well. \n",
    "\n",
    "__Evaluation Metric__<br>\n",
    "The evaluation metric used was accuracy. The model resulted in a test accuracy of approximately 0.7636 or 76.36%. \n"
   ]
  },
  {
   "cell_type": "markdown",
   "id": "faf5cfc0",
   "metadata": {},
   "source": [
    "# Functionality \n",
    "The functionality of the neural network relies heavily on several different structural factors. The model uses an input of 2748 reviews to train the model. Natural language processing (NLP) was used to break down customer reviews to be able to analyze the sentiments of the customers from the reviews. This was completed using lemmatization and tokenization to make the reviews readable within our model. Our final product was a functioning model and neural network that could perform predictions and analyze a negative or positive sentiment from future customer reviews. The network architecture was also important in creating a highly functioning neural network. The components that had a high impact on the network’s architecture include the activation function, loss function, and early stopping monitor.\n",
    "\n",
    "- Activation function: The sigmoid activation function is optimized for binary output like our model. \n",
    "- Loss function: The binary cross entropy loss function is also optimized for binary output like our model and the sigmoid activation function. \n",
    "- Early stopping monitor: Early stopping with a patience level of 2 was used to help optimize the final model. \n",
    "\n",
    "These components allowed for an optimal model to be developed and a test accuracy of approximately 76.36%. \n",
    "\n",
    "# Recommendations \n",
    "A recommended course of action based on the results would be to congregate more data in order to further improve the data. Although the model allowed for an acceptable degree of accuracy, it can be further improved with a higher number of input values. "
   ]
  }
 ],
 "metadata": {
  "kernelspec": {
   "display_name": "Python 3 (ipykernel)",
   "language": "python",
   "name": "python3"
  },
  "language_info": {
   "codemirror_mode": {
    "name": "ipython",
    "version": 3
   },
   "file_extension": ".py",
   "mimetype": "text/x-python",
   "name": "python",
   "nbconvert_exporter": "python",
   "pygments_lexer": "ipython3",
   "version": "3.10.9"
  }
 },
 "nbformat": 4,
 "nbformat_minor": 5
}
