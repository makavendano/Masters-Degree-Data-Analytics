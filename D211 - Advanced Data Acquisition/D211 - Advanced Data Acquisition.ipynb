{
 "cells": [
  {
   "cell_type": "markdown",
   "id": "d744a062",
   "metadata": {},
   "source": [
    "# Advanced Data Acquisition\n",
    "Advanced Data Acquisition enhances theoretical and SQL skills in furthering the data analytics life cycle. This course covers advanced SQL operations, aggregating data, and acquiring data from various sources in support of core organizational needs."
   ]
  },
  {
   "cell_type": "markdown",
   "id": "54b6eb63",
   "metadata": {},
   "source": [
    "## Competencies \n",
    "__Advanced SQL Operations__ <br>\n",
    "Applies advanced SQL operations to integrate multiple data sources.\n",
    "\n",
    "__Explore Data__ <br>\n",
    "Explores data acquisition. "
   ]
  },
  {
   "cell_type": "markdown",
   "id": "d33525a4",
   "metadata": {},
   "source": [
    "# Write Up\n",
    "A dashboard was created looking at hospital readmissions and a secondary data set looking at hospital readmissions in California from 2011 to 2020.\n",
    "\n",
    "## Navigation Instructions \n",
    "The dashboard will start at the home page that has the title, description, and information for the creator. On this home page, there are also buttons labels for the 4 specific dashboards. \n",
    "\n",
    "The first button is health comparison. After clicking on the Health Comparison button, it will navigate you to the first medical issue dashboard view. This dashboard shows a comparison of all listed medical issues, a bar chart that shows the comparison of the medical issue and readmission, and lastly the rate of readmission for patients with that medical issue. The user can change medical issues by clicking on the buttons at the top of the dashboard to select the dashboard they would like to view. A navigation bar is on the right-hand side that has Home, Health Comparison, County Comparison, Services Comparison, and Age Comparison. \n",
    "\n",
    "Next, we can navigate either back to the home page or to the next page by clicking on the County Comparison button. The user can use the buttons on the side that indicate External or Original to look at the comparison of the external data set and the original data set’s comparison of counties. \n",
    "\n",
    "Next, we can navigate either back to the home page or to the next page by clicking on the Services Comparison button. The services dashboard does not have any interactive controls, but you are able to hover over the pie graphs and bar graphs to get rates and readmission counts.\n",
    "\n",
    "Lastly, we can navigate either back to the home page or to the next page by clicking on the last dashboard Age Comparison. This dashboard is also not interactive but does give relevant information when hovering over the bar graphs. "
   ]
  },
  {
   "cell_type": "markdown",
   "id": "970af147",
   "metadata": {},
   "source": [
    "## SQL Scripts"
   ]
  },
  {
   "cell_type": "code",
   "execution_count": null,
   "id": "7be38216",
   "metadata": {},
   "outputs": [],
   "source": [
    "CREATE TABLE cali_readmis (\n",
    "\tyear_readmis int, \n",
    "\tstrata varchar(50), \n",
    "\tstrata_name varchar(50),\n",
    "\tcounty varchar(50),\n",
    "\ttotal_admits int,\n",
    "\t\treadmits_cali int\n",
    ");\n",
    "\n",
    "-- Looking at table structure\n",
    "SELECT * FROM cali_readmis;\n",
    "\n",
    "-- Adding primary key \n",
    "ALTER TABLE cali_readmis\n",
    "ADD COLUMN readmis_id serial PRIMARY KEY; \n",
    "\n",
    "-- Join medical_data \n",
    "SELECT p.patient_id, p.age, p.readmis,\n",
    "\tl.zip, l.city, l.state, l.county\n",
    "FROM patient AS p\n",
    "JOIN location AS l ON p.location_id = l.location_id;\n",
    "\n",
    "-- Create new medical data table for the join\n",
    "CREATE TABLE new_med_data AS \n",
    "\tSELECT p.patient_id, p.age, p.readmis,\n",
    "\t\tl.zip, l.city, l.state, l.county\n",
    "\tFROM patient AS p\n",
    "\tJOIN location AS l ON p.location_id = l.location_id;\n",
    "\n",
    "-- Join the new medical data and the 2nd data set \n",
    "CREATE TABLE join_med_data AS \n",
    "\tSELECT a.patient_id, a.age, a.readmis, a.zip, a.city, a.state, a.county, \n",
    "\tb.year_readmis, b.strata, b.strata_name, b.total_admits, b.readmits_cali\n",
    "\tFROM new_med_data AS a\n",
    "\tJOIN cali_readmis AS b ON a.county = b.county;\n",
    "\n",
    "-- Look at final table \n",
    "SELECT * FROM join_med_data\n"
   ]
  },
  {
   "cell_type": "markdown",
   "id": "d6f569b3",
   "metadata": {},
   "source": [
    "## Dashboard Alignment\n",
    "The purpose and the function of this dashboard is to convert the medical data set into information that is simplified and easy to understand. The medical data set focuses on hospital readmissions and how negatively they affect hospitals economically. This dashboard is a way to look at the comparison of age groups and hospital readmissions as well as the comparison of county distribution and readmission. These dashboards lead to easy-to-understand conclusions and easy to make changes that need to be implemented to reduce hospital readmissions. "
   ]
  },
  {
   "cell_type": "markdown",
   "id": "b9fabc8e",
   "metadata": {},
   "source": [
    "## Business Intelligence Tool\n",
    "I selected to use Tableau as my business intelligence tool. Tableau is a powerful data visualization tool that, “is known for taking any kind of data from almost any system and turning it into actionable insights with speed and ease.” (Tableau, n.d) Tableau is helpful in bringing useful information to the table and showcasing it in an easy-to-understand manner. This is especially useful in terms of presenting to executive leaders that do not have the technical background to understand statistics without the valuable graph to pair it with. "
   ]
  },
  {
   "cell_type": "markdown",
   "id": "e9c8656a",
   "metadata": {},
   "source": [
    "## Data Cleaning\n",
    "The steps to clean the and prepare the data for analysis was done through Excel. For the original data set, I made sure to verify there was not any duplicates using the Remove Duplicates button on the necessary columns. Missing data was tested using filters and drop downs to verify all possible values within the columns. For the new data set, the same techniques were used. It was found that the columns for Total Readmissions and 30-day Readmissions had two separate columns where if one column had values the other did not meaning it was acceptable to combine the columns. Finally, the readmission rates column was removed due to being able to calculate this total within Tableau. \n",
    "\n",
    "## Data Analysis Results\n",
    "The results of the data analysis include high readmission counts in the highest populated county Los Angeles. If we compare highly populated counties with the highest readmission counts and rates, we see an apparent trend. This trend of high readmission rates and counts within highly populated areas is evident in both the external secondary data set. This can lead to executive decision-making shifting focus on highly populated areas to eliminate high readmission rates for there hospital chain. The age comparison did not provide high value information to make effective conclusions. \n",
    "\n",
    "## Analysis Limitations \n",
    "The limitations of my data analysis come from the secondary data set and uncertain timelines. The secondary data set has information on readmission rates in California, but it does not specify what hospital. This is a limitation because we could potentially be comparing different hospitals which could vary naturally based on different practices. Another limitation comes from the WGU data not including dates. The lack of dates makes for an undetermined timeline and leaves multiple questions unanswered causing the analysis to be limited.  "
   ]
  },
  {
   "cell_type": "code",
   "execution_count": null,
   "id": "aff4f117",
   "metadata": {},
   "outputs": [],
   "source": []
  }
 ],
 "metadata": {
  "kernelspec": {
   "display_name": "Python 3 (ipykernel)",
   "language": "python",
   "name": "python3"
  },
  "language_info": {
   "codemirror_mode": {
    "name": "ipython",
    "version": 3
   },
   "file_extension": ".py",
   "mimetype": "text/x-python",
   "name": "python",
   "nbconvert_exporter": "python",
   "pygments_lexer": "ipython3",
   "version": "3.10.9"
  }
 },
 "nbformat": 4,
 "nbformat_minor": 5
}
