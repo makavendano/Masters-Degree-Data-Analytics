{
 "cells": [
  {
   "cell_type": "markdown",
   "id": "673fbdf0",
   "metadata": {},
   "source": [
    "# Data Mining II - PCA \n"
   ]
  },
  {
   "cell_type": "markdown",
   "id": "3208269f",
   "metadata": {},
   "source": [
    "## Competencies \n",
    "__Dimension Reduction Methods__ <br>\n",
    "Implements dimension reduction methods to identify significant variables.  "
   ]
  },
  {
   "cell_type": "markdown",
   "id": "3978368c",
   "metadata": {},
   "source": [
    "## Write Up \n",
    "__Research Question__ <br>\n",
    "Can Principal Component Analysis (PCA) help determine the most informative variables for this hospital chain?\n",
    "\n",
    "__Goals__ <br>\n",
    "Can Principal Component Analysis (PCA) help determine the most informative variables for this hospital chain?\n",
    "\n",
    "__Explanation of the PCA__ <br>\n",
    "Principal Component Analysis is used to help determine the most important variables through dimension reduction. “Machine learning models with many input variables or higher dimensionality tend to fail when operating on a higher input dataset. PCA helps in identifying relationships among different variables & then coupling them.” (Vadapalli, 2020) PCA analyzes the data set through the transformation of the initial features into separate components  by applying a linear transformation and then ordering them by importance. (Kaloyanova, 2021) From here we would actively look at scree plots, the Kaiser rule, or total variance to determine the number of components we would like to keep. The expected outcomes after performing PCA would be a set of high-quality variables that can then be used to perform different analyses and answer more in-depth questions in the future.  These variables will also indicate the amount of variation these chosen components account for within the data set. \n",
    "\n",
    "__Summary of Assumptions__ <br>\n",
    "One assumption of PCA is linearity. A linear relationship is assumed between features meaning that it is most effective when there are relationships between the variables. “There must be linearity in the data set, i.e., the variables combine in a linear manner to form the dataset. The variables exhibit relationships among themselves.” (Vadapalli, 2020) "
   ]
  },
  {
   "cell_type": "markdown",
   "id": "cef77be3",
   "metadata": {},
   "source": [
    "# Code"
   ]
  },
  {
   "cell_type": "code",
   "execution_count": 1,
   "id": "467eaf1c-6fc0-476d-b59b-b733b5848645",
   "metadata": {
    "tags": []
   },
   "outputs": [],
   "source": [
    "# Importing packages\n",
    "import pandas as pd \n",
    "import numpy as np\n",
    "from sklearn.preprocessing import StandardScaler\n",
    "from sklearn.decomposition import PCA \n",
    "import matplotlib.pyplot as plt"
   ]
  },
  {
   "cell_type": "code",
   "execution_count": 2,
   "id": "7318a7fe-7e7d-4b2c-afa0-2c4cebedac85",
   "metadata": {
    "tags": []
   },
   "outputs": [],
   "source": [
    "# Importing medical data CSV and creating the medical_data DataFrame\n",
    "medical_data = pd.read_csv(\"C:/Users/Makayla Avendano/Desktop/medical_clean.csv\")"
   ]
  },
  {
   "cell_type": "code",
   "execution_count": 3,
   "id": "43ea5987-c4fa-4354-81d8-1e2ca823f47c",
   "metadata": {
    "tags": []
   },
   "outputs": [
    {
     "data": {
      "text/plain": [
       "Index(['CaseOrder', 'Customer_id', 'Interaction', 'UID', 'City', 'State',\n",
       "       'County', 'Zip', 'Lat', 'Lng', 'Population', 'Area', 'TimeZone', 'Job',\n",
       "       'Children', 'Age', 'Income', 'Marital', 'Gender', 'ReAdmis',\n",
       "       'VitD_levels', 'Doc_visits', 'Full_meals_eaten', 'vitD_supp',\n",
       "       'Soft_drink', 'Initial_admin', 'HighBlood', 'Stroke',\n",
       "       'Complication_risk', 'Overweight', 'Arthritis', 'Diabetes',\n",
       "       'Hyperlipidemia', 'BackPain', 'Anxiety', 'Allergic_rhinitis',\n",
       "       'Reflux_esophagitis', 'Asthma', 'Services', 'Initial_days',\n",
       "       'TotalCharge', 'Additional_charges', 'Item1', 'Item2', 'Item3', 'Item4',\n",
       "       'Item5', 'Item6', 'Item7', 'Item8'],\n",
       "      dtype='object')"
      ]
     },
     "execution_count": 3,
     "metadata": {},
     "output_type": "execute_result"
    }
   ],
   "source": [
    "# Looking at columns, non-null counts and data types \n",
    "medical_data.columns"
   ]
  },
  {
   "cell_type": "code",
   "execution_count": 4,
   "id": "7336fe3b-4e4f-4d44-9396-3132838cb388",
   "metadata": {
    "tags": []
   },
   "outputs": [
    {
     "name": "stdout",
     "output_type": "stream",
     "text": [
      "<class 'pandas.core.frame.DataFrame'>\n",
      "RangeIndex: 10000 entries, 0 to 9999\n",
      "Data columns (total 23 columns):\n",
      " #   Column              Non-Null Count  Dtype  \n",
      "---  ------              --------------  -----  \n",
      " 0   CaseOrder           10000 non-null  int64  \n",
      " 1   Zip                 10000 non-null  int64  \n",
      " 2   Lat                 10000 non-null  float64\n",
      " 3   Lng                 10000 non-null  float64\n",
      " 4   Population          10000 non-null  int64  \n",
      " 5   Children            10000 non-null  int64  \n",
      " 6   Age                 10000 non-null  int64  \n",
      " 7   Income              10000 non-null  float64\n",
      " 8   VitD_levels         10000 non-null  float64\n",
      " 9   Doc_visits          10000 non-null  int64  \n",
      " 10  Full_meals_eaten    10000 non-null  int64  \n",
      " 11  vitD_supp           10000 non-null  int64  \n",
      " 12  Initial_days        10000 non-null  float64\n",
      " 13  TotalCharge         10000 non-null  float64\n",
      " 14  Additional_charges  10000 non-null  float64\n",
      " 15  Item1               10000 non-null  int64  \n",
      " 16  Item2               10000 non-null  int64  \n",
      " 17  Item3               10000 non-null  int64  \n",
      " 18  Item4               10000 non-null  int64  \n",
      " 19  Item5               10000 non-null  int64  \n",
      " 20  Item6               10000 non-null  int64  \n",
      " 21  Item7               10000 non-null  int64  \n",
      " 22  Item8               10000 non-null  int64  \n",
      "dtypes: float64(7), int64(16)\n",
      "memory usage: 1.8 MB\n"
     ]
    }
   ],
   "source": [
    "medical_data = medical_data.select_dtypes(exclude='object')\n",
    "medical_data.info()"
   ]
  },
  {
   "cell_type": "code",
   "execution_count": 5,
   "id": "bfbc75da-8257-439c-99f8-543b3b690b87",
   "metadata": {},
   "outputs": [
    {
     "data": {
      "text/plain": [
       "(10000, 23)"
      ]
     },
     "execution_count": 5,
     "metadata": {},
     "output_type": "execute_result"
    }
   ],
   "source": [
    "medical_data.shape"
   ]
  },
  {
   "cell_type": "markdown",
   "id": "fcf53fc1",
   "metadata": {},
   "source": [
    "## Continuous Data Set Variables\n",
    "To carry our Principal Component Analysis (PCA), we began with a total of 20 continuous variables. "
   ]
  },
  {
   "cell_type": "code",
   "execution_count": 6,
   "id": "0e5db2e9-ee65-4d6b-a988-a6101bf612f2",
   "metadata": {
    "tags": []
   },
   "outputs": [
    {
     "data": {
      "text/plain": [
       "(10000, 20)"
      ]
     },
     "execution_count": 6,
     "metadata": {},
     "output_type": "execute_result"
    }
   ],
   "source": [
    "medical_data = medical_data.drop(columns=['CaseOrder','Zip','Children'])\n",
    "medical_data.shape"
   ]
  },
  {
   "cell_type": "code",
   "execution_count": 7,
   "id": "deac9727-f38d-4616-8802-763fb2850825",
   "metadata": {
    "tags": []
   },
   "outputs": [
    {
     "name": "stdout",
     "output_type": "stream",
     "text": [
      "False    10000\n",
      "Name: count, dtype: int64\n"
     ]
    }
   ],
   "source": [
    "# Duplicates \n",
    "medical_duplicates = medical_data.duplicated()\n",
    "print(medical_duplicates.value_counts())"
   ]
  },
  {
   "cell_type": "code",
   "execution_count": 8,
   "id": "7653cdb9-c29b-4e54-bcdc-45ebf5d43837",
   "metadata": {
    "tags": []
   },
   "outputs": [
    {
     "data": {
      "text/plain": [
       "Lat                   0\n",
       "Lng                   0\n",
       "Population            0\n",
       "Age                   0\n",
       "Income                0\n",
       "VitD_levels           0\n",
       "Doc_visits            0\n",
       "Full_meals_eaten      0\n",
       "vitD_supp             0\n",
       "Initial_days          0\n",
       "TotalCharge           0\n",
       "Additional_charges    0\n",
       "Item1                 0\n",
       "Item2                 0\n",
       "Item3                 0\n",
       "Item4                 0\n",
       "Item5                 0\n",
       "Item6                 0\n",
       "Item7                 0\n",
       "Item8                 0\n",
       "dtype: int64"
      ]
     },
     "execution_count": 8,
     "metadata": {},
     "output_type": "execute_result"
    }
   ],
   "source": [
    "# Missing Values \n",
    "# Sum of all null values within each column \n",
    "medical_data.isnull().sum()"
   ]
  },
  {
   "cell_type": "code",
   "execution_count": 9,
   "id": "f22cf7de-2b27-478f-a1dc-84a66d693e3f",
   "metadata": {
    "tags": []
   },
   "outputs": [],
   "source": [
    "# Standardize the data\n",
    "scaler = StandardScaler()\n",
    "scaler.fit(medical_data)\n",
    "med_scaled = scaler.transform(medical_data)"
   ]
  },
  {
   "cell_type": "code",
   "execution_count": 10,
   "id": "82df904b-9ca0-4799-b024-5d7b2762ebb7",
   "metadata": {
    "tags": []
   },
   "outputs": [],
   "source": [
    "# Export CSV of scaled data \n",
    "medical_data.to_csv(\"C:/Users/Makayla Avendano/Desktop/medical_clean_scaled.csv\")"
   ]
  },
  {
   "cell_type": "code",
   "execution_count": 11,
   "id": "21ffe664-c150-41c5-95ed-5bf199c2f327",
   "metadata": {
    "tags": []
   },
   "outputs": [
    {
     "name": "stdout",
     "output_type": "stream",
     "text": [
      "           PC1       PC2       PC3       PC4       PC5       PC6       PC7  \\\n",
      "0    -1.519279 -1.165458  0.584076 -0.465665  0.640412 -0.759761  0.211459   \n",
      "1    -0.366928 -0.811333  0.555689 -0.044774  1.180660  0.665514 -0.328139   \n",
      "2    -0.176833 -1.650509  0.725806  0.471197 -0.487736  0.655628  0.013341   \n",
      "3     2.428912 -1.725013  0.917456 -0.655614 -1.014806 -0.285474 -0.609386   \n",
      "4    -2.405192 -2.135004 -1.722286  0.341696  0.289997 -1.247178 -0.894971   \n",
      "...        ...       ...       ...       ...       ...       ...       ...   \n",
      "9995 -2.146748  0.716268 -1.388553  0.402625  0.189080  0.153134 -1.021901   \n",
      "9996 -0.672880  2.017320  2.390191 -1.753044 -0.160581 -0.143495 -1.386020   \n",
      "9997 -1.966834  1.768333 -0.244818 -0.102637 -0.121117  0.505154 -0.807894   \n",
      "9998  0.799182  1.410894 -1.115197 -0.738233 -1.449046  0.801979  0.657582   \n",
      "9999  0.640899  1.958693  0.112263 -0.014940  1.388740 -0.953508  0.685806   \n",
      "\n",
      "           PC8       PC9      PC10      PC11      PC12      PC13      PC14  \\\n",
      "0     1.872372 -0.606402 -0.241383 -1.181839  1.140575  0.775498 -0.557897   \n",
      "1    -0.542646  0.280002  1.676181  0.009029 -0.459924  0.612403  0.129634   \n",
      "2    -1.335952 -0.201221 -0.639855 -0.218838 -0.521462 -0.780062  0.635452   \n",
      "3    -0.696545 -0.999293 -0.237978 -0.075069  1.021928 -0.283843 -0.636847   \n",
      "4    -0.855809  2.662371  0.389742  0.431972  0.711270 -0.000066 -1.496759   \n",
      "...        ...       ...       ...       ...       ...       ...       ...   \n",
      "9995 -0.373854  0.067538  1.547722  0.652691 -0.331975 -0.328348 -1.566467   \n",
      "9996  0.281589  0.276811 -1.199528 -0.556555  1.179891 -0.038381 -0.831270   \n",
      "9997  0.040441 -1.407340  0.978051  0.141784 -1.215763  0.230369 -0.029743   \n",
      "9998 -0.203304  0.965130  0.980167  0.119769 -0.573520 -0.106240 -0.146766   \n",
      "9999  0.090397  0.471955  0.278728 -0.716058  0.296059 -2.002049 -0.967001   \n",
      "\n",
      "          PC15      PC16      PC17      PC18      PC19      PC20  \n",
      "0     0.549978  0.038954  0.659216 -0.118786 -0.553858  0.104084  \n",
      "1     0.492862  0.818565  0.273603  0.648900 -0.602055  0.123912  \n",
      "2     0.354206 -0.339503 -0.255211  1.506111 -0.498777 -0.158576  \n",
      "3     0.158756  0.153269 -0.707819  1.815854  0.842716 -0.117791  \n",
      "4    -0.129655  0.455273 -1.702426 -0.103202 -0.116501 -0.135354  \n",
      "...        ...       ...       ...       ...       ...       ...  \n",
      "9995  0.294796  0.379793  0.050727 -0.695123 -0.529992  0.023840  \n",
      "9996 -0.292813 -0.041368 -0.910713  0.366647 -0.559529 -0.174501  \n",
      "9997 -0.839156  0.227190  0.250497 -0.180708 -0.560472 -0.021842  \n",
      "9998 -0.792062  0.916832  1.424148 -0.501724  0.217933 -0.010416  \n",
      "9999  2.574337 -0.173252 -0.354948 -0.465512  0.765654 -0.112615  \n",
      "\n",
      "[10000 rows x 20 columns]\n"
     ]
    }
   ],
   "source": [
    "pca_med = PCA(n_components=20)\n",
    "pca_med.fit(med_scaled)\n",
    "pca_med_final = pca_med.transform(med_scaled)\n",
    "\n",
    "# Create DataFrame\n",
    "pca_med_df = pd.DataFrame(pca_med_final, columns=['PC1', 'PC2', 'PC3', 'PC4', 'PC5','PC6', 'PC7', 'PC8', 'PC9', 'PC10','PC11', 'PC12', 'PC13', 'PC14','PC15', 'PC16', 'PC17', 'PC18', 'PC19', 'PC20'])\n",
    "print(pca_med_df)"
   ]
  },
  {
   "cell_type": "code",
   "execution_count": 12,
   "id": "d82213c7-2248-4b40-9469-05e225ec8f8d",
   "metadata": {
    "tags": []
   },
   "outputs": [
    {
     "name": "stdout",
     "output_type": "stream",
     "text": [
      "Variance explained by all 20 principal components = 100.00000000000003\n"
     ]
    }
   ],
   "source": [
    "print(\"Variance explained by all 20 principal components =\", sum(pca_med.explained_variance_ratio_ * 100))"
   ]
  },
  {
   "cell_type": "markdown",
   "id": "a81fdbd9",
   "metadata": {},
   "source": [
    "## Variance of Each Component"
   ]
  },
  {
   "cell_type": "code",
   "execution_count": 13,
   "id": "a84be09b-786b-438a-8992-56cfc859c27b",
   "metadata": {
    "tags": []
   },
   "outputs": [
    {
     "name": "stdout",
     "output_type": "stream",
     "text": [
      "      Captured Variance Per PC\n",
      "PC1                      14.77\n",
      "PC2                       9.97\n",
      "PC3                       8.58\n",
      "PC4                       8.25\n",
      "PC5                       6.14\n",
      "PC6                       5.20\n",
      "PC7                       5.17\n",
      "PC8                       5.03\n",
      "PC9                       5.01\n",
      "PC10                      4.88\n",
      "PC11                      4.85\n",
      "PC12                      3.85\n",
      "PC13                      3.74\n",
      "PC14                      3.48\n",
      "PC15                      2.94\n",
      "PC16                      2.67\n",
      "PC17                      2.36\n",
      "PC18                      1.64\n",
      "PC19                      1.42\n",
      "PC20                      0.06\n"
     ]
    }
   ],
   "source": [
    "varex1 = pca_med.explained_variance_ratio_ * 100\n",
    "var_df1 = pd.DataFrame(varex1.round(2), columns=['Captured Variance Per PC'], index=['PC1', 'PC2', 'PC3', 'PC4', 'PC5','PC6', 'PC7', 'PC8', 'PC9', 'PC10','PC11', 'PC12', 'PC13', 'PC14','PC15', 'PC16', 'PC17', 'PC18', 'PC19', 'PC20'])\n",
    "print(var_df1)                  "
   ]
  },
  {
   "cell_type": "markdown",
   "id": "eff37eeb",
   "metadata": {},
   "source": [
    "## Identification of the Total Number of Components\n",
    "Using the Kaiser criterion, the total number of principal components is 9. The Kaiser criterion states to keep all principal components with an eigenvalue of 1 or higher and remove the remaining. Looking at the table of eigenvalues, it is evident that PC1 through PC 9 are at 1 or above. This information is also evident in the scree plot with the red horizontal line at 1. "
   ]
  },
  {
   "cell_type": "code",
   "execution_count": 14,
   "id": "1a4a0073-2f95-455b-90dd-8dff5f4cadfb",
   "metadata": {
    "tags": []
   },
   "outputs": [
    {
     "name": "stdout",
     "output_type": "stream",
     "text": [
      "      Eigenvalues Per PC\n",
      "PC1               2.9553\n",
      "PC2               1.9938\n",
      "PC3               1.7166\n",
      "PC4               1.6500\n",
      "PC5               1.2273\n",
      "PC6               1.0398\n",
      "PC7               1.0339\n",
      "PC8               1.0067\n",
      "PC9               1.0013\n",
      "PC10              0.9766\n",
      "PC11              0.9704\n",
      "PC12              0.7702\n",
      "PC13              0.7477\n",
      "PC14              0.6961\n",
      "PC15              0.5877\n",
      "PC16              0.5333\n",
      "PC17              0.4730\n",
      "PC18              0.3273\n",
      "PC19              0.2832\n",
      "PC20              0.0117\n"
     ]
    }
   ],
   "source": [
    "eigenvalues = pca_med.explained_variance_\n",
    "eigen_df = pd.DataFrame(eigenvalues.round(4), columns=['Eigenvalues Per PC'], index=['PC1', 'PC2', 'PC3', 'PC4', 'PC5','PC6', 'PC7', 'PC8', 'PC9', 'PC10','PC11', 'PC12', 'PC13', 'PC14','PC15', 'PC16', 'PC17', 'PC18', 'PC19', 'PC20'])\n",
    "print(eigen_df)"
   ]
  },
  {
   "cell_type": "markdown",
   "id": "6976f1d0",
   "metadata": {},
   "source": [
    "PC10 is equal to 0.97 which is not at or above 1. As the principal components get higher, the eigenvalues decrease. This means that at PC9 (1.0013) we cut off principal components and decide to keep 1 – 9. \n",
    "\n",
    "Using the Kaiser criterion, the selected principal components would be PC1 – PC9. This information means that when moving forward with different analyses for this hospital chain we can keep the principal components 1 – 9 and look at different aspects of the data in a more concentrated way. "
   ]
  },
  {
   "cell_type": "code",
   "execution_count": 15,
   "id": "da510927-1a1c-4d4b-8df5-d0d29cecff08",
   "metadata": {
    "tags": []
   },
   "outputs": [
    {
     "data": {
      "image/png": "[encoded data removed]",
      "text/plain": [
       "<Figure size 640x480 with 1 Axes>"
      ]
     },
     "metadata": {},
     "output_type": "display_data"
    }
   ],
   "source": [
    "# Scree Plot - Eigenvalues \n",
    "plt.plot(eigenvalues)\n",
    "plt.xlabel('Number of components') \n",
    "plt.ylabel('eigenvalues')\n",
    "plt.axhline(y=1, color=\"red\")\n",
    "plt.show()"
   ]
  },
  {
   "cell_type": "code",
   "execution_count": 16,
   "id": "1741ea9e-49a8-439d-a9e3-04ebacb5382e",
   "metadata": {
    "tags": []
   },
   "outputs": [
    {
     "data": {
      "image/png": "[encoded data removed]",
      "text/plain": [
       "<Figure size 640x480 with 1 Axes>"
      ]
     },
     "metadata": {},
     "output_type": "display_data"
    }
   ],
   "source": [
    "# Explained Variance\n",
    "plt.plot(np.cumsum(pca_med.explained_variance_ratio_))\n",
    "plt.xlabel('Number of Components')\n",
    "plt.ylabel('Explained Variance')\n",
    "plt.show()"
   ]
  },
  {
   "cell_type": "code",
   "execution_count": 17,
   "id": "07d120cd-e6f3-4061-a748-42b3d8a9c8b5",
   "metadata": {
    "tags": []
   },
   "outputs": [
    {
     "name": "stdout",
     "output_type": "stream",
     "text": [
      "[ 14.77481132  24.74280689  33.32514056  41.57445317  47.71051037\n",
      "  52.90890158  58.07766136  63.11069389  68.11652334  72.99906842\n",
      "  77.85050105  81.70093108  85.43930706  88.91954146  91.85797657\n",
      "  94.52427229  96.88920029  98.52571505  99.94147862 100.        ]\n"
     ]
    }
   ],
   "source": [
    "# Cumulative sum of Array \n",
    "cumulative_variance = np.cumsum(pca_med.explained_variance_ratio_ * 100)\n",
    "print(cumulative_variance) "
   ]
  },
  {
   "cell_type": "markdown",
   "id": "913398dc",
   "metadata": {},
   "source": [
    "## Total Variance Captured by Components\n",
    "\n",
    "The variance total for the principal components is relatively low at 68%, but dependent on the share holders wants and needs we can adjust if needed to include principal components based on a certain variance total instead of utilizing the Kaiser rule. "
   ]
  },
  {
   "cell_type": "code",
   "execution_count": 18,
   "id": "71513a6b-d541-4279-9535-d3b95915ca44",
   "metadata": {
    "tags": []
   },
   "outputs": [
    {
     "data": {
      "text/plain": [
       "68.11652333769824"
      ]
     },
     "execution_count": 18,
     "metadata": {},
     "output_type": "execute_result"
    }
   ],
   "source": [
    "# Variance explained by certain amount of PC's - Kaiser Rule eigenvalues (9)\n",
    "np.cumsum(pca_med.explained_variance_ratio_ * 100) [8]"
   ]
  }
 ],
 "metadata": {
  "kernelspec": {
   "display_name": "Python 3 (ipykernel)",
   "language": "python",
   "name": "python3"
  },
  "language_info": {
   "codemirror_mode": {
    "name": "ipython",
    "version": 3
   },
   "file_extension": ".py",
   "mimetype": "text/x-python",
   "name": "python",
   "nbconvert_exporter": "python",
   "pygments_lexer": "ipython3",
   "version": "3.10.9"
  }
 },
 "nbformat": 4,
 "nbformat_minor": 5
}
